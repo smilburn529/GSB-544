{
 "cells": [
  {
   "cell_type": "raw",
   "metadata": {},
   "source": [
    "---\n",
    "title: \"Lab 8: Cannabis Types\"\n",
    "author: \"Steve Milburn\"\n",
    "embed-resources: true\n",
    "---"
   ]
  },
  {
   "cell_type": "code",
   "execution_count": 22,
   "metadata": {
    "vscode": {
     "languageId": "python"
    }
   },
   "outputs": [],
   "source": [
    "import pandas as pd\n",
    "import numpy as np\n",
    "import matplotlib.pyplot as plt\n",
    "from sklearn.pipeline import Pipeline\n",
    "from sklearn.neighbors import KNeighborsClassifier\n",
    "from sklearn.tree import DecisionTreeClassifier\n",
    "from sklearn.linear_model import LogisticRegression, LinearRegression, Ridge, Lasso, ElasticNet\n",
    "from sklearn.compose import make_column_selector, ColumnTransformer\n",
    "from sklearn.discriminant_analysis import LinearDiscriminantAnalysis, QuadraticDiscriminantAnalysis\n",
    "from sklearn.svm import SVC\n",
    "from sklearn.preprocessing import StandardScaler, OneHotEncoder\n",
    "from sklearn.model_selection import GridSearchCV, cross_val_score, cross_val_predict, train_test_split\n",
    "from sklearn.tree import DecisionTreeClassifier, plot_tree\n",
    "from sklearn.metrics import get_scorer_names, confusion_matrix, ConfusionMatrixDisplay, classification_report, mean_squared_error\n",
    "import warnings\n",
    "from sklearn.impute import SimpleImputer"
   ]
  },
  {
   "cell_type": "code",
   "execution_count": 148,
   "metadata": {
    "vscode": {
     "languageId": "python"
    }
   },
   "outputs": [],
   "source": [
    "train = pd.read_csv(\"CAH-201803-train.csv\")"
   ]
  },
  {
   "cell_type": "code",
   "execution_count": 3,
   "metadata": {
    "vscode": {
     "languageId": "python"
    }
   },
   "outputs": [
    {
     "data": {
      "text/html": [
       "<div>\n",
       "<style scoped>\n",
       "    .dataframe tbody tr th:only-of-type {\n",
       "        vertical-align: middle;\n",
       "    }\n",
       "\n",
       "    .dataframe tbody tr th {\n",
       "        vertical-align: top;\n",
       "    }\n",
       "\n",
       "    .dataframe thead th {\n",
       "        text-align: right;\n",
       "    }\n",
       "</style>\n",
       "<table border=\"1\" class=\"dataframe\">\n",
       "  <thead>\n",
       "    <tr style=\"text-align: right;\">\n",
       "      <th></th>\n",
       "      <th>id_num</th>\n",
       "      <th>Q1</th>\n",
       "      <th>Q2</th>\n",
       "      <th>political_affiliation</th>\n",
       "      <th>Q4</th>\n",
       "      <th>Q5</th>\n",
       "      <th>Q6</th>\n",
       "      <th>Q7</th>\n",
       "      <th>Q8</th>\n",
       "      <th>Q9</th>\n",
       "      <th>Q10</th>\n",
       "      <th>Q11</th>\n",
       "      <th>Q12</th>\n",
       "      <th>Q13</th>\n",
       "      <th>Q14</th>\n",
       "      <th>Q15</th>\n",
       "      <th>Q16</th>\n",
       "      <th>Q17</th>\n",
       "      <th>Q18</th>\n",
       "    </tr>\n",
       "  </thead>\n",
       "  <tbody>\n",
       "    <tr>\n",
       "      <th>0</th>\n",
       "      <td>1</td>\n",
       "      <td>Male</td>\n",
       "      <td>53</td>\n",
       "      <td>Independent</td>\n",
       "      <td>Liberal</td>\n",
       "      <td>College degree</td>\n",
       "      <td>Black</td>\n",
       "      <td>No</td>\n",
       "      <td>No</td>\n",
       "      <td>No</td>\n",
       "      <td>Yes, somewhat religious</td>\n",
       "      <td>Pro-Choice</td>\n",
       "      <td>No</td>\n",
       "      <td>No</td>\n",
       "      <td>Behave no differently</td>\n",
       "      <td>5</td>\n",
       "      <td>2</td>\n",
       "      <td>5</td>\n",
       "      <td>No</td>\n",
       "    </tr>\n",
       "    <tr>\n",
       "      <th>1</th>\n",
       "      <td>5</td>\n",
       "      <td>Female</td>\n",
       "      <td>66</td>\n",
       "      <td>Independent</td>\n",
       "      <td>Conservative</td>\n",
       "      <td>Some college</td>\n",
       "      <td>White</td>\n",
       "      <td>Yes</td>\n",
       "      <td>No</td>\n",
       "      <td>Yes</td>\n",
       "      <td>Yes, very religious</td>\n",
       "      <td>Pro-life</td>\n",
       "      <td>Yes</td>\n",
       "      <td>Yes</td>\n",
       "      <td>Less Willing</td>\n",
       "      <td>4</td>\n",
       "      <td>5</td>\n",
       "      <td>4</td>\n",
       "      <td>No</td>\n",
       "    </tr>\n",
       "    <tr>\n",
       "      <th>2</th>\n",
       "      <td>7</td>\n",
       "      <td>Female</td>\n",
       "      <td>58</td>\n",
       "      <td>Democrat</td>\n",
       "      <td>Liberal</td>\n",
       "      <td>College degree</td>\n",
       "      <td>White</td>\n",
       "      <td>No</td>\n",
       "      <td>No</td>\n",
       "      <td>No</td>\n",
       "      <td>Yes, very religious</td>\n",
       "      <td>Pro-Choice</td>\n",
       "      <td>No</td>\n",
       "      <td>No</td>\n",
       "      <td>Behave no differently</td>\n",
       "      <td>5</td>\n",
       "      <td>1</td>\n",
       "      <td>4</td>\n",
       "      <td>Yes</td>\n",
       "    </tr>\n",
       "    <tr>\n",
       "      <th>3</th>\n",
       "      <td>8</td>\n",
       "      <td>Male</td>\n",
       "      <td>55</td>\n",
       "      <td>Independent</td>\n",
       "      <td>Moderate</td>\n",
       "      <td>High school or less</td>\n",
       "      <td>White</td>\n",
       "      <td>Yes</td>\n",
       "      <td>Yes</td>\n",
       "      <td>Yes</td>\n",
       "      <td>Yes, somewhat religious</td>\n",
       "      <td>Pro-life</td>\n",
       "      <td>Yes</td>\n",
       "      <td>Yes</td>\n",
       "      <td>Less Willing</td>\n",
       "      <td>4</td>\n",
       "      <td>5</td>\n",
       "      <td>4</td>\n",
       "      <td>Yes</td>\n",
       "    </tr>\n",
       "    <tr>\n",
       "      <th>4</th>\n",
       "      <td>9</td>\n",
       "      <td>Male</td>\n",
       "      <td>64</td>\n",
       "      <td>Republican</td>\n",
       "      <td>Conservative</td>\n",
       "      <td>High school or less</td>\n",
       "      <td>White</td>\n",
       "      <td>Yes</td>\n",
       "      <td>Yes</td>\n",
       "      <td>Yes</td>\n",
       "      <td>No</td>\n",
       "      <td>Pro-life</td>\n",
       "      <td>No</td>\n",
       "      <td>No</td>\n",
       "      <td>Behave no differently</td>\n",
       "      <td>5</td>\n",
       "      <td>1</td>\n",
       "      <td>1</td>\n",
       "      <td>Yes</td>\n",
       "    </tr>\n",
       "  </tbody>\n",
       "</table>\n",
       "</div>"
      ],
      "text/plain": [
       "   id_num      Q1  Q2 political_affiliation            Q4                   Q5     Q6   Q7  ...         Q11  Q12  Q13                    Q14 Q15 Q16 Q17  Q18\n",
       "0       1    Male  53           Independent       Liberal       College degree  Black   No  ...  Pro-Choice   No   No  Behave no differently   5   2   5   No\n",
       "1       5  Female  66           Independent  Conservative         Some college  White  Yes  ...    Pro-life  Yes  Yes           Less Willing   4   5   4   No\n",
       "2       7  Female  58              Democrat       Liberal       College degree  White   No  ...  Pro-Choice   No   No  Behave no differently   5   1   4  Yes\n",
       "3       8    Male  55           Independent      Moderate  High school or less  White  Yes  ...    Pro-life  Yes  Yes           Less Willing   4   5   4  Yes\n",
       "4       9    Male  64            Republican  Conservative  High school or less  White  Yes  ...    Pro-life   No   No  Behave no differently   5   1   1  Yes\n",
       "\n",
       "[5 rows x 19 columns]"
      ]
     },
     "execution_count": null,
     "metadata": {},
     "output_type": "execute_result"
    }
   ],
   "source": [
    "train.head()"
   ]
  },
  {
   "cell_type": "code",
   "execution_count": 4,
   "metadata": {
    "vscode": {
     "languageId": "python"
    }
   },
   "outputs": [
    {
     "name": "stdout",
     "output_type": "stream",
     "text": [
      "<class 'pandas.core.frame.DataFrame'>\n",
      "RangeIndex: 169 entries, 0 to 168\n",
      "Data columns (total 19 columns):\n",
      " #   Column                 Non-Null Count  Dtype \n",
      "---  ------                 --------------  ----- \n",
      " 0   id_num                 169 non-null    int64 \n",
      " 1   Q1                     169 non-null    object\n",
      " 2   Q2                     169 non-null    int64 \n",
      " 3   political_affiliation  169 non-null    object\n",
      " 4   Q4                     169 non-null    object\n",
      " 5   Q5                     169 non-null    object\n",
      " 6   Q6                     169 non-null    object\n",
      " 7   Q7                     169 non-null    object\n",
      " 8   Q8                     169 non-null    object\n",
      " 9   Q9                     169 non-null    object\n",
      " 10  Q10                    169 non-null    object\n",
      " 11  Q11                    169 non-null    object\n",
      " 12  Q12                    169 non-null    object\n",
      " 13  Q13                    169 non-null    object\n",
      " 14  Q14                    169 non-null    object\n",
      " 15  Q15                    169 non-null    int64 \n",
      " 16  Q16                    169 non-null    int64 \n",
      " 17  Q17                    169 non-null    int64 \n",
      " 18  Q18                    169 non-null    object\n",
      "dtypes: int64(5), object(14)\n",
      "memory usage: 25.2+ KB\n",
      "<class 'pandas.core.frame.DataFrame'>\n",
      "RangeIndex: 169 entries, 0 to 168\n",
      "Data columns (total 19 columns):\n",
      " #   Column                 Non-Null Count  Dtype \n",
      "---  ------                 --------------  ----- \n",
      " 0   id_num                 169 non-null    int64 \n",
      " 1   Q1                     169 non-null    object\n",
      " 2   Q2                     169 non-null    int64 \n",
      " 3   political_affiliation  169 non-null    object\n",
      " 4   Q4                     169 non-null    object\n",
      " 5   Q5                     169 non-null    object\n",
      " 6   Q6                     169 non-null    object\n",
      " 7   Q7                     169 non-null    object\n",
      " 8   Q8                     169 non-null    object\n",
      " 9   Q9                     169 non-null    object\n",
      " 10  Q10                    169 non-null    object\n",
      " 11  Q11                    169 non-null    object\n",
      " 12  Q12                    169 non-null    object\n",
      " 13  Q13                    169 non-null    object\n",
      " 14  Q14                    169 non-null    object\n",
      " 15  Q15                    169 non-null    int64 \n",
      " 16  Q16                    169 non-null    int64 \n",
      " 17  Q17                    169 non-null    int64 \n",
      " 18  Q18                    169 non-null    object\n",
      "dtypes: int64(5), object(14)\n",
      "memory usage: 25.2+ KB\n"
     ]
    }
   ],
   "source": [
    "train.info()"
   ]
  },
  {
   "cell_type": "code",
   "execution_count": 152,
   "metadata": {
    "vscode": {
     "languageId": "python"
    }
   },
   "outputs": [],
   "source": [
    "train['Q1'] = train['Q1'].astype('category')\n",
    "train['Q4'] = train['Q4'].astype('category')\n",
    "train['Q5'] = train['Q5'].astype('category')\n",
    "train['Q6'] = train['Q6'].astype('category')\n",
    "train['Q7'] = train['Q7'].astype('category')\n",
    "train['Q8'] = train['Q8'].astype('category')\n",
    "train['Q9'] = train['Q9'].astype('category')\n",
    "train['Q10'] = train['Q10'].astype('category')\n",
    "train['Q11'] = train['Q11'].astype('category')\n",
    "train['Q12'] = train['Q12'].astype('category')\n",
    "train['Q13'] = train['Q13'].astype('category')\n",
    "train['Q14'] = train['Q14'].astype('category')\n",
    "train['Q18'] = train['Q18'].astype('category')"
   ]
  },
  {
   "cell_type": "code",
   "execution_count": 15,
   "metadata": {
    "vscode": {
     "languageId": "python"
    }
   },
   "outputs": [
    {
     "name": "stdout",
     "output_type": "stream",
     "text": [
      "<class 'pandas.core.frame.DataFrame'>\n",
      "RangeIndex: 169 entries, 0 to 168\n",
      "Data columns (total 19 columns):\n",
      " #   Column                 Non-Null Count  Dtype   \n",
      "---  ------                 --------------  -----   \n",
      " 0   id_num                 169 non-null    int64   \n",
      " 1   Q1                     169 non-null    category\n",
      " 2   Q2                     169 non-null    int64   \n",
      " 3   political_affiliation  169 non-null    object  \n",
      " 4   Q4                     169 non-null    category\n",
      " 5   Q5                     169 non-null    category\n",
      " 6   Q6                     169 non-null    category\n",
      " 7   Q7                     169 non-null    category\n",
      " 8   Q8                     169 non-null    category\n",
      " 9   Q9                     169 non-null    category\n",
      " 10  Q10                    169 non-null    category\n",
      " 11  Q11                    169 non-null    category\n",
      " 12  Q12                    169 non-null    category\n",
      " 13  Q13                    169 non-null    category\n",
      " 14  Q14                    169 non-null    category\n",
      " 15  Q15                    169 non-null    int64   \n",
      " 16  Q16                    169 non-null    int64   \n",
      " 17  Q17                    169 non-null    int64   \n",
      " 18  Q18                    169 non-null    category\n",
      "dtypes: category(13), int64(5), object(1)\n",
      "memory usage: 12.0+ KB\n",
      "<class 'pandas.core.frame.DataFrame'>\n",
      "RangeIndex: 169 entries, 0 to 168\n",
      "Data columns (total 19 columns):\n",
      " #   Column                 Non-Null Count  Dtype   \n",
      "---  ------                 --------------  -----   \n",
      " 0   id_num                 169 non-null    int64   \n",
      " 1   Q1                     169 non-null    category\n",
      " 2   Q2                     169 non-null    int64   \n",
      " 3   political_affiliation  169 non-null    object  \n",
      " 4   Q4                     169 non-null    category\n",
      " 5   Q5                     169 non-null    category\n",
      " 6   Q6                     169 non-null    category\n",
      " 7   Q7                     169 non-null    category\n",
      " 8   Q8                     169 non-null    category\n",
      " 9   Q9                     169 non-null    category\n",
      " 10  Q10                    169 non-null    category\n",
      " 11  Q11                    169 non-null    category\n",
      " 12  Q12                    169 non-null    category\n",
      " 13  Q13                    169 non-null    category\n",
      " 14  Q14                    169 non-null    category\n",
      " 15  Q15                    169 non-null    int64   \n",
      " 16  Q16                    169 non-null    int64   \n",
      " 17  Q17                    169 non-null    int64   \n",
      " 18  Q18                    169 non-null    category\n",
      "dtypes: category(13), int64(5), object(1)\n",
      "memory usage: 12.0+ KB\n"
     ]
    }
   ],
   "source": [
    "train.info()"
   ]
  },
  {
   "cell_type": "code",
   "execution_count": 153,
   "metadata": {
    "vscode": {
     "languageId": "python"
    }
   },
   "outputs": [],
   "source": [
    "X = train.drop(['political_affiliation'], axis = 1)\n",
    "y = train['political_affiliation']\n",
    "\n",
    "ct = ColumnTransformer(\n",
    "  [\n",
    "    (\"dummify\", OneHotEncoder(sparse_output = False, handle_unknown='ignore', drop= \"first\"), make_column_selector(dtype_include='category')),\n",
    "    (\"standardize\", StandardScaler(), make_column_selector(dtype_include=np.number))\n",
    "  ],\n",
    "  remainder = \"passthrough\"\n",
    ")"
   ]
  },
  {
   "cell_type": "code",
   "execution_count": 155,
   "metadata": {
    "vscode": {
     "languageId": "python"
    }
   },
   "outputs": [
    {
     "name": "stdout",
     "output_type": "stream",
     "text": [
      "Best Logistic Regression Parameters: {'logistic__C': 1.623776739188721, 'logistic__class_weight': None, 'logistic__multi_class': 'ovr', 'logistic__penalty': 'l1', 'logistic__solver': 'liblinear'}\n",
      "Best Logistic Regression Parameters: {'logistic__C': 1.623776739188721, 'logistic__class_weight': None, 'logistic__multi_class': 'ovr', 'logistic__penalty': 'l1', 'logistic__solver': 'liblinear'}\n"
     ]
    }
   ],
   "source": [
    "\n",
    "\n",
    "logistic_pipeline = Pipeline([\n",
    "    ('preprocessing', ct),\n",
    "    ('logistic', LogisticRegression())\n",
    "])\n",
    "\n",
    "log_param_grid = {\n",
    "    'logistic__C': np.logspace(-4, 4, 20),\n",
    "    'logistic__penalty': ['l1', 'l2', 'elasticnet', 'none'],  \n",
    "    'logistic__solver': ['liblinear', 'saga', 'lbfgs', 'newton-cg'], \n",
    "    'logistic__class_weight': [None, 'balanced'],  \n",
    "    'logistic__multi_class': ['ovr', 'multinomial','ovo']\n",
    "}\n",
    "\n",
    "log_reg_grid_search = GridSearchCV(logistic_pipeline, log_param_grid, cv=10, scoring='accuracy')\n",
    "\n",
    "log_reg_grid_search.fit(X, y)\n",
    "\n",
    "best_log_reg_model = log_reg_grid_search.best_estimator_\n",
    "y_pred_log_reg = best_log_reg_model.predict(X)\n",
    "y_proba_log_reg = best_log_reg_model.predict_proba(X)[:, 1]\n",
    "\n",
    "print(\"Best Logistic Regression Parameters:\", log_reg_grid_search.best_params_)"
   ]
  },
  {
   "cell_type": "code",
   "execution_count": 157,
   "metadata": {
    "vscode": {
     "languageId": "python"
    }
   },
   "outputs": [
    {
     "name": "stdout",
     "output_type": "stream",
     "text": [
      "Best Logistic Regression Parameters: {'logistic__C': 1, 'logistic__class_weight': 'balanced', 'logistic__multi_class': 'ovr', 'logistic__penalty': 'l1', 'logistic__solver': 'liblinear'}\n",
      "Best Logistic Regression Parameters: {'logistic__C': 1, 'logistic__class_weight': 'balanced', 'logistic__multi_class': 'ovr', 'logistic__penalty': 'l1', 'logistic__solver': 'liblinear'}\n"
     ]
    }
   ],
   "source": [
    "\n",
    "\n",
    "logistic_pipeline = Pipeline([\n",
    "    ('preprocessing', ct),\n",
    "    ('logistic', LogisticRegression())\n",
    "])\n",
    "\n",
    "log_param_grid = {\n",
    "    'logistic__C': [0.01, 0.1, 1, 10, 100],\n",
    "    'logistic__penalty': ['l1', 'l2', 'elasticnet', 'none'],  \n",
    "    'logistic__solver': ['liblinear', 'saga', 'lbfgs', 'newton-cg'], \n",
    "    'logistic__class_weight': [None, 'balanced'],  \n",
    "    'logistic__multi_class': ['ovr', 'multinomial'],\n",
    "    \n",
    "}\n",
    "\n",
    "log_reg_grid_search = GridSearchCV(logistic_pipeline, log_param_grid, cv=10, scoring='accuracy')\n",
    "\n",
    "log_reg_grid_search.fit(X, y)\n",
    "\n",
    "best_log_reg_model = log_reg_grid_search.best_estimator_\n",
    "y_pred_log_reg = best_log_reg_model.predict(X)\n",
    "y_proba_log_reg = best_log_reg_model.predict_proba(X)[:, 1]\n",
    "\n",
    "print(\"Best Logistic Regression Parameters:\", log_reg_grid_search.best_params_)\n",
    "\n"
   ]
  },
  {
   "cell_type": "code",
   "execution_count": 156,
   "metadata": {
    "vscode": {
     "languageId": "python"
    }
   },
   "outputs": [
    {
     "name": "stdout",
     "output_type": "stream",
     "text": [
      "0.6153297682709448\n",
      "0.6153297682709448\n"
     ]
    }
   ],
   "source": [
    "logistic_pipeline1 = Pipeline([\n",
    "    ('preprocessing', ct),\n",
    "    ('logistic', LogisticRegression(C=1.623776739188721, class_weight= None, multi_class = \"ovr\", penalty=\"l2\", solver = \"liblinear\"))\n",
    "])\n",
    "\n",
    "logistic_pipeline1.fit(X, y)\n",
    "\n",
    "scores = abs(cross_val_score(logistic_pipeline1, X, y, cv=5, scoring='accuracy'))\n",
    "print(scores.mean())"
   ]
  },
  {
   "cell_type": "code",
   "execution_count": 142,
   "metadata": {
    "vscode": {
     "languageId": "python"
    }
   },
   "outputs": [
    {
     "name": "stdout",
     "output_type": "stream",
     "text": [
      "0.6213903743315508\n",
      "0.6213903743315508\n"
     ]
    }
   ],
   "source": [
    "logistic_pipeline2 = Pipeline([\n",
    "    ('preprocessing', ct),\n",
    "    ('logistic', LogisticRegression(C=1, class_weight= 'balanced', multi_class = \"ovr\", penalty=\"l1\", solver = \"liblinear\"))\n",
    "])\n",
    "\n",
    "logistic_pipeline2.fit(X, y)\n",
    "\n",
    "scores = abs(cross_val_score(logistic_pipeline2, X, y, cv=5, scoring='accuracy'))\n",
    "print(scores.mean())"
   ]
  },
  {
   "cell_type": "code",
   "execution_count": 43,
   "metadata": {
    "vscode": {
     "languageId": "python"
    }
   },
   "outputs": [
    {
     "name": "stdout",
     "output_type": "stream",
     "text": [
      "Best Dtree Parameters: {'dtree__criterion': 'entropy', 'dtree__max_depth': 5, 'dtree__min_samples_leaf': 5, 'dtree__min_samples_split': 2}\n",
      "Model Accuracy: 0.7218934911242604\n",
      "Best Dtree Parameters: {'dtree__criterion': 'entropy', 'dtree__max_depth': 5, 'dtree__min_samples_leaf': 5, 'dtree__min_samples_split': 2}\n",
      "Model Accuracy: 0.7218934911242604\n"
     ]
    }
   ],
   "source": [
    "dtree_pipeline = Pipeline([\n",
    "    ('preprocessing', ct),\n",
    "    ('dtree', DecisionTreeClassifier())\n",
    "])\n",
    "\n",
    "tree_param_grid = {\n",
    "    'dtree__max_depth': [5, 10, 15, 20],\n",
    "    'dtree__min_samples_split': [2, 5, 10],\n",
    "    'dtree__min_samples_leaf': [1, 2, 5],\n",
    "    'dtree__criterion': ['gini', 'entropy']\n",
    "}\n",
    "\n",
    "dtree_grid_search = GridSearchCV(dtree_pipeline, tree_param_grid, cv=5, scoring='accuracy')\n",
    "\n",
    "dtree_grid_search.fit(X, y)\n",
    "\n",
    "# Evaluate Logistic Regression\n",
    "best_dtree_model = dtree_grid_search.best_estimator_\n",
    "y_pred_dtree = best_dtree_model.predict(X)\n",
    "y_proba_dtree = best_dtree_model.predict_proba(X)[:, 1]\n",
    "\n",
    "print(\"Best Dtree Parameters:\", dtree_grid_search.best_params_)\n",
    "print(\"Model Accuracy:\", accuracy_score(y, y_pred_dtree))"
   ]
  },
  {
   "cell_type": "code",
   "execution_count": 64,
   "metadata": {
    "vscode": {
     "languageId": "python"
    }
   },
   "outputs": [
    {
     "name": "stdout",
     "output_type": "stream",
     "text": [
      "0.4547237076648842\n",
      "0.4547237076648842\n"
     ]
    }
   ],
   "source": [
    "dtree_pipeline = Pipeline([\n",
    "    ('preprocessing', ct),\n",
    "    ('dtree', DecisionTreeClassifier(criterion=\"entropy\", max_depth=5, min_samples_leaf=5, min_samples_split=2))\n",
    "])\n",
    "\n",
    "dtree_pipeline.fit(X, y)\n",
    "\n",
    "scores = abs(cross_val_score(dtree_pipeline, X, y, cv=5, scoring='accuracy'))\n",
    "print(scores.mean())"
   ]
  },
  {
   "cell_type": "code",
   "execution_count": 59,
   "metadata": {
    "vscode": {
     "languageId": "python"
    }
   },
   "outputs": [
    {
     "name": "stdout",
     "output_type": "stream",
     "text": [
      "Best SVC Parameters: {'svc__C': 100, 'svc__degree': 2, 'svc__gamma': 0.001, 'svc__kernel': 'rbf'}\n",
      "Model Accuracy: 0.7100591715976331\n",
      "Best SVC Parameters: {'svc__C': 100, 'svc__degree': 2, 'svc__gamma': 0.001, 'svc__kernel': 'rbf'}\n",
      "Model Accuracy: 0.7100591715976331\n"
     ]
    }
   ],
   "source": [
    "svc_pipeline = Pipeline([\n",
    "    ('preprocessing', ct), \n",
    "    ('svc', SVC(probability=True)) \n",
    "])\n",
    "\n",
    "param_grid = {\n",
    "    'svc__C': [0.1, 1, 10, 100],\n",
    "    'svc__degree': [2, 3, 4],\n",
    "    'svc__kernel': ['linear', 'rbf'],\n",
    "    'svc__gamma': [0.001, 0.01, 0.1, 1]\n",
    "}\n",
    "svc_grid_search = GridSearchCV(svc_pipeline, param_grid, cv=5, scoring='accuracy')\n",
    "\n",
    "svc_grid_search.fit(X, y)\n",
    "\n",
    "best_svc_model = svc_grid_search.best_estimator_\n",
    "\n",
    "y_pred_svc = best_svc_model.predict(X)\n",
    "y_proba_svc = best_svc_model.predict_proba(X)[:, 1]\n",
    "\n",
    "print(\"Best SVC Parameters:\", svc_grid_search.best_params_)\n",
    "print(\"Model Accuracy:\", accuracy_score(y, y_pred_svc))"
   ]
  },
  {
   "cell_type": "code",
   "execution_count": 67,
   "metadata": {
    "vscode": {
     "languageId": "python"
    }
   },
   "outputs": [
    {
     "name": "stdout",
     "output_type": "stream",
     "text": [
      "0.6329768270944742\n",
      "0.6329768270944742\n"
     ]
    }
   ],
   "source": [
    "svc_pipeline = Pipeline([\n",
    "    ('preprocessing', ct),\n",
    "    ('svc', SVC(C=100, degree=2, gamma=0.001, kernel = \"rbf\"))\n",
    "])\n",
    "\n",
    "svc_pipeline.fit(X, y)\n",
    "\n",
    "scores = abs(cross_val_score(svc_pipeline, X, y, cv=5, scoring='accuracy'))\n",
    "print(scores.mean())"
   ]
  },
  {
   "cell_type": "code",
   "execution_count": 68,
   "metadata": {
    "vscode": {
     "languageId": "python"
    }
   },
   "outputs": [
    {
     "name": "stdout",
     "output_type": "stream",
     "text": [
      "Best SVM Parameters: {'svm__C': 1, 'svm__coef0': 10, 'svm__degree': 2, 'svm__gamma': 0.01}\n",
      "Model Accuracy: 0.7100591715976331\n",
      "Best SVM Parameters: {'svm__C': 1, 'svm__coef0': 10, 'svm__degree': 2, 'svm__gamma': 0.01}\n",
      "Model Accuracy: 0.7100591715976331\n"
     ]
    }
   ],
   "source": [
    "svm_pipeline = Pipeline([\n",
    "    ('preprocessing', ct), \n",
    "    ('svm', SVC(kernel=\"poly\", probability=True)) \n",
    "])\n",
    "\n",
    "svm_param_grid = {\n",
    "    'svm__C': [0.1, 1, 10, 100],\n",
    "    'svm__degree': [2, 3, 4],\n",
    "    'svm__gamma': ['scale', 'auto', 0.01, 0.1],\n",
    "    'svm__coef0': [0, 1, 10]\n",
    "}\n",
    "\n",
    "svm_grid_search = GridSearchCV(svm_pipeline, svm_param_grid, cv=5, scoring='accuracy')\n",
    "\n",
    "svm_grid_search.fit(X, y)\n",
    "\n",
    "best_svm_model = svm_grid_search.best_estimator_\n",
    "\n",
    "y_pred_svm = best_svm_model.predict(X)\n",
    "y_proba_svm = best_svm_model.predict_proba(X)[:, 1]\n",
    "\n",
    "print(\"Best SVM Parameters:\", svm_grid_search.best_params_)\n",
    "print(\"Model Accuracy:\", accuracy_score(y, y_pred_svm))"
   ]
  },
  {
   "cell_type": "code",
   "execution_count": 78,
   "metadata": {
    "vscode": {
     "languageId": "python"
    }
   },
   "outputs": [
    {
     "name": "stdout",
     "output_type": "stream",
     "text": [
      "0.6329768270944742\n",
      "0.6329768270944742\n"
     ]
    }
   ],
   "source": [
    "svm_pipeline = Pipeline([\n",
    "    ('preprocessing', ct),\n",
    "    ('svm', SVC(kernel=\"poly\", probability=True, C=1, coef0=10, gamma=0.01, degree = 2))\n",
    "])\n",
    "\n",
    "svm_pipeline.fit(X, y)\n",
    "\n",
    "scores = abs(cross_val_score(best_svc_model, X, y, cv=5, scoring='accuracy'))\n",
    "print(scores.mean())"
   ]
  },
  {
   "cell_type": "code",
   "execution_count": 87,
   "metadata": {
    "vscode": {
     "languageId": "python"
    }
   },
   "outputs": [
    {
     "name": "stdout",
     "output_type": "stream",
     "text": [
      "Best KNN Parameters: {'knn__metric': 'euclidean', 'knn__n_neighbors': 3, 'knn__weights': 'uniform'}\n",
      "Model Accuracy: 0.7692307692307693\n",
      "Best KNN Parameters: {'knn__metric': 'euclidean', 'knn__n_neighbors': 3, 'knn__weights': 'uniform'}\n",
      "Model Accuracy: 0.7692307692307693\n"
     ]
    }
   ],
   "source": [
    "knn_pipeline = Pipeline([\n",
    "    ('preprocessing', ct), \n",
    "    ('knn', KNeighborsClassifier()) \n",
    "])\n",
    "\n",
    "\n",
    "knn_param_grid = {\n",
    "    'knn__n_neighbors': [3, 5, 10, 15],\n",
    "    'knn__weights': ['uniform', 'distance'],\n",
    "    'knn__metric': ['euclidean', 'manhattan']\n",
    "}\n",
    "\n",
    "\n",
    "knn_grid_search = GridSearchCV(knn_pipeline, knn_param_grid, cv=5, scoring='accuracy')\n",
    "\n",
    "knn_grid_search.fit(X, y)\n",
    "\n",
    "best_knn_model = knn_grid_search.best_estimator_\n",
    "\n",
    "y_pred_knn = best_knn_model.predict(X)\n",
    "y_proba_knn = best_knn_model.predict_proba(X)[:, 1]\n",
    "\n",
    "print(\"Best KNN Parameters:\", knn_grid_search.best_params_)\n",
    "print(\"Model Accuracy:\", accuracy_score(y, y_pred_knn))"
   ]
  },
  {
   "cell_type": "code",
   "execution_count": 90,
   "metadata": {
    "vscode": {
     "languageId": "python"
    }
   },
   "outputs": [
    {
     "name": "stdout",
     "output_type": "stream",
     "text": [
      "0.5853832442067737\n",
      "0.5853832442067737\n"
     ]
    }
   ],
   "source": [
    "knn_pipeline = Pipeline([\n",
    "    ('preprocessing', ct),\n",
    "    ('knn', KNeighborsClassifier(metric=\"euclidean\", n_neighbors=3, weights=\"uniform\"))\n",
    "])\n",
    "\n",
    "knn_pipeline.fit(X, y)\n",
    "\n",
    "scores = abs(cross_val_score(knn_pipeline, X, y, cv=5, scoring='accuracy'))\n",
    "print(scores.mean())"
   ]
  },
  {
   "cell_type": "code",
   "execution_count": 70,
   "metadata": {
    "vscode": {
     "languageId": "python"
    }
   },
   "outputs": [],
   "source": [
    "test_data = pd.read_csv(\"CAH-201803-test.csv\")"
   ]
  },
  {
   "cell_type": "code",
   "execution_count": 144,
   "metadata": {
    "vscode": {
     "languageId": "python"
    }
   },
   "outputs": [],
   "source": [
    "final_predictions3 = pd.DataFrame(\n",
    "    {\"id_num\": test_data['id_num'],\n",
    "    \"political_affiliation_predicted\": logistic_pipeline2.predict(test_data)}\n",
    ")\n"
   ]
  },
  {
   "cell_type": "code",
   "execution_count": 145,
   "metadata": {
    "vscode": {
     "languageId": "python"
    }
   },
   "outputs": [
    {
     "data": {
      "text/html": [
       "<div>\n",
       "<style scoped>\n",
       "    .dataframe tbody tr th:only-of-type {\n",
       "        vertical-align: middle;\n",
       "    }\n",
       "\n",
       "    .dataframe tbody tr th {\n",
       "        vertical-align: top;\n",
       "    }\n",
       "\n",
       "    .dataframe thead th {\n",
       "        text-align: right;\n",
       "    }\n",
       "</style>\n",
       "<table border=\"1\" class=\"dataframe\">\n",
       "  <thead>\n",
       "    <tr style=\"text-align: right;\">\n",
       "      <th></th>\n",
       "      <th>id_num</th>\n",
       "      <th>political_affiliation_predicted</th>\n",
       "    </tr>\n",
       "  </thead>\n",
       "  <tbody>\n",
       "    <tr>\n",
       "      <th>0</th>\n",
       "      <td>2</td>\n",
       "      <td>Republican</td>\n",
       "    </tr>\n",
       "    <tr>\n",
       "      <th>1</th>\n",
       "      <td>3</td>\n",
       "      <td>Democrat</td>\n",
       "    </tr>\n",
       "    <tr>\n",
       "      <th>2</th>\n",
       "      <td>4</td>\n",
       "      <td>Independent</td>\n",
       "    </tr>\n",
       "    <tr>\n",
       "      <th>3</th>\n",
       "      <td>6</td>\n",
       "      <td>Independent</td>\n",
       "    </tr>\n",
       "    <tr>\n",
       "      <th>4</th>\n",
       "      <td>11</td>\n",
       "      <td>Independent</td>\n",
       "    </tr>\n",
       "    <tr>\n",
       "      <th>...</th>\n",
       "      <td>...</td>\n",
       "      <td>...</td>\n",
       "    </tr>\n",
       "    <tr>\n",
       "      <th>161</th>\n",
       "      <td>327</td>\n",
       "      <td>Democrat</td>\n",
       "    </tr>\n",
       "    <tr>\n",
       "      <th>162</th>\n",
       "      <td>330</td>\n",
       "      <td>Independent</td>\n",
       "    </tr>\n",
       "    <tr>\n",
       "      <th>163</th>\n",
       "      <td>331</td>\n",
       "      <td>Democrat</td>\n",
       "    </tr>\n",
       "    <tr>\n",
       "      <th>164</th>\n",
       "      <td>333</td>\n",
       "      <td>Democrat</td>\n",
       "    </tr>\n",
       "    <tr>\n",
       "      <th>165</th>\n",
       "      <td>334</td>\n",
       "      <td>Republican</td>\n",
       "    </tr>\n",
       "  </tbody>\n",
       "</table>\n",
       "<p>166 rows × 2 columns</p>\n",
       "</div>"
      ],
      "text/plain": [
       "     id_num political_affiliation_predicted\n",
       "0         2                      Republican\n",
       "1         3                        Democrat\n",
       "2         4                     Independent\n",
       "3         6                     Independent\n",
       "4        11                     Independent\n",
       "..      ...                             ...\n",
       "161     327                        Democrat\n",
       "162     330                     Independent\n",
       "163     331                        Democrat\n",
       "164     333                        Democrat\n",
       "165     334                      Republican\n",
       "\n",
       "[166 rows x 2 columns]"
      ]
     },
     "execution_count": null,
     "metadata": {},
     "output_type": "execute_result"
    }
   ],
   "source": [
    "final_predictions3"
   ]
  },
  {
   "cell_type": "code",
   "execution_count": 146,
   "metadata": {
    "vscode": {
     "languageId": "python"
    }
   },
   "outputs": [],
   "source": [
    "final_predictions3.to_csv('final_predictions3.csv', index=False)\n"
   ]
  },
  {
   "cell_type": "code",
   "execution_count": null,
   "metadata": {
    "vscode": {
     "languageId": "python"
    }
   },
   "outputs": [],
   "source": []
  },
  {
   "cell_type": "markdown",
   "metadata": {},
   "source": [
    "## Regression"
   ]
  },
  {
   "cell_type": "code",
   "execution_count": 81,
   "metadata": {
    "vscode": {
     "languageId": "python"
    }
   },
   "outputs": [],
   "source": [
    "train2 = pd.read_csv(\"train_new.csv\")"
   ]
  },
  {
   "cell_type": "code",
   "execution_count": 82,
   "metadata": {
    "vscode": {
     "languageId": "python"
    }
   },
   "outputs": [
    {
     "name": "stdout",
     "output_type": "stream",
     "text": [
      "<class 'pandas.core.frame.DataFrame'>\n",
      "RangeIndex: 2197 entries, 0 to 2196\n",
      "Data columns (total 25 columns):\n",
      " #   Column         Non-Null Count  Dtype  \n",
      "---  ------         --------------  -----  \n",
      " 0   SalePrice      2197 non-null   int64  \n",
      " 1   PID            2197 non-null   int64  \n",
      " 2   Lot Frontage   1835 non-null   float64\n",
      " 3   Lot Area       2197 non-null   int64  \n",
      " 4   Street         2197 non-null   object \n",
      " 5   Neighborhood   2197 non-null   object \n",
      " 6   Bldg Type      2197 non-null   object \n",
      " 7   House Style    2197 non-null   object \n",
      " 8   Overall Qual   2197 non-null   int64  \n",
      " 9   Overall Cond   2197 non-null   int64  \n",
      " 10  Year Built     2197 non-null   int64  \n",
      " 11  Roof Style     2197 non-null   object \n",
      " 12  Heating        2197 non-null   object \n",
      " 13  Central Air    2197 non-null   object \n",
      " 14  Electrical     2196 non-null   object \n",
      " 15  Full Bath      2197 non-null   int64  \n",
      " 16  Half Bath      2197 non-null   int64  \n",
      " 17  Bedroom AbvGr  2197 non-null   int64  \n",
      " 18  TotRms AbvGrd  2197 non-null   int64  \n",
      " 19  Gr Liv Area    2197 non-null   int64  \n",
      " 20  Functional     2197 non-null   object \n",
      " 21  Screen Porch   2197 non-null   int64  \n",
      " 22  Pool Area      2197 non-null   int64  \n",
      " 23  Yr Sold        2197 non-null   int64  \n",
      " 24  Sale Type      2197 non-null   object \n",
      "dtypes: float64(1), int64(14), object(10)\n",
      "memory usage: 429.2+ KB\n",
      "<class 'pandas.core.frame.DataFrame'>\n",
      "RangeIndex: 2197 entries, 0 to 2196\n",
      "Data columns (total 25 columns):\n",
      " #   Column         Non-Null Count  Dtype  \n",
      "---  ------         --------------  -----  \n",
      " 0   SalePrice      2197 non-null   int64  \n",
      " 1   PID            2197 non-null   int64  \n",
      " 2   Lot Frontage   1835 non-null   float64\n",
      " 3   Lot Area       2197 non-null   int64  \n",
      " 4   Street         2197 non-null   object \n",
      " 5   Neighborhood   2197 non-null   object \n",
      " 6   Bldg Type      2197 non-null   object \n",
      " 7   House Style    2197 non-null   object \n",
      " 8   Overall Qual   2197 non-null   int64  \n",
      " 9   Overall Cond   2197 non-null   int64  \n",
      " 10  Year Built     2197 non-null   int64  \n",
      " 11  Roof Style     2197 non-null   object \n",
      " 12  Heating        2197 non-null   object \n",
      " 13  Central Air    2197 non-null   object \n",
      " 14  Electrical     2196 non-null   object \n",
      " 15  Full Bath      2197 non-null   int64  \n",
      " 16  Half Bath      2197 non-null   int64  \n",
      " 17  Bedroom AbvGr  2197 non-null   int64  \n",
      " 18  TotRms AbvGrd  2197 non-null   int64  \n",
      " 19  Gr Liv Area    2197 non-null   int64  \n",
      " 20  Functional     2197 non-null   object \n",
      " 21  Screen Porch   2197 non-null   int64  \n",
      " 22  Pool Area      2197 non-null   int64  \n",
      " 23  Yr Sold        2197 non-null   int64  \n",
      " 24  Sale Type      2197 non-null   object \n",
      "dtypes: float64(1), int64(14), object(10)\n",
      "memory usage: 429.2+ KB\n"
     ]
    }
   ],
   "source": [
    "train2.info()"
   ]
  },
  {
   "cell_type": "markdown",
   "metadata": {},
   "source": [
    "Lot Frontage has NAN values"
   ]
  },
  {
   "cell_type": "code",
   "execution_count": 89,
   "metadata": {
    "vscode": {
     "languageId": "python"
    }
   },
   "outputs": [
    {
     "name": "stderr",
     "output_type": "stream",
     "text": [
      "/opt/anaconda3/lib/python3.12/site-packages/sklearn/linear_model/_coordinate_descent.py:639: ConvergenceWarning: Objective did not converge. You might want to increase the number of iterations. Duality gap: 1003603053442.2491, tolerance: 1319803942.6857777\n",
      "  model = cd_fast.sparse_enet_coordinate_descent(\n",
      "/opt/anaconda3/lib/python3.12/site-packages/sklearn/linear_model/_coordinate_descent.py:639: ConvergenceWarning: Objective did not converge. You might want to increase the number of iterations. Duality gap: 890860207703.5613, tolerance: 1245599125.7842226\n",
      "  model = cd_fast.sparse_enet_coordinate_descent(\n",
      "/opt/anaconda3/lib/python3.12/site-packages/sklearn/linear_model/_coordinate_descent.py:639: ConvergenceWarning: Objective did not converge. You might want to increase the number of iterations. Duality gap: 931493717864.4448, tolerance: 1337202986.211982\n",
      "  model = cd_fast.sparse_enet_coordinate_descent(\n",
      "/opt/anaconda3/lib/python3.12/site-packages/sklearn/linear_model/_coordinate_descent.py:639: ConvergenceWarning: Objective did not converge. You might want to increase the number of iterations. Duality gap: 1011750677539.8564, tolerance: 1312994426.820687\n",
      "  model = cd_fast.sparse_enet_coordinate_descent(\n",
      "/opt/anaconda3/lib/python3.12/site-packages/sklearn/linear_model/_coordinate_descent.py:639: ConvergenceWarning: Objective did not converge. You might want to increase the number of iterations. Duality gap: 962176777713.0233, tolerance: 1290317696.6235976\n",
      "  model = cd_fast.sparse_enet_coordinate_descent(\n",
      "/opt/anaconda3/lib/python3.12/site-packages/sklearn/linear_model/_coordinate_descent.py:639: ConvergenceWarning: Objective did not converge. You might want to increase the number of iterations. Duality gap: 936559003030.409, tolerance: 1317610789.6479094\n",
      "  model = cd_fast.sparse_enet_coordinate_descent(\n",
      "/opt/anaconda3/lib/python3.12/site-packages/sklearn/linear_model/_coordinate_descent.py:639: ConvergenceWarning: Objective did not converge. You might want to increase the number of iterations. Duality gap: 998597994155.0547, tolerance: 1315675217.756393\n",
      "  model = cd_fast.sparse_enet_coordinate_descent(\n",
      "/opt/anaconda3/lib/python3.12/site-packages/sklearn/linear_model/_coordinate_descent.py:639: ConvergenceWarning: Objective did not converge. You might want to increase the number of iterations. Duality gap: 1011489293345.8608, tolerance: 1289294746.555055\n",
      "  model = cd_fast.sparse_enet_coordinate_descent(\n"
     ]
    },
    {
     "name": "stderr",
     "output_type": "stream",
     "text": [
      "/opt/anaconda3/lib/python3.12/site-packages/sklearn/linear_model/_coordinate_descent.py:639: ConvergenceWarning: Objective did not converge. You might want to increase the number of iterations. Duality gap: 992108615291.9773, tolerance: 1308853167.6688402\n",
      "  model = cd_fast.sparse_enet_coordinate_descent(\n",
      "/opt/anaconda3/lib/python3.12/site-packages/sklearn/linear_model/_coordinate_descent.py:639: ConvergenceWarning: Objective did not converge. You might want to increase the number of iterations. Duality gap: 986329494149.5358, tolerance: 1283092377.7778728\n",
      "  model = cd_fast.sparse_enet_coordinate_descent(\n"
     ]
    },
    {
     "name": "stderr",
     "output_type": "stream",
     "text": [
      "/opt/anaconda3/lib/python3.12/site-packages/sklearn/linear_model/_coordinate_descent.py:639: ConvergenceWarning: Objective did not converge. You might want to increase the number of iterations. Duality gap: 11948153434.748047, tolerance: 1337202986.211982\n",
      "  model = cd_fast.sparse_enet_coordinate_descent(\n",
      "/opt/anaconda3/lib/python3.12/site-packages/sklearn/linear_model/_coordinate_descent.py:639: ConvergenceWarning: Objective did not converge. You might want to increase the number of iterations. Duality gap: 2571638287.6035156, tolerance: 1319803942.6857777\n",
      "  model = cd_fast.sparse_enet_coordinate_descent(\n"
     ]
    },
    {
     "name": "stderr",
     "output_type": "stream",
     "text": [
      "/opt/anaconda3/lib/python3.12/site-packages/sklearn/linear_model/_coordinate_descent.py:639: ConvergenceWarning: Objective did not converge. You might want to increase the number of iterations. Duality gap: 1675555758.6774902, tolerance: 1312994426.820687\n",
      "  model = cd_fast.sparse_enet_coordinate_descent(\n",
      "/opt/anaconda3/lib/python3.12/site-packages/sklearn/linear_model/_coordinate_descent.py:639: ConvergenceWarning: Objective did not converge. You might want to increase the number of iterations. Duality gap: 2129336629.4941406, tolerance: 1315675217.756393\n",
      "  model = cd_fast.sparse_enet_coordinate_descent(\n"
     ]
    },
    {
     "name": "stderr",
     "output_type": "stream",
     "text": [
      "/opt/anaconda3/lib/python3.12/site-packages/sklearn/linear_model/_coordinate_descent.py:639: ConvergenceWarning: Objective did not converge. You might want to increase the number of iterations. Duality gap: 7524180283.94873, tolerance: 1308853167.6688402\n",
      "  model = cd_fast.sparse_enet_coordinate_descent(\n",
      "/opt/anaconda3/lib/python3.12/site-packages/sklearn/linear_model/_coordinate_descent.py:639: ConvergenceWarning: Objective did not converge. You might want to increase the number of iterations. Duality gap: 146149525971.8723, tolerance: 1245599125.7842226\n",
      "  model = cd_fast.sparse_enet_coordinate_descent(\n"
     ]
    },
    {
     "name": "stderr",
     "output_type": "stream",
     "text": [
      "/opt/anaconda3/lib/python3.12/site-packages/sklearn/linear_model/_coordinate_descent.py:639: ConvergenceWarning: Objective did not converge. You might want to increase the number of iterations. Duality gap: 97475459168.83008, tolerance: 1289294746.555055\n",
      "  model = cd_fast.sparse_enet_coordinate_descent(\n",
      "/opt/anaconda3/lib/python3.12/site-packages/sklearn/linear_model/_coordinate_descent.py:639: ConvergenceWarning: Objective did not converge. You might want to increase the number of iterations. Duality gap: 91110429242.47192, tolerance: 1290317696.6235976\n",
      "  model = cd_fast.sparse_enet_coordinate_descent(\n",
      "/opt/anaconda3/lib/python3.12/site-packages/sklearn/linear_model/_coordinate_descent.py:639: ConvergenceWarning: Objective did not converge. You might want to increase the number of iterations. Duality gap: 268278458175.7821, tolerance: 1337202986.211982\n",
      "  model = cd_fast.sparse_enet_coordinate_descent(\n"
     ]
    },
    {
     "name": "stderr",
     "output_type": "stream",
     "text": [
      "/opt/anaconda3/lib/python3.12/site-packages/sklearn/linear_model/_coordinate_descent.py:639: ConvergenceWarning: Objective did not converge. You might want to increase the number of iterations. Duality gap: 147056615166.93896, tolerance: 1319803942.6857777\n",
      "  model = cd_fast.sparse_enet_coordinate_descent(\n",
      "/opt/anaconda3/lib/python3.12/site-packages/sklearn/linear_model/_coordinate_descent.py:639: ConvergenceWarning: Objective did not converge. You might want to increase the number of iterations. Duality gap: 106713521702.87646, tolerance: 1315675217.756393\n",
      "  model = cd_fast.sparse_enet_coordinate_descent(\n"
     ]
    },
    {
     "name": "stderr",
     "output_type": "stream",
     "text": [
      "/opt/anaconda3/lib/python3.12/site-packages/sklearn/linear_model/_coordinate_descent.py:639: ConvergenceWarning: Objective did not converge. You might want to increase the number of iterations. Duality gap: 106901559290.90039, tolerance: 1312994426.820687\n",
      "  model = cd_fast.sparse_enet_coordinate_descent(\n",
      "/opt/anaconda3/lib/python3.12/site-packages/sklearn/linear_model/_coordinate_descent.py:639: ConvergenceWarning: Objective did not converge. You might want to increase the number of iterations. Duality gap: 137788044860.6328, tolerance: 1317610789.6479094\n",
      "  model = cd_fast.sparse_enet_coordinate_descent(\n",
      "/opt/anaconda3/lib/python3.12/site-packages/sklearn/linear_model/_coordinate_descent.py:639: ConvergenceWarning: Objective did not converge. You might want to increase the number of iterations. Duality gap: 119988136913.66821, tolerance: 1283092377.7778728\n",
      "  model = cd_fast.sparse_enet_coordinate_descent(\n"
     ]
    },
    {
     "name": "stderr",
     "output_type": "stream",
     "text": [
      "/opt/anaconda3/lib/python3.12/site-packages/sklearn/linear_model/_coordinate_descent.py:639: ConvergenceWarning: Objective did not converge. You might want to increase the number of iterations. Duality gap: 222730072105.437, tolerance: 1308853167.6688402\n",
      "  model = cd_fast.sparse_enet_coordinate_descent(\n",
      "/opt/anaconda3/lib/python3.12/site-packages/sklearn/linear_model/_coordinate_descent.py:639: ConvergenceWarning: Objective did not converge. You might want to increase the number of iterations. Duality gap: 754842855772.5715, tolerance: 1245599125.7842226\n",
      "  model = cd_fast.sparse_enet_coordinate_descent(\n",
      "/opt/anaconda3/lib/python3.12/site-packages/sklearn/linear_model/_coordinate_descent.py:639: ConvergenceWarning: Objective did not converge. You might want to increase the number of iterations. Duality gap: 815597155183.3972, tolerance: 1289294746.555055\n",
      "  model = cd_fast.sparse_enet_coordinate_descent(\n"
     ]
    },
    {
     "name": "stderr",
     "output_type": "stream",
     "text": [
      "/opt/anaconda3/lib/python3.12/site-packages/sklearn/linear_model/_coordinate_descent.py:639: ConvergenceWarning: Objective did not converge. You might want to increase the number of iterations. Duality gap: 760195213678.4017, tolerance: 1290317696.6235976\n",
      "  model = cd_fast.sparse_enet_coordinate_descent(\n"
     ]
    },
    {
     "name": "stderr",
     "output_type": "stream",
     "text": [
      "/opt/anaconda3/lib/python3.12/site-packages/sklearn/linear_model/_coordinate_descent.py:639: ConvergenceWarning: Objective did not converge. You might want to increase the number of iterations. Duality gap: 779968976029.9878, tolerance: 1337202986.211982\n",
      "  model = cd_fast.sparse_enet_coordinate_descent(\n",
      "/opt/anaconda3/lib/python3.12/site-packages/sklearn/linear_model/_coordinate_descent.py:639: ConvergenceWarning: Objective did not converge. You might want to increase the number of iterations. Duality gap: 828970442093.0964, tolerance: 1319803942.6857777\n",
      "  model = cd_fast.sparse_enet_coordinate_descent(\n",
      "/opt/anaconda3/lib/python3.12/site-packages/sklearn/linear_model/_coordinate_descent.py:639: ConvergenceWarning: Objective did not converge. You might want to increase the number of iterations. Duality gap: 819827801057.6299, tolerance: 1312994426.820687\n",
      "  model = cd_fast.sparse_enet_coordinate_descent(\n"
     ]
    },
    {
     "name": "stderr",
     "output_type": "stream",
     "text": [
      "/opt/anaconda3/lib/python3.12/site-packages/sklearn/linear_model/_coordinate_descent.py:639: ConvergenceWarning: Objective did not converge. You might want to increase the number of iterations. Duality gap: 807705392559.1954, tolerance: 1315675217.756393\n",
      "  model = cd_fast.sparse_enet_coordinate_descent(\n",
      "/opt/anaconda3/lib/python3.12/site-packages/sklearn/linear_model/_coordinate_descent.py:639: ConvergenceWarning: Objective did not converge. You might want to increase the number of iterations. Duality gap: 803478890853.3413, tolerance: 1283092377.7778728\n",
      "  model = cd_fast.sparse_enet_coordinate_descent(\n",
      "/opt/anaconda3/lib/python3.12/site-packages/sklearn/linear_model/_coordinate_descent.py:639: ConvergenceWarning: Objective did not converge. You might want to increase the number of iterations. Duality gap: 788075707731.1973, tolerance: 1317610789.6479094\n",
      "  model = cd_fast.sparse_enet_coordinate_descent(\n"
     ]
    },
    {
     "name": "stderr",
     "output_type": "stream",
     "text": [
      "/opt/anaconda3/lib/python3.12/site-packages/sklearn/linear_model/_coordinate_descent.py:639: ConvergenceWarning: Objective did not converge. You might want to increase the number of iterations. Duality gap: 816504739693.5701, tolerance: 1308853167.6688402\n",
      "  model = cd_fast.sparse_enet_coordinate_descent(\n",
      "/opt/anaconda3/lib/python3.12/site-packages/sklearn/linear_model/_coordinate_descent.py:639: ConvergenceWarning: Objective did not converge. You might want to increase the number of iterations. Duality gap: 862308888671.1066, tolerance: 1245599125.7842226\n",
      "  model = cd_fast.sparse_enet_coordinate_descent(\n"
     ]
    },
    {
     "name": "stderr",
     "output_type": "stream",
     "text": [
      "/opt/anaconda3/lib/python3.12/site-packages/sklearn/linear_model/_coordinate_descent.py:639: ConvergenceWarning: Objective did not converge. You might want to increase the number of iterations. Duality gap: 978853877691.1248, tolerance: 1289294746.555055\n",
      "  model = cd_fast.sparse_enet_coordinate_descent(\n",
      "/opt/anaconda3/lib/python3.12/site-packages/sklearn/linear_model/_coordinate_descent.py:639: ConvergenceWarning: Objective did not converge. You might want to increase the number of iterations. Duality gap: 925167437089.7417, tolerance: 1290317696.6235976\n",
      "  model = cd_fast.sparse_enet_coordinate_descent(\n",
      "/opt/anaconda3/lib/python3.12/site-packages/sklearn/linear_model/_coordinate_descent.py:639: ConvergenceWarning: Objective did not converge. You might want to increase the number of iterations. Duality gap: 901047701701.2745, tolerance: 1337202986.211982\n",
      "  model = cd_fast.sparse_enet_coordinate_descent(\n",
      "/opt/anaconda3/lib/python3.12/site-packages/sklearn/linear_model/_coordinate_descent.py:639: ConvergenceWarning: Objective did not converge. You might want to increase the number of iterations. Duality gap: 970679828485.3287, tolerance: 1319803942.6857777\n",
      "  model = cd_fast.sparse_enet_coordinate_descent(\n"
     ]
    },
    {
     "name": "stderr",
     "output_type": "stream",
     "text": [
      "/opt/anaconda3/lib/python3.12/site-packages/sklearn/linear_model/_coordinate_descent.py:639: ConvergenceWarning: Objective did not converge. You might want to increase the number of iterations. Duality gap: 978225063008.7013, tolerance: 1312994426.820687\n",
      "  model = cd_fast.sparse_enet_coordinate_descent(\n",
      "/opt/anaconda3/lib/python3.12/site-packages/sklearn/linear_model/_coordinate_descent.py:639: ConvergenceWarning: Objective did not converge. You might want to increase the number of iterations. Duality gap: 964913884055.5446, tolerance: 1315675217.756393\n",
      "  model = cd_fast.sparse_enet_coordinate_descent(\n"
     ]
    },
    {
     "name": "stderr",
     "output_type": "stream",
     "text": [
      "/opt/anaconda3/lib/python3.12/site-packages/sklearn/linear_model/_coordinate_descent.py:639: ConvergenceWarning: Objective did not converge. You might want to increase the number of iterations. Duality gap: 905990695846.3986, tolerance: 1317610789.6479094\n",
      "  model = cd_fast.sparse_enet_coordinate_descent(\n",
      "/opt/anaconda3/lib/python3.12/site-packages/sklearn/linear_model/_coordinate_descent.py:639: ConvergenceWarning: Objective did not converge. You might want to increase the number of iterations. Duality gap: 951982314270.2628, tolerance: 1283092377.7778728\n",
      "  model = cd_fast.sparse_enet_coordinate_descent(\n"
     ]
    },
    {
     "name": "stderr",
     "output_type": "stream",
     "text": [
      "/opt/anaconda3/lib/python3.12/site-packages/sklearn/linear_model/_coordinate_descent.py:639: ConvergenceWarning: Objective did not converge. You might want to increase the number of iterations. Duality gap: 958727551625.4534, tolerance: 1308853167.6688402\n",
      "  model = cd_fast.sparse_enet_coordinate_descent(\n"
     ]
    },
    {
     "name": "stderr",
     "output_type": "stream",
     "text": [
      "/opt/anaconda3/lib/python3.12/site-packages/sklearn/linear_model/_coordinate_descent.py:639: ConvergenceWarning: Objective did not converge. You might want to increase the number of iterations. Duality gap: 352341144567.2329, tolerance: 1245599125.7842226\n",
      "  model = cd_fast.sparse_enet_coordinate_descent(\n",
      "/opt/anaconda3/lib/python3.12/site-packages/sklearn/linear_model/_coordinate_descent.py:639: ConvergenceWarning: Objective did not converge. You might want to increase the number of iterations. Duality gap: 64049210182.41724, tolerance: 1289294746.555055\n",
      "  model = cd_fast.sparse_enet_coordinate_descent(\n"
     ]
    },
    {
     "name": "stderr",
     "output_type": "stream",
     "text": [
      "/opt/anaconda3/lib/python3.12/site-packages/sklearn/linear_model/_coordinate_descent.py:639: ConvergenceWarning: Objective did not converge. You might want to increase the number of iterations. Duality gap: 61028223873.698, tolerance: 1337202986.211982\n",
      "  model = cd_fast.sparse_enet_coordinate_descent(\n",
      "/opt/anaconda3/lib/python3.12/site-packages/sklearn/linear_model/_coordinate_descent.py:639: ConvergenceWarning: Objective did not converge. You might want to increase the number of iterations. Duality gap: 386283586934.0846, tolerance: 1290317696.6235976\n",
      "  model = cd_fast.sparse_enet_coordinate_descent(\n",
      "/opt/anaconda3/lib/python3.12/site-packages/sklearn/linear_model/_coordinate_descent.py:639: ConvergenceWarning: Objective did not converge. You might want to increase the number of iterations. Duality gap: 21472273587.63257, tolerance: 1319803942.6857777\n",
      "  model = cd_fast.sparse_enet_coordinate_descent(\n"
     ]
    },
    {
     "name": "stderr",
     "output_type": "stream",
     "text": [
      "/opt/anaconda3/lib/python3.12/site-packages/sklearn/linear_model/_coordinate_descent.py:639: ConvergenceWarning: Objective did not converge. You might want to increase the number of iterations. Duality gap: 97624989405.33984, tolerance: 1312994426.820687\n",
      "  model = cd_fast.sparse_enet_coordinate_descent(\n",
      "/opt/anaconda3/lib/python3.12/site-packages/sklearn/linear_model/_coordinate_descent.py:639: ConvergenceWarning: Objective did not converge. You might want to increase the number of iterations. Duality gap: 225280075421.0326, tolerance: 1315675217.756393\n",
      "  model = cd_fast.sparse_enet_coordinate_descent(\n"
     ]
    },
    {
     "name": "stderr",
     "output_type": "stream",
     "text": [
      "/opt/anaconda3/lib/python3.12/site-packages/sklearn/linear_model/_coordinate_descent.py:639: ConvergenceWarning: Objective did not converge. You might want to increase the number of iterations. Duality gap: 209554433724.79248, tolerance: 1317610789.6479094\n",
      "  model = cd_fast.sparse_enet_coordinate_descent(\n",
      "/opt/anaconda3/lib/python3.12/site-packages/sklearn/linear_model/_coordinate_descent.py:639: ConvergenceWarning: Objective did not converge. You might want to increase the number of iterations. Duality gap: 101840272452.60278, tolerance: 1283092377.7778728\n",
      "  model = cd_fast.sparse_enet_coordinate_descent(\n"
     ]
    },
    {
     "name": "stderr",
     "output_type": "stream",
     "text": [
      "/opt/anaconda3/lib/python3.12/site-packages/sklearn/linear_model/_coordinate_descent.py:639: ConvergenceWarning: Objective did not converge. You might want to increase the number of iterations. Duality gap: 65073313541.16992, tolerance: 1308853167.6688402\n",
      "  model = cd_fast.sparse_enet_coordinate_descent(\n",
      "/opt/anaconda3/lib/python3.12/site-packages/sklearn/linear_model/_coordinate_descent.py:639: ConvergenceWarning: Objective did not converge. You might want to increase the number of iterations. Duality gap: 1042802697906.6636, tolerance: 1289294746.555055\n",
      "  model = cd_fast.sparse_enet_coordinate_descent(\n",
      "/opt/anaconda3/lib/python3.12/site-packages/sklearn/linear_model/_coordinate_descent.py:639: ConvergenceWarning: Objective did not converge. You might want to increase the number of iterations. Duality gap: 920798172742.6221, tolerance: 1245599125.7842226\n",
      "  model = cd_fast.sparse_enet_coordinate_descent(\n",
      "/opt/anaconda3/lib/python3.12/site-packages/sklearn/linear_model/_coordinate_descent.py:639: ConvergenceWarning: Objective did not converge. You might want to increase the number of iterations. Duality gap: 997833191653.0364, tolerance: 1290317696.6235976\n",
      "  model = cd_fast.sparse_enet_coordinate_descent(\n"
     ]
    },
    {
     "name": "stderr",
     "output_type": "stream",
     "text": [
      "/opt/anaconda3/lib/python3.12/site-packages/sklearn/linear_model/_coordinate_descent.py:639: ConvergenceWarning: Objective did not converge. You might want to increase the number of iterations. Duality gap: 962599224088.7742, tolerance: 1337202986.211982\n",
      "  model = cd_fast.sparse_enet_coordinate_descent(\n",
      "/opt/anaconda3/lib/python3.12/site-packages/sklearn/linear_model/_coordinate_descent.py:639: ConvergenceWarning: Objective did not converge. You might want to increase the number of iterations. Duality gap: 1037282075754.9772, tolerance: 1319803942.6857777\n",
      "  model = cd_fast.sparse_enet_coordinate_descent(\n"
     ]
    },
    {
     "name": "stderr",
     "output_type": "stream",
     "text": [
      "/opt/anaconda3/lib/python3.12/site-packages/sklearn/linear_model/_coordinate_descent.py:639: ConvergenceWarning: Objective did not converge. You might want to increase the number of iterations. Duality gap: 1044579099330.2686, tolerance: 1312994426.820687\n",
      "  model = cd_fast.sparse_enet_coordinate_descent(\n",
      "/opt/anaconda3/lib/python3.12/site-packages/sklearn/linear_model/_coordinate_descent.py:639: ConvergenceWarning: Objective did not converge. You might want to increase the number of iterations. Duality gap: 1031812715618.1204, tolerance: 1315675217.756393\n",
      "  model = cd_fast.sparse_enet_coordinate_descent(\n"
     ]
    },
    {
     "name": "stderr",
     "output_type": "stream",
     "text": [
      "/opt/anaconda3/lib/python3.12/site-packages/sklearn/linear_model/_coordinate_descent.py:639: ConvergenceWarning: Objective did not converge. You might want to increase the number of iterations. Duality gap: 968477613044.152, tolerance: 1317610789.6479094\n",
      "  model = cd_fast.sparse_enet_coordinate_descent(\n",
      "/opt/anaconda3/lib/python3.12/site-packages/sklearn/linear_model/_coordinate_descent.py:639: ConvergenceWarning: Objective did not converge. You might want to increase the number of iterations. Duality gap: 1026128328294.5079, tolerance: 1308853167.6688402\n",
      "  model = cd_fast.sparse_enet_coordinate_descent(\n",
      "/opt/anaconda3/lib/python3.12/site-packages/sklearn/linear_model/_coordinate_descent.py:639: ConvergenceWarning: Objective did not converge. You might want to increase the number of iterations. Duality gap: 1020514693236.1499, tolerance: 1283092377.7778728\n",
      "  model = cd_fast.sparse_enet_coordinate_descent(\n"
     ]
    },
    {
     "name": "stderr",
     "output_type": "stream",
     "text": [
      "/opt/anaconda3/lib/python3.12/site-packages/sklearn/linear_model/_coordinate_descent.py:639: ConvergenceWarning: Objective did not converge. You might want to increase the number of iterations. Duality gap: 62830439306.23706, tolerance: 1245599125.7842226\n",
      "  model = cd_fast.sparse_enet_coordinate_descent(\n",
      "/opt/anaconda3/lib/python3.12/site-packages/sklearn/linear_model/_coordinate_descent.py:639: ConvergenceWarning: Objective did not converge. You might want to increase the number of iterations. Duality gap: 38996013853.08423, tolerance: 1289294746.555055\n",
      "  model = cd_fast.sparse_enet_coordinate_descent(\n",
      "/opt/anaconda3/lib/python3.12/site-packages/sklearn/linear_model/_coordinate_descent.py:639: ConvergenceWarning: Objective did not converge. You might want to increase the number of iterations. Duality gap: 35319557491.04224, tolerance: 1290317696.6235976\n",
      "  model = cd_fast.sparse_enet_coordinate_descent(\n",
      "/opt/anaconda3/lib/python3.12/site-packages/sklearn/linear_model/_coordinate_descent.py:639: ConvergenceWarning: Objective did not converge. You might want to increase the number of iterations. Duality gap: 110570352973.97485, tolerance: 1337202986.211982\n",
      "  model = cd_fast.sparse_enet_coordinate_descent(\n"
     ]
    },
    {
     "name": "stderr",
     "output_type": "stream",
     "text": [
      "/opt/anaconda3/lib/python3.12/site-packages/sklearn/linear_model/_coordinate_descent.py:639: ConvergenceWarning: Objective did not converge. You might want to increase the number of iterations. Duality gap: 59927414139.02026, tolerance: 1319803942.6857777\n",
      "  model = cd_fast.sparse_enet_coordinate_descent(\n",
      "/opt/anaconda3/lib/python3.12/site-packages/sklearn/linear_model/_coordinate_descent.py:639: ConvergenceWarning: Objective did not converge. You might want to increase the number of iterations. Duality gap: 42765045827.09082, tolerance: 1312994426.820687\n",
      "  model = cd_fast.sparse_enet_coordinate_descent(\n",
      "/opt/anaconda3/lib/python3.12/site-packages/sklearn/linear_model/_coordinate_descent.py:639: ConvergenceWarning: Objective did not converge. You might want to increase the number of iterations. Duality gap: 42724937641.01343, tolerance: 1315675217.756393\n",
      "  model = cd_fast.sparse_enet_coordinate_descent(\n"
     ]
    },
    {
     "name": "stderr",
     "output_type": "stream",
     "text": [
      "/opt/anaconda3/lib/python3.12/site-packages/sklearn/linear_model/_coordinate_descent.py:639: ConvergenceWarning: Objective did not converge. You might want to increase the number of iterations. Duality gap: 58710590635.81079, tolerance: 1317610789.6479094\n",
      "  model = cd_fast.sparse_enet_coordinate_descent(\n"
     ]
    },
    {
     "name": "stderr",
     "output_type": "stream",
     "text": [
      "/opt/anaconda3/lib/python3.12/site-packages/sklearn/linear_model/_coordinate_descent.py:639: ConvergenceWarning: Objective did not converge. You might want to increase the number of iterations. Duality gap: 47982344765.22974, tolerance: 1283092377.7778728\n",
      "  model = cd_fast.sparse_enet_coordinate_descent(\n",
      "/opt/anaconda3/lib/python3.12/site-packages/sklearn/linear_model/_coordinate_descent.py:639: ConvergenceWarning: Objective did not converge. You might want to increase the number of iterations. Duality gap: 66091063678.595215, tolerance: 1308853167.6688402\n",
      "  model = cd_fast.sparse_enet_coordinate_descent(\n",
      "/opt/anaconda3/lib/python3.12/site-packages/sklearn/linear_model/_coordinate_descent.py:639: ConvergenceWarning: Objective did not converge. You might want to increase the number of iterations. Duality gap: 352344322502.6024, tolerance: 1245599125.7842226\n",
      "  model = cd_fast.sparse_enet_coordinate_descent(\n",
      "/opt/anaconda3/lib/python3.12/site-packages/sklearn/linear_model/_coordinate_descent.py:639: ConvergenceWarning: Objective did not converge. You might want to increase the number of iterations. Duality gap: 64050691342.6001, tolerance: 1289294746.555055\n",
      "  model = cd_fast.sparse_enet_coordinate_descent(\n"
     ]
    },
    {
     "name": "stderr",
     "output_type": "stream",
     "text": [
      "/opt/anaconda3/lib/python3.12/site-packages/sklearn/linear_model/_coordinate_descent.py:639: ConvergenceWarning: Objective did not converge. You might want to increase the number of iterations. Duality gap: 386287049415.1854, tolerance: 1290317696.6235976\n",
      "  model = cd_fast.sparse_enet_coordinate_descent(\n",
      "/opt/anaconda3/lib/python3.12/site-packages/sklearn/linear_model/_coordinate_descent.py:639: ConvergenceWarning: Objective did not converge. You might want to increase the number of iterations. Duality gap: 61029805991.638916, tolerance: 1337202986.211982\n",
      "  model = cd_fast.sparse_enet_coordinate_descent(\n",
      "/opt/anaconda3/lib/python3.12/site-packages/sklearn/linear_model/_coordinate_descent.py:639: ConvergenceWarning: Objective did not converge. You might want to increase the number of iterations. Duality gap: 21473191108.230225, tolerance: 1319803942.6857777\n",
      "  model = cd_fast.sparse_enet_coordinate_descent(\n"
     ]
    },
    {
     "name": "stderr",
     "output_type": "stream",
     "text": [
      "/opt/anaconda3/lib/python3.12/site-packages/sklearn/linear_model/_coordinate_descent.py:639: ConvergenceWarning: Objective did not converge. You might want to increase the number of iterations. Duality gap: 97626790851.0166, tolerance: 1312994426.820687\n",
      "  model = cd_fast.sparse_enet_coordinate_descent(\n"
     ]
    },
    {
     "name": "stderr",
     "output_type": "stream",
     "text": [
      "/opt/anaconda3/lib/python3.12/site-packages/sklearn/linear_model/_coordinate_descent.py:639: ConvergenceWarning: Objective did not converge. You might want to increase the number of iterations. Duality gap: 225282605434.85718, tolerance: 1315675217.756393\n",
      "  model = cd_fast.sparse_enet_coordinate_descent(\n",
      "/opt/anaconda3/lib/python3.12/site-packages/sklearn/linear_model/_coordinate_descent.py:639: ConvergenceWarning: Objective did not converge. You might want to increase the number of iterations. Duality gap: 209557050852.07214, tolerance: 1317610789.6479094\n",
      "  model = cd_fast.sparse_enet_coordinate_descent(\n",
      "/opt/anaconda3/lib/python3.12/site-packages/sklearn/linear_model/_coordinate_descent.py:639: ConvergenceWarning: Objective did not converge. You might want to increase the number of iterations. Duality gap: 101842156426.19067, tolerance: 1283092377.7778728\n",
      "  model = cd_fast.sparse_enet_coordinate_descent(\n",
      "/opt/anaconda3/lib/python3.12/site-packages/sklearn/linear_model/_coordinate_descent.py:639: ConvergenceWarning: Objective did not converge. You might want to increase the number of iterations. Duality gap: 65074789977.52612, tolerance: 1308853167.6688402\n",
      "  model = cd_fast.sparse_enet_coordinate_descent(\n"
     ]
    },
    {
     "name": "stderr",
     "output_type": "stream",
     "text": [
      "/opt/anaconda3/lib/python3.12/site-packages/sklearn/linear_model/_coordinate_descent.py:639: ConvergenceWarning: Objective did not converge. You might want to increase the number of iterations. Duality gap: 979064105712.5569, tolerance: 1245599125.7842226\n",
      "  model = cd_fast.sparse_enet_coordinate_descent(\n",
      "/opt/anaconda3/lib/python3.12/site-packages/sklearn/linear_model/_coordinate_descent.py:639: ConvergenceWarning: Objective did not converge. You might want to increase the number of iterations. Duality gap: 1065275935178.2854, tolerance: 1290317696.6235976\n",
      "  model = cd_fast.sparse_enet_coordinate_descent(\n",
      "/opt/anaconda3/lib/python3.12/site-packages/sklearn/linear_model/_coordinate_descent.py:639: ConvergenceWarning: Objective did not converge. You might want to increase the number of iterations. Duality gap: 1103627978116.975, tolerance: 1289294746.555055\n",
      "  model = cd_fast.sparse_enet_coordinate_descent(\n"
     ]
    },
    {
     "name": "stderr",
     "output_type": "stream",
     "text": [
      "/opt/anaconda3/lib/python3.12/site-packages/sklearn/linear_model/_coordinate_descent.py:639: ConvergenceWarning: Objective did not converge. You might want to increase the number of iterations. Duality gap: 1022681276065.6731, tolerance: 1337202986.211982\n",
      "  model = cd_fast.sparse_enet_coordinate_descent(\n"
     ]
    },
    {
     "name": "stderr",
     "output_type": "stream",
     "text": [
      "/opt/anaconda3/lib/python3.12/site-packages/sklearn/linear_model/_coordinate_descent.py:639: ConvergenceWarning: Objective did not converge. You might want to increase the number of iterations. Duality gap: 1103516583446.1116, tolerance: 1319803942.6857777\n",
      "  model = cd_fast.sparse_enet_coordinate_descent(\n",
      "/opt/anaconda3/lib/python3.12/site-packages/sklearn/linear_model/_coordinate_descent.py:639: ConvergenceWarning: Objective did not converge. You might want to increase the number of iterations. Duality gap: 1108302171433.8916, tolerance: 1312994426.820687\n",
      "  model = cd_fast.sparse_enet_coordinate_descent(\n",
      "/opt/anaconda3/lib/python3.12/site-packages/sklearn/linear_model/_coordinate_descent.py:639: ConvergenceWarning: Objective did not converge. You might want to increase the number of iterations. Duality gap: 1096910618596.2366, tolerance: 1315675217.756393\n",
      "  model = cd_fast.sparse_enet_coordinate_descent(\n",
      "/opt/anaconda3/lib/python3.12/site-packages/sklearn/linear_model/_coordinate_descent.py:639: ConvergenceWarning: Objective did not converge. You might want to increase the number of iterations. Duality gap: 1030517049224.5015, tolerance: 1317610789.6479094\n",
      "  model = cd_fast.sparse_enet_coordinate_descent(\n"
     ]
    },
    {
     "name": "stderr",
     "output_type": "stream",
     "text": [
      "/opt/anaconda3/lib/python3.12/site-packages/sklearn/linear_model/_coordinate_descent.py:639: ConvergenceWarning: Objective did not converge. You might want to increase the number of iterations. Duality gap: 1086175092997.0966, tolerance: 1283092377.7778728\n",
      "  model = cd_fast.sparse_enet_coordinate_descent(\n",
      "/opt/anaconda3/lib/python3.12/site-packages/sklearn/linear_model/_coordinate_descent.py:639: ConvergenceWarning: Objective did not converge. You might want to increase the number of iterations. Duality gap: 1091724110221.6385, tolerance: 1308853167.6688402\n",
      "  model = cd_fast.sparse_enet_coordinate_descent(\n"
     ]
    },
    {
     "name": "stderr",
     "output_type": "stream",
     "text": [
      "/opt/anaconda3/lib/python3.12/site-packages/sklearn/linear_model/_coordinate_descent.py:639: ConvergenceWarning: Objective did not converge. You might want to increase the number of iterations. Duality gap: 352353120012.2948, tolerance: 1245599125.7842226\n",
      "  model = cd_fast.sparse_enet_coordinate_descent(\n",
      "/opt/anaconda3/lib/python3.12/site-packages/sklearn/linear_model/_coordinate_descent.py:639: ConvergenceWarning: Objective did not converge. You might want to increase the number of iterations. Duality gap: 64054773629.62744, tolerance: 1289294746.555055\n",
      "  model = cd_fast.sparse_enet_coordinate_descent(\n",
      "/opt/anaconda3/lib/python3.12/site-packages/sklearn/linear_model/_coordinate_descent.py:639: ConvergenceWarning: Objective did not converge. You might want to increase the number of iterations. Duality gap: 386296637782.1958, tolerance: 1290317696.6235976\n",
      "  model = cd_fast.sparse_enet_coordinate_descent(\n",
      "/opt/anaconda3/lib/python3.12/site-packages/sklearn/linear_model/_coordinate_descent.py:639: ConvergenceWarning: Objective did not converge. You might want to increase the number of iterations. Duality gap: 61034171371.468994, tolerance: 1337202986.211982\n",
      "  model = cd_fast.sparse_enet_coordinate_descent(\n",
      "/opt/anaconda3/lib/python3.12/site-packages/sklearn/linear_model/_coordinate_descent.py:639: ConvergenceWarning: Objective did not converge. You might want to increase the number of iterations. Duality gap: 21475712266.448486, tolerance: 1319803942.6857777\n",
      "  model = cd_fast.sparse_enet_coordinate_descent(\n",
      "/opt/anaconda3/lib/python3.12/site-packages/sklearn/linear_model/_coordinate_descent.py:639: ConvergenceWarning: Objective did not converge. You might want to increase the number of iterations. Duality gap: 97631764447.61523, tolerance: 1312994426.820687\n",
      "  model = cd_fast.sparse_enet_coordinate_descent(\n"
     ]
    },
    {
     "name": "stderr",
     "output_type": "stream",
     "text": [
      "/opt/anaconda3/lib/python3.12/site-packages/sklearn/linear_model/_coordinate_descent.py:639: ConvergenceWarning: Objective did not converge. You might want to increase the number of iterations. Duality gap: 225289598920.75647, tolerance: 1315675217.756393\n",
      "  model = cd_fast.sparse_enet_coordinate_descent(\n",
      "/opt/anaconda3/lib/python3.12/site-packages/sklearn/linear_model/_coordinate_descent.py:639: ConvergenceWarning: Objective did not converge. You might want to increase the number of iterations. Duality gap: 209564286512.9275, tolerance: 1317610789.6479094\n",
      "  model = cd_fast.sparse_enet_coordinate_descent(\n"
     ]
    },
    {
     "name": "stderr",
     "output_type": "stream",
     "text": [
      "/opt/anaconda3/lib/python3.12/site-packages/sklearn/linear_model/_coordinate_descent.py:639: ConvergenceWarning: Objective did not converge. You might want to increase the number of iterations. Duality gap: 101847378424.70776, tolerance: 1283092377.7778728\n",
      "  model = cd_fast.sparse_enet_coordinate_descent(\n",
      "/opt/anaconda3/lib/python3.12/site-packages/sklearn/linear_model/_coordinate_descent.py:639: ConvergenceWarning: Objective did not converge. You might want to increase the number of iterations. Duality gap: 1081989834558.8118, tolerance: 1245599125.7842226\n",
      "  model = cd_fast.sparse_enet_coordinate_descent(\n",
      "/opt/anaconda3/lib/python3.12/site-packages/sklearn/linear_model/_coordinate_descent.py:639: ConvergenceWarning: Objective did not converge. You might want to increase the number of iterations. Duality gap: 65078871769.147705, tolerance: 1308853167.6688402\n",
      "  model = cd_fast.sparse_enet_coordinate_descent(\n",
      "/opt/anaconda3/lib/python3.12/site-packages/sklearn/linear_model/_coordinate_descent.py:639: ConvergenceWarning: Objective did not converge. You might want to increase the number of iterations. Duality gap: 1210180724905.8918, tolerance: 1289294746.555055\n",
      "  model = cd_fast.sparse_enet_coordinate_descent(\n",
      "/opt/anaconda3/lib/python3.12/site-packages/sklearn/linear_model/_coordinate_descent.py:639: ConvergenceWarning: Objective did not converge. You might want to increase the number of iterations. Duality gap: 1178753927266.594, tolerance: 1290317696.6235976\n",
      "  model = cd_fast.sparse_enet_coordinate_descent(\n",
      "/opt/anaconda3/lib/python3.12/site-packages/sklearn/linear_model/_coordinate_descent.py:639: ConvergenceWarning: Objective did not converge. You might want to increase the number of iterations. Duality gap: 1129119132721.5122, tolerance: 1337202986.211982\n",
      "  model = cd_fast.sparse_enet_coordinate_descent(\n"
     ]
    },
    {
     "name": "stderr",
     "output_type": "stream",
     "text": [
      "/opt/anaconda3/lib/python3.12/site-packages/sklearn/linear_model/_coordinate_descent.py:639: ConvergenceWarning: Objective did not converge. You might want to increase the number of iterations. Duality gap: 1217157459212.5825, tolerance: 1319803942.6857777\n",
      "  model = cd_fast.sparse_enet_coordinate_descent(\n",
      "/opt/anaconda3/lib/python3.12/site-packages/sklearn/linear_model/_coordinate_descent.py:639: ConvergenceWarning: Objective did not converge. You might want to increase the number of iterations. Duality gap: 1218550249106.3057, tolerance: 1312994426.820687\n",
      "  model = cd_fast.sparse_enet_coordinate_descent(\n"
     ]
    },
    {
     "name": "stderr",
     "output_type": "stream",
     "text": [
      "/opt/anaconda3/lib/python3.12/site-packages/sklearn/linear_model/_coordinate_descent.py:639: ConvergenceWarning: Objective did not converge. You might want to increase the number of iterations. Duality gap: 1209570346531.248, tolerance: 1315675217.756393\n",
      "  model = cd_fast.sparse_enet_coordinate_descent(\n",
      "/opt/anaconda3/lib/python3.12/site-packages/sklearn/linear_model/_coordinate_descent.py:639: ConvergenceWarning: Objective did not converge. You might want to increase the number of iterations. Duality gap: 1139934528064.73, tolerance: 1317610789.6479094\n",
      "  model = cd_fast.sparse_enet_coordinate_descent(\n",
      "/opt/anaconda3/lib/python3.12/site-packages/sklearn/linear_model/_coordinate_descent.py:639: ConvergenceWarning: Objective did not converge. You might want to increase the number of iterations. Duality gap: 1203748199640.3337, tolerance: 1308853167.6688402\n",
      "  model = cd_fast.sparse_enet_coordinate_descent(\n",
      "/opt/anaconda3/lib/python3.12/site-packages/sklearn/linear_model/_coordinate_descent.py:639: ConvergenceWarning: Objective did not converge. You might want to increase the number of iterations. Duality gap: 1198146130786.9148, tolerance: 1283092377.7778728\n",
      "  model = cd_fast.sparse_enet_coordinate_descent(\n"
     ]
    },
    {
     "name": "stderr",
     "output_type": "stream",
     "text": [
      "/opt/anaconda3/lib/python3.12/site-packages/sklearn/linear_model/_coordinate_descent.py:639: ConvergenceWarning: Objective did not converge. You might want to increase the number of iterations. Duality gap: 19141122832.018066, tolerance: 1245599125.7842226\n",
      "  model = cd_fast.sparse_enet_coordinate_descent(\n",
      "/opt/anaconda3/lib/python3.12/site-packages/sklearn/linear_model/_coordinate_descent.py:639: ConvergenceWarning: Objective did not converge. You might want to increase the number of iterations. Duality gap: 386322962170.14355, tolerance: 1290317696.6235976\n",
      "  model = cd_fast.sparse_enet_coordinate_descent(\n",
      "/opt/anaconda3/lib/python3.12/site-packages/sklearn/linear_model/_coordinate_descent.py:639: ConvergenceWarning: Objective did not converge. You might want to increase the number of iterations. Duality gap: 64065833430.53418, tolerance: 1289294746.555055\n",
      "  model = cd_fast.sparse_enet_coordinate_descent(\n",
      "/opt/anaconda3/lib/python3.12/site-packages/sklearn/linear_model/_coordinate_descent.py:639: ConvergenceWarning: Objective did not converge. You might want to increase the number of iterations. Duality gap: 61046079644.95508, tolerance: 1337202986.211982\n",
      "  model = cd_fast.sparse_enet_coordinate_descent(\n",
      "/opt/anaconda3/lib/python3.12/site-packages/sklearn/linear_model/_coordinate_descent.py:639: ConvergenceWarning: Objective did not converge. You might want to increase the number of iterations. Duality gap: 21482508792.66284, tolerance: 1319803942.6857777\n",
      "  model = cd_fast.sparse_enet_coordinate_descent(\n",
      "/opt/anaconda3/lib/python3.12/site-packages/sklearn/linear_model/_coordinate_descent.py:639: ConvergenceWarning: Objective did not converge. You might want to increase the number of iterations. Duality gap: 97645300443.25732, tolerance: 1312994426.820687\n",
      "  model = cd_fast.sparse_enet_coordinate_descent(\n",
      "/opt/anaconda3/lib/python3.12/site-packages/sklearn/linear_model/_coordinate_descent.py:639: ConvergenceWarning: Objective did not converge. You might want to increase the number of iterations. Duality gap: 209584061671.91614, tolerance: 1317610789.6479094\n",
      "  model = cd_fast.sparse_enet_coordinate_descent(\n",
      "/opt/anaconda3/lib/python3.12/site-packages/sklearn/linear_model/_coordinate_descent.py:639: ConvergenceWarning: Objective did not converge. You might want to increase the number of iterations. Duality gap: 225308700012.76, tolerance: 1315675217.756393\n",
      "  model = cd_fast.sparse_enet_coordinate_descent(\n"
     ]
    },
    {
     "name": "stderr",
     "output_type": "stream",
     "text": [
      "/opt/anaconda3/lib/python3.12/site-packages/sklearn/linear_model/_coordinate_descent.py:639: ConvergenceWarning: Objective did not converge. You might want to increase the number of iterations. Duality gap: 59402787804.418945, tolerance: 1283092377.7778728\n",
      "  model = cd_fast.sparse_enet_coordinate_descent(\n",
      "/opt/anaconda3/lib/python3.12/site-packages/sklearn/linear_model/_coordinate_descent.py:639: ConvergenceWarning: Objective did not converge. You might want to increase the number of iterations. Duality gap: 64863089361.451904, tolerance: 1308853167.6688402\n",
      "  model = cd_fast.sparse_enet_coordinate_descent(\n",
      "/opt/anaconda3/lib/python3.12/site-packages/sklearn/linear_model/_coordinate_descent.py:639: ConvergenceWarning: Objective did not converge. You might want to increase the number of iterations. Duality gap: 1253754378259.893, tolerance: 1245599125.7842226\n",
      "  model = cd_fast.sparse_enet_coordinate_descent(\n",
      "/opt/anaconda3/lib/python3.12/site-packages/sklearn/linear_model/_coordinate_descent.py:639: ConvergenceWarning: Objective did not converge. You might want to increase the number of iterations. Duality gap: 1385034066351.5378, tolerance: 1289294746.555055\n",
      "  model = cd_fast.sparse_enet_coordinate_descent(\n",
      "/opt/anaconda3/lib/python3.12/site-packages/sklearn/linear_model/_coordinate_descent.py:639: ConvergenceWarning: Objective did not converge. You might want to increase the number of iterations. Duality gap: 1357846903624.2312, tolerance: 1290317696.6235976\n",
      "  model = cd_fast.sparse_enet_coordinate_descent(\n",
      "/opt/anaconda3/lib/python3.12/site-packages/sklearn/linear_model/_coordinate_descent.py:639: ConvergenceWarning: Objective did not converge. You might want to increase the number of iterations. Duality gap: 1308479922209.7798, tolerance: 1337202986.211982\n",
      "  model = cd_fast.sparse_enet_coordinate_descent(\n",
      "/opt/anaconda3/lib/python3.12/site-packages/sklearn/linear_model/_coordinate_descent.py:639: ConvergenceWarning: Objective did not converge. You might want to increase the number of iterations. Duality gap: 1398966487670.484, tolerance: 1319803942.6857777\n",
      "  model = cd_fast.sparse_enet_coordinate_descent(\n",
      "/opt/anaconda3/lib/python3.12/site-packages/sklearn/linear_model/_coordinate_descent.py:639: ConvergenceWarning: Objective did not converge. You might want to increase the number of iterations. Duality gap: 1397278971346.1333, tolerance: 1312994426.820687\n",
      "  model = cd_fast.sparse_enet_coordinate_descent(\n"
     ]
    },
    {
     "name": "stderr",
     "output_type": "stream",
     "text": [
      "/opt/anaconda3/lib/python3.12/site-packages/sklearn/linear_model/_coordinate_descent.py:639: ConvergenceWarning: Objective did not converge. You might want to increase the number of iterations. Duality gap: 1390858998143.2568, tolerance: 1315675217.756393\n",
      "  model = cd_fast.sparse_enet_coordinate_descent(\n",
      "/opt/anaconda3/lib/python3.12/site-packages/sklearn/linear_model/_coordinate_descent.py:639: ConvergenceWarning: Objective did not converge. You might want to increase the number of iterations. Duality gap: 1321595669336.1487, tolerance: 1317610789.6479094\n",
      "  model = cd_fast.sparse_enet_coordinate_descent(\n",
      "/opt/anaconda3/lib/python3.12/site-packages/sklearn/linear_model/_coordinate_descent.py:639: ConvergenceWarning: Objective did not converge. You might want to increase the number of iterations. Duality gap: 1376274670143.644, tolerance: 1283092377.7778728\n",
      "  model = cd_fast.sparse_enet_coordinate_descent(\n",
      "/opt/anaconda3/lib/python3.12/site-packages/sklearn/linear_model/_coordinate_descent.py:639: ConvergenceWarning: Objective did not converge. You might want to increase the number of iterations. Duality gap: 1383201141235.6646, tolerance: 1308853167.6688402\n",
      "  model = cd_fast.sparse_enet_coordinate_descent(\n"
     ]
    },
    {
     "name": "stderr",
     "output_type": "stream",
     "text": [
      "/opt/anaconda3/lib/python3.12/site-packages/sklearn/linear_model/_coordinate_descent.py:639: ConvergenceWarning: Objective did not converge. You might want to increase the number of iterations. Duality gap: 19159998180.246826, tolerance: 1245599125.7842226\n",
      "  model = cd_fast.sparse_enet_coordinate_descent(\n",
      "/opt/anaconda3/lib/python3.12/site-packages/sklearn/linear_model/_coordinate_descent.py:639: ConvergenceWarning: Objective did not converge. You might want to increase the number of iterations. Duality gap: 21499781218.01953, tolerance: 1319803942.6857777\n",
      "  model = cd_fast.sparse_enet_coordinate_descent(\n",
      "/opt/anaconda3/lib/python3.12/site-packages/sklearn/linear_model/_coordinate_descent.py:639: ConvergenceWarning: Objective did not converge. You might want to increase the number of iterations. Duality gap: 386313824325.36096, tolerance: 1290317696.6235976\n",
      "  model = cd_fast.sparse_enet_coordinate_descent(\n",
      "/opt/anaconda3/lib/python3.12/site-packages/sklearn/linear_model/_coordinate_descent.py:639: ConvergenceWarning: Objective did not converge. You might want to increase the number of iterations. Duality gap: 1549988764227.671, tolerance: 1245599125.7842226\n",
      "  model = cd_fast.sparse_enet_coordinate_descent(\n",
      "/opt/anaconda3/lib/python3.12/site-packages/sklearn/linear_model/_coordinate_descent.py:639: ConvergenceWarning: Objective did not converge. You might want to increase the number of iterations. Duality gap: 59432160544.00806, tolerance: 1283092377.7778728\n",
      "  model = cd_fast.sparse_enet_coordinate_descent(\n",
      "/opt/anaconda3/lib/python3.12/site-packages/sklearn/linear_model/_coordinate_descent.py:639: ConvergenceWarning: Objective did not converge. You might want to increase the number of iterations. Duality gap: 97732359417.46973, tolerance: 1315675217.756393\n",
      "  model = cd_fast.sparse_enet_coordinate_descent(\n",
      "/opt/anaconda3/lib/python3.12/site-packages/sklearn/linear_model/_coordinate_descent.py:639: ConvergenceWarning: Objective did not converge. You might want to increase the number of iterations. Duality gap: 1655720101738.6157, tolerance: 1290317696.6235976\n",
      "  model = cd_fast.sparse_enet_coordinate_descent(\n"
     ]
    },
    {
     "name": "stderr",
     "output_type": "stream",
     "text": [
      "/opt/anaconda3/lib/python3.12/site-packages/sklearn/linear_model/_coordinate_descent.py:639: ConvergenceWarning: Objective did not converge. You might want to increase the number of iterations. Duality gap: 1704464465288.836, tolerance: 1319803942.6857777\n",
      "  model = cd_fast.sparse_enet_coordinate_descent(\n"
     ]
    },
    {
     "name": "stderr",
     "output_type": "stream",
     "text": [
      "/opt/anaconda3/lib/python3.12/site-packages/sklearn/linear_model/_coordinate_descent.py:639: ConvergenceWarning: Objective did not converge. You might want to increase the number of iterations. Duality gap: 64094162352.37598, tolerance: 1289294746.555055\n",
      "  model = cd_fast.sparse_enet_coordinate_descent(\n",
      "/opt/anaconda3/lib/python3.12/site-packages/sklearn/linear_model/_coordinate_descent.py:639: ConvergenceWarning: Objective did not converge. You might want to increase the number of iterations. Duality gap: 97680534530.8584, tolerance: 1312994426.820687\n",
      "  model = cd_fast.sparse_enet_coordinate_descent(\n",
      "/opt/anaconda3/lib/python3.12/site-packages/sklearn/linear_model/_coordinate_descent.py:639: ConvergenceWarning: Objective did not converge. You might want to increase the number of iterations. Duality gap: 61076978769.26099, tolerance: 1337202986.211982\n",
      "  model = cd_fast.sparse_enet_coordinate_descent(\n",
      "/opt/anaconda3/lib/python3.12/site-packages/sklearn/linear_model/_coordinate_descent.py:639: ConvergenceWarning: Objective did not converge. You might want to increase the number of iterations. Duality gap: 1682135821920.1248, tolerance: 1289294746.555055\n",
      "  model = cd_fast.sparse_enet_coordinate_descent(\n",
      "/opt/anaconda3/lib/python3.12/site-packages/sklearn/linear_model/_coordinate_descent.py:639: ConvergenceWarning: Objective did not converge. You might want to increase the number of iterations. Duality gap: 65119415505.55884, tolerance: 1308853167.6688402\n",
      "  model = cd_fast.sparse_enet_coordinate_descent(\n"
     ]
    },
    {
     "name": "stderr",
     "output_type": "stream",
     "text": [
      "/opt/anaconda3/lib/python3.12/site-packages/sklearn/linear_model/_coordinate_descent.py:639: ConvergenceWarning: Objective did not converge. You might want to increase the number of iterations. Duality gap: 59676506935.91797, tolerance: 1317610789.6479094\n",
      "  model = cd_fast.sparse_enet_coordinate_descent(\n",
      "/opt/anaconda3/lib/python3.12/site-packages/sklearn/linear_model/_coordinate_descent.py:639: ConvergenceWarning: Objective did not converge. You might want to increase the number of iterations. Duality gap: 1620834199195.0972, tolerance: 1337202986.211982\n",
      "  model = cd_fast.sparse_enet_coordinate_descent(\n",
      "/opt/anaconda3/lib/python3.12/site-packages/sklearn/linear_model/_coordinate_descent.py:639: ConvergenceWarning: Objective did not converge. You might want to increase the number of iterations. Duality gap: 1699388469187.0034, tolerance: 1312994426.820687\n",
      "  model = cd_fast.sparse_enet_coordinate_descent(\n"
     ]
    },
    {
     "name": "stderr",
     "output_type": "stream",
     "text": [
      "/opt/anaconda3/lib/python3.12/site-packages/sklearn/linear_model/_coordinate_descent.py:639: ConvergenceWarning: Objective did not converge. You might want to increase the number of iterations. Duality gap: 1696352409037.8455, tolerance: 1315675217.756393\n",
      "  model = cd_fast.sparse_enet_coordinate_descent(\n",
      "/opt/anaconda3/lib/python3.12/site-packages/sklearn/linear_model/_coordinate_descent.py:639: ConvergenceWarning: Objective did not converge. You might want to increase the number of iterations. Duality gap: 1672198533308.5793, tolerance: 1283092377.7778728\n",
      "  model = cd_fast.sparse_enet_coordinate_descent(\n"
     ]
    },
    {
     "name": "stderr",
     "output_type": "stream",
     "text": [
      "/opt/anaconda3/lib/python3.12/site-packages/sklearn/linear_model/_coordinate_descent.py:639: ConvergenceWarning: Objective did not converge. You might want to increase the number of iterations. Duality gap: 1631654264085.9922, tolerance: 1317610789.6479094\n",
      "  model = cd_fast.sparse_enet_coordinate_descent(\n",
      "/opt/anaconda3/lib/python3.12/site-packages/sklearn/linear_model/_coordinate_descent.py:639: ConvergenceWarning: Objective did not converge. You might want to increase the number of iterations. Duality gap: 19202598791.37256, tolerance: 1245599125.7842226\n",
      "  model = cd_fast.sparse_enet_coordinate_descent(\n",
      "/opt/anaconda3/lib/python3.12/site-packages/sklearn/linear_model/_coordinate_descent.py:639: ConvergenceWarning: Objective did not converge. You might want to increase the number of iterations. Duality gap: 1684913230370.382, tolerance: 1308853167.6688402\n",
      "  model = cd_fast.sparse_enet_coordinate_descent(\n",
      "/opt/anaconda3/lib/python3.12/site-packages/sklearn/linear_model/_coordinate_descent.py:639: ConvergenceWarning: Objective did not converge. You might want to increase the number of iterations. Duality gap: 21538895979.99243, tolerance: 1319803942.6857777\n",
      "  model = cd_fast.sparse_enet_coordinate_descent(\n",
      "/opt/anaconda3/lib/python3.12/site-packages/sklearn/linear_model/_coordinate_descent.py:639: ConvergenceWarning: Objective did not converge. You might want to increase the number of iterations. Duality gap: 60797640838.83911, tolerance: 1290317696.6235976\n",
      "  model = cd_fast.sparse_enet_coordinate_descent(\n",
      "/opt/anaconda3/lib/python3.12/site-packages/sklearn/linear_model/_coordinate_descent.py:639: ConvergenceWarning: Objective did not converge. You might want to increase the number of iterations. Duality gap: 5689895357.345459, tolerance: 1315675217.756393\n",
      "  model = cd_fast.sparse_enet_coordinate_descent(\n",
      "/opt/anaconda3/lib/python3.12/site-packages/sklearn/linear_model/_coordinate_descent.py:639: ConvergenceWarning: Objective did not converge. You might want to increase the number of iterations. Duality gap: 170924821662.55908, tolerance: 1283092377.7778728\n",
      "  model = cd_fast.sparse_enet_coordinate_descent(\n"
     ]
    },
    {
     "name": "stderr",
     "output_type": "stream",
     "text": [
      "/opt/anaconda3/lib/python3.12/site-packages/sklearn/linear_model/_coordinate_descent.py:639: ConvergenceWarning: Objective did not converge. You might want to increase the number of iterations. Duality gap: 2083203530114.228, tolerance: 1245599125.7842226\n",
      "  model = cd_fast.sparse_enet_coordinate_descent(\n"
     ]
    },
    {
     "name": "stderr",
     "output_type": "stream",
     "text": [
      "/opt/anaconda3/lib/python3.12/site-packages/sklearn/linear_model/_coordinate_descent.py:639: ConvergenceWarning: Objective did not converge. You might want to increase the number of iterations. Duality gap: 64164335997.80322, tolerance: 1289294746.555055\n",
      "  model = cd_fast.sparse_enet_coordinate_descent(\n",
      "/opt/anaconda3/lib/python3.12/site-packages/sklearn/linear_model/_coordinate_descent.py:639: ConvergenceWarning: Objective did not converge. You might want to increase the number of iterations. Duality gap: 273566049943.31152, tolerance: 1308853167.6688402\n",
      "  model = cd_fast.sparse_enet_coordinate_descent(\n",
      "/opt/anaconda3/lib/python3.12/site-packages/sklearn/linear_model/_coordinate_descent.py:639: ConvergenceWarning: Objective did not converge. You might want to increase the number of iterations. Duality gap: 160025879401.45886, tolerance: 1337202986.211982\n",
      "  model = cd_fast.sparse_enet_coordinate_descent(\n",
      "/opt/anaconda3/lib/python3.12/site-packages/sklearn/linear_model/_coordinate_descent.py:639: ConvergenceWarning: Objective did not converge. You might want to increase the number of iterations. Duality gap: 65358894375.32764, tolerance: 1312994426.820687\n",
      "  model = cd_fast.sparse_enet_coordinate_descent(\n",
      "/opt/anaconda3/lib/python3.12/site-packages/sklearn/linear_model/_coordinate_descent.py:639: ConvergenceWarning: Objective did not converge. You might want to increase the number of iterations. Duality gap: 153837313656.82056, tolerance: 1317610789.6479094\n",
      "  model = cd_fast.sparse_enet_coordinate_descent(\n",
      "/opt/anaconda3/lib/python3.12/site-packages/sklearn/linear_model/_coordinate_descent.py:639: ConvergenceWarning: Objective did not converge. You might want to increase the number of iterations. Duality gap: 2187981729964.6343, tolerance: 1290317696.6235976\n",
      "  model = cd_fast.sparse_enet_coordinate_descent(\n",
      "/opt/anaconda3/lib/python3.12/site-packages/sklearn/linear_model/_coordinate_descent.py:639: ConvergenceWarning: Objective did not converge. You might want to increase the number of iterations. Duality gap: 2251384294319.195, tolerance: 1319803942.6857777\n",
      "  model = cd_fast.sparse_enet_coordinate_descent(\n"
     ]
    },
    {
     "name": "stderr",
     "output_type": "stream",
     "text": [
      "/opt/anaconda3/lib/python3.12/site-packages/sklearn/linear_model/_coordinate_descent.py:639: ConvergenceWarning: Objective did not converge. You might want to increase the number of iterations. Duality gap: 2215351809995.639, tolerance: 1289294746.555055\n",
      "  model = cd_fast.sparse_enet_coordinate_descent(\n"
     ]
    },
    {
     "name": "stderr",
     "output_type": "stream",
     "text": [
      "/opt/anaconda3/lib/python3.12/site-packages/sklearn/linear_model/_coordinate_descent.py:639: ConvergenceWarning: Objective did not converge. You might want to increase the number of iterations. Duality gap: 2244716715942.559, tolerance: 1315675217.756393\n",
      "  model = cd_fast.sparse_enet_coordinate_descent(\n",
      "/opt/anaconda3/lib/python3.12/site-packages/sklearn/linear_model/_coordinate_descent.py:639: ConvergenceWarning: Objective did not converge. You might want to increase the number of iterations. Duality gap: 2198122888715.8286, tolerance: 1283092377.7778728\n",
      "  model = cd_fast.sparse_enet_coordinate_descent(\n",
      "/opt/anaconda3/lib/python3.12/site-packages/sklearn/linear_model/_coordinate_descent.py:639: ConvergenceWarning: Objective did not converge. You might want to increase the number of iterations. Duality gap: 2240448651132.4277, tolerance: 1312994426.820687\n",
      "  model = cd_fast.sparse_enet_coordinate_descent(\n"
     ]
    },
    {
     "name": "stderr",
     "output_type": "stream",
     "text": [
      "/opt/anaconda3/lib/python3.12/site-packages/sklearn/linear_model/_coordinate_descent.py:639: ConvergenceWarning: Objective did not converge. You might want to increase the number of iterations. Duality gap: 2186162818240.8276, tolerance: 1337202986.211982\n",
      "  model = cd_fast.sparse_enet_coordinate_descent(\n"
     ]
    },
    {
     "name": "stderr",
     "output_type": "stream",
     "text": [
      "/opt/anaconda3/lib/python3.12/site-packages/sklearn/linear_model/_coordinate_descent.py:639: ConvergenceWarning: Objective did not converge. You might want to increase the number of iterations. Duality gap: 2183693212618.7441, tolerance: 1317610789.6479094\n",
      "  model = cd_fast.sparse_enet_coordinate_descent(\n",
      "/opt/anaconda3/lib/python3.12/site-packages/sklearn/linear_model/_coordinate_descent.py:639: ConvergenceWarning: Objective did not converge. You might want to increase the number of iterations. Duality gap: 2225306868968.8438, tolerance: 1308853167.6688402\n",
      "  model = cd_fast.sparse_enet_coordinate_descent(\n",
      "/opt/anaconda3/lib/python3.12/site-packages/sklearn/linear_model/_coordinate_descent.py:639: ConvergenceWarning: Objective did not converge. You might want to increase the number of iterations. Duality gap: 19323943042.57544, tolerance: 1245599125.7842226\n",
      "  model = cd_fast.sparse_enet_coordinate_descent(\n",
      "/opt/anaconda3/lib/python3.12/site-packages/sklearn/linear_model/_coordinate_descent.py:639: ConvergenceWarning: Objective did not converge. You might want to increase the number of iterations. Duality gap: 61010314291.4397, tolerance: 1290317696.6235976\n",
      "  model = cd_fast.sparse_enet_coordinate_descent(\n",
      "/opt/anaconda3/lib/python3.12/site-packages/sklearn/linear_model/_coordinate_descent.py:639: ConvergenceWarning: Objective did not converge. You might want to increase the number of iterations. Duality gap: 21648993004.242676, tolerance: 1319803942.6857777\n",
      "  model = cd_fast.sparse_enet_coordinate_descent(\n"
     ]
    },
    {
     "name": "stderr",
     "output_type": "stream",
     "text": [
      "/opt/anaconda3/lib/python3.12/site-packages/sklearn/linear_model/_coordinate_descent.py:639: ConvergenceWarning: Objective did not converge. You might want to increase the number of iterations. Duality gap: 5763610280.503174, tolerance: 1315675217.756393\n",
      "  model = cd_fast.sparse_enet_coordinate_descent(\n",
      "/opt/anaconda3/lib/python3.12/site-packages/sklearn/linear_model/_coordinate_descent.py:639: ConvergenceWarning: Objective did not converge. You might want to increase the number of iterations. Duality gap: 59702616721.85278, tolerance: 1283092377.7778728\n",
      "  model = cd_fast.sparse_enet_coordinate_descent(\n",
      "/opt/anaconda3/lib/python3.12/site-packages/sklearn/linear_model/_coordinate_descent.py:639: ConvergenceWarning: Objective did not converge. You might want to increase the number of iterations. Duality gap: 2963132627320.5786, tolerance: 1245599125.7842226\n",
      "  model = cd_fast.sparse_enet_coordinate_descent(\n"
     ]
    },
    {
     "name": "stderr",
     "output_type": "stream",
     "text": [
      "/opt/anaconda3/lib/python3.12/site-packages/sklearn/linear_model/_coordinate_descent.py:639: ConvergenceWarning: Objective did not converge. You might want to increase the number of iterations. Duality gap: 3159708121590.072, tolerance: 1319803942.6857777\n",
      "  model = cd_fast.sparse_enet_coordinate_descent(\n",
      "/opt/anaconda3/lib/python3.12/site-packages/sklearn/linear_model/_coordinate_descent.py:639: ConvergenceWarning: Objective did not converge. You might want to increase the number of iterations. Duality gap: 3075326002024.0015, tolerance: 1290317696.6235976\n",
      "  model = cd_fast.sparse_enet_coordinate_descent(\n",
      "/opt/anaconda3/lib/python3.12/site-packages/sklearn/linear_model/_coordinate_descent.py:639: ConvergenceWarning: Objective did not converge. You might want to increase the number of iterations. Duality gap: 6803374812.592041, tolerance: 1337202986.211982\n",
      "  model = cd_fast.sparse_enet_coordinate_descent(\n",
      "/opt/anaconda3/lib/python3.12/site-packages/sklearn/linear_model/_coordinate_descent.py:639: ConvergenceWarning: Objective did not converge. You might want to increase the number of iterations. Duality gap: 61810239623.373535, tolerance: 1289294746.555055\n",
      "  model = cd_fast.sparse_enet_coordinate_descent(\n",
      "/opt/anaconda3/lib/python3.12/site-packages/sklearn/linear_model/_coordinate_descent.py:639: ConvergenceWarning: Objective did not converge. You might want to increase the number of iterations. Duality gap: 65717711504.40576, tolerance: 1312994426.820687\n",
      "  model = cd_fast.sparse_enet_coordinate_descent(\n",
      "/opt/anaconda3/lib/python3.12/site-packages/sklearn/linear_model/_coordinate_descent.py:639: ConvergenceWarning: Objective did not converge. You might want to increase the number of iterations. Duality gap: 65390987982.87695, tolerance: 1308853167.6688402\n",
      "  model = cd_fast.sparse_enet_coordinate_descent(\n",
      "/opt/anaconda3/lib/python3.12/site-packages/sklearn/linear_model/_coordinate_descent.py:639: ConvergenceWarning: Objective did not converge. You might want to increase the number of iterations. Duality gap: 6851977650.889648, tolerance: 1317610789.6479094\n",
      "  model = cd_fast.sparse_enet_coordinate_descent(\n"
     ]
    },
    {
     "name": "stderr",
     "output_type": "stream",
     "text": [
      "/opt/anaconda3/lib/python3.12/site-packages/sklearn/linear_model/_coordinate_descent.py:639: ConvergenceWarning: Objective did not converge. You might want to increase the number of iterations. Duality gap: 3100698849003.037, tolerance: 1289294746.555055\n",
      "  model = cd_fast.sparse_enet_coordinate_descent(\n"
     ]
    },
    {
     "name": "stderr",
     "output_type": "stream",
     "text": [
      "/opt/anaconda3/lib/python3.12/site-packages/sklearn/linear_model/_coordinate_descent.py:639: ConvergenceWarning: Objective did not converge. You might want to increase the number of iterations. Duality gap: 3139449991128.664, tolerance: 1312994426.820687\n",
      "  model = cd_fast.sparse_enet_coordinate_descent(\n",
      "/opt/anaconda3/lib/python3.12/site-packages/sklearn/linear_model/_coordinate_descent.py:639: ConvergenceWarning: Objective did not converge. You might want to increase the number of iterations. Duality gap: 3126279737400.846, tolerance: 1337202986.211982\n",
      "  model = cd_fast.sparse_enet_coordinate_descent(\n",
      "/opt/anaconda3/lib/python3.12/site-packages/sklearn/linear_model/_coordinate_descent.py:639: ConvergenceWarning: Objective did not converge. You might want to increase the number of iterations. Duality gap: 3155754260548.1826, tolerance: 1315675217.756393\n",
      "  model = cd_fast.sparse_enet_coordinate_descent(\n",
      "/opt/anaconda3/lib/python3.12/site-packages/sklearn/linear_model/_coordinate_descent.py:639: ConvergenceWarning: Objective did not converge. You might want to increase the number of iterations. Duality gap: 3072170962644.142, tolerance: 1283092377.7778728\n",
      "  model = cd_fast.sparse_enet_coordinate_descent(\n"
     ]
    },
    {
     "name": "stderr",
     "output_type": "stream",
     "text": [
      "/opt/anaconda3/lib/python3.12/site-packages/sklearn/linear_model/_coordinate_descent.py:639: ConvergenceWarning: Objective did not converge. You might want to increase the number of iterations. Duality gap: 21836441168.54883, tolerance: 1319803942.6857777\n",
      "  model = cd_fast.sparse_enet_coordinate_descent(\n",
      "/opt/anaconda3/lib/python3.12/site-packages/sklearn/linear_model/_coordinate_descent.py:639: ConvergenceWarning: Objective did not converge. You might want to increase the number of iterations. Duality gap: 3123995425498.6357, tolerance: 1308853167.6688402\n",
      "  model = cd_fast.sparse_enet_coordinate_descent(\n",
      "/opt/anaconda3/lib/python3.12/site-packages/sklearn/linear_model/_coordinate_descent.py:639: ConvergenceWarning: Objective did not converge. You might want to increase the number of iterations. Duality gap: 3096126525987.1855, tolerance: 1317610789.6479094\n",
      "  model = cd_fast.sparse_enet_coordinate_descent(\n",
      "/opt/anaconda3/lib/python3.12/site-packages/sklearn/linear_model/_coordinate_descent.py:639: ConvergenceWarning: Objective did not converge. You might want to increase the number of iterations. Duality gap: 4102018043047.9214, tolerance: 1245599125.7842226\n",
      "  model = cd_fast.sparse_enet_coordinate_descent(\n"
     ]
    },
    {
     "name": "stderr",
     "output_type": "stream",
     "text": [
      "/opt/anaconda3/lib/python3.12/site-packages/sklearn/linear_model/_coordinate_descent.py:639: ConvergenceWarning: Objective did not converge. You might want to increase the number of iterations. Duality gap: 2313387378.2629395, tolerance: 1312994426.820687\n",
      "  model = cd_fast.sparse_enet_coordinate_descent(\n",
      "/opt/anaconda3/lib/python3.12/site-packages/sklearn/linear_model/_coordinate_descent.py:639: ConvergenceWarning: Objective did not converge. You might want to increase the number of iterations. Duality gap: 1338455850.2009277, tolerance: 1308853167.6688402\n",
      "  model = cd_fast.sparse_enet_coordinate_descent(\n",
      "/opt/anaconda3/lib/python3.12/site-packages/sklearn/linear_model/_coordinate_descent.py:639: ConvergenceWarning: Objective did not converge. You might want to increase the number of iterations. Duality gap: 4348285237431.783, tolerance: 1319803942.6857777\n",
      "  model = cd_fast.sparse_enet_coordinate_descent(\n",
      "/opt/anaconda3/lib/python3.12/site-packages/sklearn/linear_model/_coordinate_descent.py:639: ConvergenceWarning: Objective did not converge. You might want to increase the number of iterations. Duality gap: 4240731662144.365, tolerance: 1290317696.6235976\n",
      "  model = cd_fast.sparse_enet_coordinate_descent(\n"
     ]
    },
    {
     "name": "stderr",
     "output_type": "stream",
     "text": [
      "/opt/anaconda3/lib/python3.12/site-packages/sklearn/linear_model/_coordinate_descent.py:639: ConvergenceWarning: Objective did not converge. You might want to increase the number of iterations. Duality gap: 4257791978998.715, tolerance: 1289294746.555055\n",
      "  model = cd_fast.sparse_enet_coordinate_descent(\n"
     ]
    },
    {
     "name": "stderr",
     "output_type": "stream",
     "text": [
      "/opt/anaconda3/lib/python3.12/site-packages/sklearn/linear_model/_coordinate_descent.py:639: ConvergenceWarning: Objective did not converge. You might want to increase the number of iterations. Duality gap: 4344029476601.5703, tolerance: 1315675217.756393\n",
      "  model = cd_fast.sparse_enet_coordinate_descent(\n",
      "/opt/anaconda3/lib/python3.12/site-packages/sklearn/linear_model/_coordinate_descent.py:639: ConvergenceWarning: Objective did not converge. You might want to increase the number of iterations. Duality gap: 4221506298179.8164, tolerance: 1283092377.7778728\n",
      "  model = cd_fast.sparse_enet_coordinate_descent(\n",
      "/opt/anaconda3/lib/python3.12/site-packages/sklearn/linear_model/_coordinate_descent.py:639: ConvergenceWarning: Objective did not converge. You might want to increase the number of iterations. Duality gap: 4318862239842.2524, tolerance: 1312994426.820687\n",
      "  model = cd_fast.sparse_enet_coordinate_descent(\n"
     ]
    },
    {
     "name": "stderr",
     "output_type": "stream",
     "text": [
      "/opt/anaconda3/lib/python3.12/site-packages/sklearn/linear_model/_coordinate_descent.py:639: ConvergenceWarning: Objective did not converge. You might want to increase the number of iterations. Duality gap: 4356791056047.004, tolerance: 1337202986.211982\n",
      "  model = cd_fast.sparse_enet_coordinate_descent(\n"
     ]
    },
    {
     "name": "stderr",
     "output_type": "stream",
     "text": [
      "/opt/anaconda3/lib/python3.12/site-packages/sklearn/linear_model/_coordinate_descent.py:639: ConvergenceWarning: Objective did not converge. You might want to increase the number of iterations. Duality gap: 4294287433966.509, tolerance: 1317610789.6479094\n",
      "  model = cd_fast.sparse_enet_coordinate_descent(\n",
      "/opt/anaconda3/lib/python3.12/site-packages/sklearn/linear_model/_coordinate_descent.py:639: ConvergenceWarning: Objective did not converge. You might want to increase the number of iterations. Duality gap: 4302856596272.5977, tolerance: 1308853167.6688402\n",
      "  model = cd_fast.sparse_enet_coordinate_descent(\n"
     ]
    },
    {
     "name": "stderr",
     "output_type": "stream",
     "text": [
      "/opt/anaconda3/lib/python3.12/site-packages/sklearn/linear_model/_coordinate_descent.py:639: ConvergenceWarning: Objective did not converge. You might want to increase the number of iterations. Duality gap: 5127869855033.26, tolerance: 1245599125.7842226\n",
      "  model = cd_fast.sparse_enet_coordinate_descent(\n"
     ]
    },
    {
     "name": "stderr",
     "output_type": "stream",
     "text": [
      "/opt/anaconda3/lib/python3.12/site-packages/sklearn/linear_model/_coordinate_descent.py:639: ConvergenceWarning: Objective did not converge. You might want to increase the number of iterations. Duality gap: 5302780553851.988, tolerance: 1290317696.6235976\n",
      "  model = cd_fast.sparse_enet_coordinate_descent(\n",
      "/opt/anaconda3/lib/python3.12/site-packages/sklearn/linear_model/_coordinate_descent.py:639: ConvergenceWarning: Objective did not converge. You might want to increase the number of iterations. Duality gap: 5420164716192.598, tolerance: 1315675217.756393\n",
      "  model = cd_fast.sparse_enet_coordinate_descent(\n",
      "/opt/anaconda3/lib/python3.12/site-packages/sklearn/linear_model/_coordinate_descent.py:639: ConvergenceWarning: Objective did not converge. You might want to increase the number of iterations. Duality gap: 5272922754838.845, tolerance: 1283092377.7778728\n",
      "  model = cd_fast.sparse_enet_coordinate_descent(\n"
     ]
    },
    {
     "name": "stderr",
     "output_type": "stream",
     "text": [
      "/opt/anaconda3/lib/python3.12/site-packages/sklearn/linear_model/_coordinate_descent.py:639: ConvergenceWarning: Objective did not converge. You might want to increase the number of iterations. Duality gap: 5429710283906.14, tolerance: 1319803942.6857777\n",
      "  model = cd_fast.sparse_enet_coordinate_descent(\n"
     ]
    },
    {
     "name": "stderr",
     "output_type": "stream",
     "text": [
      "/opt/anaconda3/lib/python3.12/site-packages/sklearn/linear_model/_coordinate_descent.py:639: ConvergenceWarning: Objective did not converge. You might want to increase the number of iterations. Duality gap: 5309638117633.984, tolerance: 1289294746.555055\n",
      "  model = cd_fast.sparse_enet_coordinate_descent(\n"
     ]
    },
    {
     "name": "stderr",
     "output_type": "stream",
     "text": [
      "/opt/anaconda3/lib/python3.12/site-packages/sklearn/linear_model/_coordinate_descent.py:639: ConvergenceWarning: Objective did not converge. You might want to increase the number of iterations. Duality gap: 5476342109878.651, tolerance: 1337202986.211982\n",
      "  model = cd_fast.sparse_enet_coordinate_descent(\n",
      "/opt/anaconda3/lib/python3.12/site-packages/sklearn/linear_model/_coordinate_descent.py:639: ConvergenceWarning: Objective did not converge. You might want to increase the number of iterations. Duality gap: 5392186796050.198, tolerance: 1317610789.6479094\n",
      "  model = cd_fast.sparse_enet_coordinate_descent(\n",
      "/opt/anaconda3/lib/python3.12/site-packages/sklearn/linear_model/_coordinate_descent.py:639: ConvergenceWarning: Objective did not converge. You might want to increase the number of iterations. Duality gap: 5395932309535.487, tolerance: 1312994426.820687\n",
      "  model = cd_fast.sparse_enet_coordinate_descent(\n"
     ]
    },
    {
     "name": "stderr",
     "output_type": "stream",
     "text": [
      "/opt/anaconda3/lib/python3.12/site-packages/sklearn/linear_model/_coordinate_descent.py:639: ConvergenceWarning: Objective did not converge. You might want to increase the number of iterations. Duality gap: 5378395745152.979, tolerance: 1308853167.6688402\n",
      "  model = cd_fast.sparse_enet_coordinate_descent(\n"
     ]
    },
    {
     "name": "stdout",
     "output_type": "stream",
     "text": [
      "Best Elastic Regression Parameters: {'elastic__alpha': 0.007742636826811269, 'elastic__l1_ratio': 0.7777777777777777}\n",
      "Best Elastic Regression Score: -32758.46763068562\n",
      "Best Elastic Regression Parameters: {'elastic__alpha': 0.007742636826811269, 'elastic__l1_ratio': 0.7777777777777777}\n",
      "Best Elastic Regression Score: -32758.46763068562\n"
     ]
    }
   ],
   "source": [
    "X = train2.drop(['SalePrice', 'PID'], axis = 1)\n",
    "y = train2['SalePrice']\n",
    "\n",
    "# ChatGPT recommended that I use Imputer to fill in the NAN values in Lot Frontage\n",
    "# I used ChatGPT to get this column transformer \n",
    "ct = ColumnTransformer([\n",
    "  ('numeric', Pipeline([('imputer', SimpleImputer(strategy='mean')), ('scaler', StandardScaler())\n",
    "    ]), make_column_selector(dtype_include=np.number)),\n",
    "    ('categorical', Pipeline([('imputer', SimpleImputer(strategy='most_frequent')), ('encoder', OneHotEncoder(handle_unknown='ignore'))\n",
    "    ]), make_column_selector(dtype_include=object))\n",
    "])\n",
    "\n",
    "elastic_pipeline = Pipeline([\n",
    "    ('preprocessing', ct),\n",
    "    ('elastic', ElasticNet())\n",
    "])\n",
    "\n",
    "param_grid = {\n",
    "    'elastic__alpha': np.logspace(-3, 1, 10),  \n",
    "    'elastic__l1_ratio': np.linspace(0, 1, 10) \n",
    "}\n",
    "\n",
    "elastic_grid_search = GridSearchCV(elastic_pipeline, param_grid, cv=10, scoring='neg_root_mean_squared_error', n_jobs=-1)\n",
    "elastic_grid_search.fit(X, y)\n",
    "\n",
    "print(\"Best Elastic Regression Parameters:\", elastic_grid_search.best_params_)\n",
    "print(\"Best Elastic Regression Score:\", elastic_grid_search.best_score_)"
   ]
  },
  {
   "cell_type": "code",
   "execution_count": 87,
   "metadata": {
    "vscode": {
     "languageId": "python"
    }
   },
   "outputs": [
    {
     "name": "stdout",
     "output_type": "stream",
     "text": [
      "32977.55096688384\n",
      "32977.55096688384\n"
     ]
    }
   ],
   "source": [
    "elastic_pipeline = Pipeline([\n",
    "    ('preprocessing', ct),\n",
    "    ('elastic', ElasticNet(alpha=0.007742636826811269, l1_ratio=0.7777777777777777))\n",
    "])\n",
    "\n",
    "elastic_pipeline.fit(X, y)\n",
    "\n",
    "scores = abs(cross_val_score(elastic_pipeline, X, y, cv=5, scoring='neg_root_mean_squared_error'))\n",
    "print(scores.mean())"
   ]
  },
  {
   "cell_type": "markdown",
   "metadata": {},
   "source": [
    "RSME is very high so ChatGPT recommended that I Log-Transform my target variable"
   ]
  },
  {
   "cell_type": "code",
   "execution_count": 94,
   "metadata": {
    "vscode": {
     "languageId": "python"
    }
   },
   "outputs": [
    {
     "name": "stdout",
     "output_type": "stream",
     "text": [
      "Best Elastic Regression Parameters: {'elastic__alpha': 0.0027825594022071257, 'elastic__l1_ratio': 0.0}\n",
      "Best Elastic Regression Parameters: {'elastic__alpha': 0.0027825594022071257, 'elastic__l1_ratio': 0.0}\n"
     ]
    }
   ],
   "source": [
    "X = train2.drop(['SalePrice', 'PID'], axis = 1)\n",
    "# Log transforming SalePrice to reduce RSME used ChatGPT to get this log transformation\n",
    "y = np.log(train2['SalePrice'])\n",
    "\n",
    "ct2 = ColumnTransformer([\n",
    "  ('numeric', Pipeline([('imputer', SimpleImputer(strategy='mean')), ('scaler', StandardScaler())\n",
    "    ]), make_column_selector(dtype_include=np.number)),\n",
    "    ('categorical', Pipeline([('imputer', SimpleImputer(strategy='most_frequent')), ('encoder', OneHotEncoder(handle_unknown='ignore'))\n",
    "    ]), make_column_selector(dtype_include=object))\n",
    "])\n",
    "\n",
    "elastic_pipeline2 = Pipeline([\n",
    "    ('preprocessing', ct2),\n",
    "    ('elastic', ElasticNet())\n",
    "])\n",
    "\n",
    "param_grid = {\n",
    "    'elastic__alpha': np.logspace(-3, 1, 10),  \n",
    "    'elastic__l1_ratio': np.linspace(0, 1, 10) \n",
    "}\n",
    "\n",
    "elastic_grid_search2 = GridSearchCV(elastic_pipeline2, param_grid, cv=10, scoring='neg_root_mean_squared_error')\n",
    "\n",
    "elastic_grid_search2.fit(X, y)\n",
    "\n",
    "\n",
    "print(\"Best Elastic Regression Parameters:\", elastic_grid_search2.best_params_)\n"
   ]
  },
  {
   "cell_type": "code",
   "execution_count": 96,
   "metadata": {
    "vscode": {
     "languageId": "python"
    }
   },
   "outputs": [
    {
     "name": "stdout",
     "output_type": "stream",
     "text": [
      "0.14865112983629009\n",
      "0.14865112983629009\n"
     ]
    }
   ],
   "source": [
    "elastic_pipeline2 = Pipeline([\n",
    "    ('preprocessing', ct2),\n",
    "    ('elastic', ElasticNet(alpha=0.0027825594022071257, l1_ratio=0.0))\n",
    "])\n",
    "\n",
    "elastic_pipeline2.fit(X_train, y_train)\n",
    "\n",
    "scores = abs(cross_val_score(elastic_pipeline, X, y, cv=5, scoring='neg_root_mean_squared_error'))\n",
    "print(scores.mean())"
   ]
  },
  {
   "cell_type": "code",
   "execution_count": 97,
   "metadata": {
    "vscode": {
     "languageId": "python"
    }
   },
   "outputs": [],
   "source": [
    "test2 = pd.read_csv(\"test_new.csv\")"
   ]
  },
  {
   "cell_type": "code",
   "execution_count": 99,
   "metadata": {
    "vscode": {
     "languageId": "python"
    }
   },
   "outputs": [
    {
     "data": {
      "text/plain": [
       "605"
      ]
     },
     "execution_count": null,
     "metadata": {},
     "output_type": "execute_result"
    }
   ],
   "source": [
    "attempt1_model = elastic_pipeline2.fit(X, y)\n",
    "\n",
    "X_test = test2.drop(columns=['PID'])\n",
    "PID = test2['PID']\n",
    "\n",
    "y_pred_log = attempt1_model.predict(X_test) \n",
    "# Exp to undo the log transformation\n",
    "y_pred = np.exp(y_pred_log) \n",
    "\n",
    "results_df = pd.DataFrame({\n",
    "    'PID': PID, \n",
    "    'SalePrice': y_pred\n",
    "})\n",
    "\n",
    "results_df.to_csv('attempt1_house_prices.csv', index=False)\n"
   ]
  }
 ],
 "metadata": {
  "language_info": {
   "name": "raw"
  }
 },
 "nbformat": 4,
 "nbformat_minor": 2
}
