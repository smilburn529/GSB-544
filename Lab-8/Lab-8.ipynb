{
 "cells": [
  {
   "cell_type": "raw",
   "metadata": {},
   "source": [
    "---\n",
    "title: \"Lab 8: Cannabis Types\"\n",
    "author: \"Steve Milburn\"\n",
    "embed-resources: true\n",
    "---"
   ]
  },
  {
   "cell_type": "code",
   "execution_count": 45,
   "metadata": {
    "vscode": {
     "languageId": "python"
    }
   },
   "outputs": [],
   "source": [
    "import pandas as pd\n",
    "import numpy as np\n",
    "import matplotlib.pyplot as plt\n",
    "from sklearn.pipeline import Pipeline\n",
    "from sklearn.neighbors import KNeighborsClassifier\n",
    "from sklearn.tree import DecisionTreeClassifier\n",
    "from sklearn.linear_model import LogisticRegression\n",
    "from sklearn.compose import make_column_selector, ColumnTransformer\n",
    "from sklearn.discriminant_analysis import LinearDiscriminantAnalysis, QuadraticDiscriminantAnalysis\n",
    "from sklearn.svm import SVC\n",
    "from sklearn.preprocessing import StandardScaler, OneHotEncoder\n",
    "from sklearn.model_selection import GridSearchCV, cross_val_score, cross_val_predict\n",
    "from sklearn.tree import DecisionTreeClassifier, plot_tree\n",
    "from sklearn.metrics import get_scorer_names, confusion_matrix, ConfusionMatrixDisplay, classification_report\n",
    "\n",
    "from sklearn.impute import SimpleImputer"
   ]
  },
  {
   "cell_type": "code",
   "execution_count": 46,
   "metadata": {
    "vscode": {
     "languageId": "python"
    }
   },
   "outputs": [],
   "source": [
    "weed = pd.read_csv(\"cannabis_full.csv\")"
   ]
  },
  {
   "cell_type": "markdown",
   "metadata": {},
   "source": [
    "## Part One: Binary Classification"
   ]
  },
  {
   "cell_type": "code",
   "execution_count": 47,
   "metadata": {
    "vscode": {
     "languageId": "python"
    }
   },
   "outputs": [
    {
     "data": {
      "text/html": [
       "<div>\n",
       "<style scoped>\n",
       "    .dataframe tbody tr th:only-of-type {\n",
       "        vertical-align: middle;\n",
       "    }\n",
       "\n",
       "    .dataframe tbody tr th {\n",
       "        vertical-align: top;\n",
       "    }\n",
       "\n",
       "    .dataframe thead th {\n",
       "        text-align: right;\n",
       "    }\n",
       "</style>\n",
       "<table border=\"1\" class=\"dataframe\">\n",
       "  <thead>\n",
       "    <tr style=\"text-align: right;\">\n",
       "      <th></th>\n",
       "      <th>Strain</th>\n",
       "      <th>Type</th>\n",
       "      <th>Rating</th>\n",
       "      <th>Effects</th>\n",
       "      <th>Flavor</th>\n",
       "      <th>Creative</th>\n",
       "      <th>Energetic</th>\n",
       "      <th>Tingly</th>\n",
       "      <th>Euphoric</th>\n",
       "      <th>Relaxed</th>\n",
       "      <th>Aroused</th>\n",
       "      <th>Happy</th>\n",
       "      <th>Uplifted</th>\n",
       "      <th>Hungry</th>\n",
       "      <th>Talkative</th>\n",
       "      <th>Giggly</th>\n",
       "      <th>Focused</th>\n",
       "      <th>Sleepy</th>\n",
       "      <th>Dry</th>\n",
       "      <th>Mouth</th>\n",
       "      <th>Earthy</th>\n",
       "      <th>Sweet</th>\n",
       "      <th>Citrus</th>\n",
       "      <th>Flowery</th>\n",
       "      <th>Violet</th>\n",
       "      <th>Diesel</th>\n",
       "      <th>Spicy/Herbal</th>\n",
       "      <th>Sage</th>\n",
       "      <th>Woody</th>\n",
       "      <th>Apricot</th>\n",
       "      <th>Grapefruit</th>\n",
       "      <th>Orange</th>\n",
       "      <th>Pungent</th>\n",
       "      <th>Grape</th>\n",
       "      <th>Pine</th>\n",
       "      <th>Skunk</th>\n",
       "      <th>Berry</th>\n",
       "      <th>Pepper</th>\n",
       "      <th>Menthol</th>\n",
       "      <th>Blue</th>\n",
       "      <th>Cheese</th>\n",
       "      <th>Chemical</th>\n",
       "      <th>Mango</th>\n",
       "      <th>Lemon</th>\n",
       "      <th>Peach</th>\n",
       "      <th>Vanilla</th>\n",
       "      <th>Nutty</th>\n",
       "      <th>Chestnut</th>\n",
       "      <th>Tea</th>\n",
       "      <th>Tobacco</th>\n",
       "      <th>Tropical</th>\n",
       "      <th>Strawberry</th>\n",
       "      <th>Blueberry</th>\n",
       "      <th>Mint</th>\n",
       "      <th>Apple</th>\n",
       "      <th>Honey</th>\n",
       "      <th>Lavender</th>\n",
       "      <th>Lime</th>\n",
       "      <th>Coffee</th>\n",
       "      <th>Ammonia</th>\n",
       "      <th>Minty</th>\n",
       "      <th>Tree</th>\n",
       "      <th>Fruit</th>\n",
       "      <th>Butter</th>\n",
       "      <th>Pineapple</th>\n",
       "      <th>Tar</th>\n",
       "      <th>Rose</th>\n",
       "      <th>Plum</th>\n",
       "      <th>Pear</th>\n",
       "    </tr>\n",
       "  </thead>\n",
       "  <tbody>\n",
       "    <tr>\n",
       "      <th>2</th>\n",
       "      <td>1024</td>\n",
       "      <td>sativa</td>\n",
       "      <td>4.4</td>\n",
       "      <td>Uplifted,Happy,Relaxed,Energetic,Creative</td>\n",
       "      <td>Spicy/Herbal,Sage,Woody</td>\n",
       "      <td>1.0</td>\n",
       "      <td>1.0</td>\n",
       "      <td>0.0</td>\n",
       "      <td>0.0</td>\n",
       "      <td>1.0</td>\n",
       "      <td>0.0</td>\n",
       "      <td>1.0</td>\n",
       "      <td>1.0</td>\n",
       "      <td>0.0</td>\n",
       "      <td>0.0</td>\n",
       "      <td>0.0</td>\n",
       "      <td>0.0</td>\n",
       "      <td>0.0</td>\n",
       "      <td>0.0</td>\n",
       "      <td>0.0</td>\n",
       "      <td>0.0</td>\n",
       "      <td>0.0</td>\n",
       "      <td>0.0</td>\n",
       "      <td>0.0</td>\n",
       "      <td>0.0</td>\n",
       "      <td>0.0</td>\n",
       "      <td>1.0</td>\n",
       "      <td>1.0</td>\n",
       "      <td>1.0</td>\n",
       "      <td>0.0</td>\n",
       "      <td>0.0</td>\n",
       "      <td>0.0</td>\n",
       "      <td>0.0</td>\n",
       "      <td>0.0</td>\n",
       "      <td>0.0</td>\n",
       "      <td>0.0</td>\n",
       "      <td>0.0</td>\n",
       "      <td>0.0</td>\n",
       "      <td>0.0</td>\n",
       "      <td>0.0</td>\n",
       "      <td>0.0</td>\n",
       "      <td>0.0</td>\n",
       "      <td>0.0</td>\n",
       "      <td>0.0</td>\n",
       "      <td>0.0</td>\n",
       "      <td>0.0</td>\n",
       "      <td>0.0</td>\n",
       "      <td>0.0</td>\n",
       "      <td>0.0</td>\n",
       "      <td>0.0</td>\n",
       "      <td>0.0</td>\n",
       "      <td>0.0</td>\n",
       "      <td>0.0</td>\n",
       "      <td>0.0</td>\n",
       "      <td>0.0</td>\n",
       "      <td>0.0</td>\n",
       "      <td>0.0</td>\n",
       "      <td>0.0</td>\n",
       "      <td>0.0</td>\n",
       "      <td>0.0</td>\n",
       "      <td>0.0</td>\n",
       "      <td>0.0</td>\n",
       "      <td>0.0</td>\n",
       "      <td>0.0</td>\n",
       "      <td>0.0</td>\n",
       "      <td>0.0</td>\n",
       "      <td>0.0</td>\n",
       "      <td>0.0</td>\n",
       "      <td>0.0</td>\n",
       "    </tr>\n",
       "    <tr>\n",
       "      <th>5</th>\n",
       "      <td>3-Bears-Og</td>\n",
       "      <td>indica</td>\n",
       "      <td>0.0</td>\n",
       "      <td>NaN</td>\n",
       "      <td>NaN</td>\n",
       "      <td>0.0</td>\n",
       "      <td>0.0</td>\n",
       "      <td>0.0</td>\n",
       "      <td>0.0</td>\n",
       "      <td>0.0</td>\n",
       "      <td>0.0</td>\n",
       "      <td>0.0</td>\n",
       "      <td>0.0</td>\n",
       "      <td>0.0</td>\n",
       "      <td>0.0</td>\n",
       "      <td>0.0</td>\n",
       "      <td>0.0</td>\n",
       "      <td>0.0</td>\n",
       "      <td>0.0</td>\n",
       "      <td>0.0</td>\n",
       "      <td>0.0</td>\n",
       "      <td>0.0</td>\n",
       "      <td>0.0</td>\n",
       "      <td>0.0</td>\n",
       "      <td>0.0</td>\n",
       "      <td>0.0</td>\n",
       "      <td>0.0</td>\n",
       "      <td>0.0</td>\n",
       "      <td>0.0</td>\n",
       "      <td>0.0</td>\n",
       "      <td>0.0</td>\n",
       "      <td>0.0</td>\n",
       "      <td>0.0</td>\n",
       "      <td>0.0</td>\n",
       "      <td>0.0</td>\n",
       "      <td>0.0</td>\n",
       "      <td>0.0</td>\n",
       "      <td>0.0</td>\n",
       "      <td>0.0</td>\n",
       "      <td>0.0</td>\n",
       "      <td>0.0</td>\n",
       "      <td>0.0</td>\n",
       "      <td>0.0</td>\n",
       "      <td>0.0</td>\n",
       "      <td>0.0</td>\n",
       "      <td>0.0</td>\n",
       "      <td>0.0</td>\n",
       "      <td>0.0</td>\n",
       "      <td>0.0</td>\n",
       "      <td>0.0</td>\n",
       "      <td>0.0</td>\n",
       "      <td>0.0</td>\n",
       "      <td>0.0</td>\n",
       "      <td>0.0</td>\n",
       "      <td>0.0</td>\n",
       "      <td>0.0</td>\n",
       "      <td>0.0</td>\n",
       "      <td>0.0</td>\n",
       "      <td>0.0</td>\n",
       "      <td>0.0</td>\n",
       "      <td>0.0</td>\n",
       "      <td>0.0</td>\n",
       "      <td>0.0</td>\n",
       "      <td>0.0</td>\n",
       "      <td>0.0</td>\n",
       "      <td>0.0</td>\n",
       "      <td>0.0</td>\n",
       "      <td>0.0</td>\n",
       "      <td>0.0</td>\n",
       "    </tr>\n",
       "    <tr>\n",
       "      <th>7</th>\n",
       "      <td>303-Og</td>\n",
       "      <td>indica</td>\n",
       "      <td>4.2</td>\n",
       "      <td>Relaxed,Happy,Euphoric,Uplifted,Giggly</td>\n",
       "      <td>Citrus,Pungent,Earthy</td>\n",
       "      <td>0.0</td>\n",
       "      <td>0.0</td>\n",
       "      <td>0.0</td>\n",
       "      <td>1.0</td>\n",
       "      <td>1.0</td>\n",
       "      <td>0.0</td>\n",
       "      <td>1.0</td>\n",
       "      <td>1.0</td>\n",
       "      <td>0.0</td>\n",
       "      <td>0.0</td>\n",
       "      <td>1.0</td>\n",
       "      <td>0.0</td>\n",
       "      <td>0.0</td>\n",
       "      <td>0.0</td>\n",
       "      <td>0.0</td>\n",
       "      <td>1.0</td>\n",
       "      <td>0.0</td>\n",
       "      <td>1.0</td>\n",
       "      <td>0.0</td>\n",
       "      <td>0.0</td>\n",
       "      <td>0.0</td>\n",
       "      <td>0.0</td>\n",
       "      <td>0.0</td>\n",
       "      <td>0.0</td>\n",
       "      <td>0.0</td>\n",
       "      <td>0.0</td>\n",
       "      <td>0.0</td>\n",
       "      <td>1.0</td>\n",
       "      <td>0.0</td>\n",
       "      <td>0.0</td>\n",
       "      <td>0.0</td>\n",
       "      <td>0.0</td>\n",
       "      <td>0.0</td>\n",
       "      <td>0.0</td>\n",
       "      <td>0.0</td>\n",
       "      <td>0.0</td>\n",
       "      <td>0.0</td>\n",
       "      <td>0.0</td>\n",
       "      <td>0.0</td>\n",
       "      <td>0.0</td>\n",
       "      <td>0.0</td>\n",
       "      <td>0.0</td>\n",
       "      <td>0.0</td>\n",
       "      <td>0.0</td>\n",
       "      <td>0.0</td>\n",
       "      <td>0.0</td>\n",
       "      <td>0.0</td>\n",
       "      <td>0.0</td>\n",
       "      <td>0.0</td>\n",
       "      <td>0.0</td>\n",
       "      <td>0.0</td>\n",
       "      <td>0.0</td>\n",
       "      <td>0.0</td>\n",
       "      <td>0.0</td>\n",
       "      <td>0.0</td>\n",
       "      <td>0.0</td>\n",
       "      <td>0.0</td>\n",
       "      <td>0.0</td>\n",
       "      <td>0.0</td>\n",
       "      <td>0.0</td>\n",
       "      <td>0.0</td>\n",
       "      <td>0.0</td>\n",
       "      <td>0.0</td>\n",
       "      <td>0.0</td>\n",
       "    </tr>\n",
       "    <tr>\n",
       "      <th>8</th>\n",
       "      <td>3D-Cbd</td>\n",
       "      <td>sativa</td>\n",
       "      <td>4.6</td>\n",
       "      <td>Uplifted,Focused,Happy,Talkative,Relaxed</td>\n",
       "      <td>Earthy,Woody,Flowery</td>\n",
       "      <td>0.0</td>\n",
       "      <td>0.0</td>\n",
       "      <td>0.0</td>\n",
       "      <td>0.0</td>\n",
       "      <td>1.0</td>\n",
       "      <td>0.0</td>\n",
       "      <td>1.0</td>\n",
       "      <td>1.0</td>\n",
       "      <td>0.0</td>\n",
       "      <td>1.0</td>\n",
       "      <td>0.0</td>\n",
       "      <td>1.0</td>\n",
       "      <td>0.0</td>\n",
       "      <td>0.0</td>\n",
       "      <td>0.0</td>\n",
       "      <td>1.0</td>\n",
       "      <td>0.0</td>\n",
       "      <td>0.0</td>\n",
       "      <td>1.0</td>\n",
       "      <td>0.0</td>\n",
       "      <td>0.0</td>\n",
       "      <td>0.0</td>\n",
       "      <td>0.0</td>\n",
       "      <td>1.0</td>\n",
       "      <td>0.0</td>\n",
       "      <td>0.0</td>\n",
       "      <td>0.0</td>\n",
       "      <td>0.0</td>\n",
       "      <td>0.0</td>\n",
       "      <td>0.0</td>\n",
       "      <td>0.0</td>\n",
       "      <td>0.0</td>\n",
       "      <td>0.0</td>\n",
       "      <td>0.0</td>\n",
       "      <td>0.0</td>\n",
       "      <td>0.0</td>\n",
       "      <td>0.0</td>\n",
       "      <td>0.0</td>\n",
       "      <td>0.0</td>\n",
       "      <td>0.0</td>\n",
       "      <td>0.0</td>\n",
       "      <td>0.0</td>\n",
       "      <td>0.0</td>\n",
       "      <td>0.0</td>\n",
       "      <td>0.0</td>\n",
       "      <td>0.0</td>\n",
       "      <td>0.0</td>\n",
       "      <td>0.0</td>\n",
       "      <td>0.0</td>\n",
       "      <td>0.0</td>\n",
       "      <td>0.0</td>\n",
       "      <td>0.0</td>\n",
       "      <td>0.0</td>\n",
       "      <td>0.0</td>\n",
       "      <td>0.0</td>\n",
       "      <td>0.0</td>\n",
       "      <td>0.0</td>\n",
       "      <td>0.0</td>\n",
       "      <td>0.0</td>\n",
       "      <td>0.0</td>\n",
       "      <td>0.0</td>\n",
       "      <td>0.0</td>\n",
       "      <td>0.0</td>\n",
       "      <td>0.0</td>\n",
       "    </tr>\n",
       "    <tr>\n",
       "      <th>9</th>\n",
       "      <td>3X-Crazy</td>\n",
       "      <td>indica</td>\n",
       "      <td>4.4</td>\n",
       "      <td>Relaxed,Tingly,Happy,Euphoric,Uplifted</td>\n",
       "      <td>Earthy,Grape,Sweet</td>\n",
       "      <td>0.0</td>\n",
       "      <td>0.0</td>\n",
       "      <td>1.0</td>\n",
       "      <td>1.0</td>\n",
       "      <td>1.0</td>\n",
       "      <td>0.0</td>\n",
       "      <td>1.0</td>\n",
       "      <td>1.0</td>\n",
       "      <td>0.0</td>\n",
       "      <td>0.0</td>\n",
       "      <td>0.0</td>\n",
       "      <td>0.0</td>\n",
       "      <td>0.0</td>\n",
       "      <td>0.0</td>\n",
       "      <td>0.0</td>\n",
       "      <td>1.0</td>\n",
       "      <td>1.0</td>\n",
       "      <td>0.0</td>\n",
       "      <td>0.0</td>\n",
       "      <td>0.0</td>\n",
       "      <td>0.0</td>\n",
       "      <td>0.0</td>\n",
       "      <td>0.0</td>\n",
       "      <td>0.0</td>\n",
       "      <td>0.0</td>\n",
       "      <td>0.0</td>\n",
       "      <td>0.0</td>\n",
       "      <td>0.0</td>\n",
       "      <td>1.0</td>\n",
       "      <td>0.0</td>\n",
       "      <td>0.0</td>\n",
       "      <td>0.0</td>\n",
       "      <td>0.0</td>\n",
       "      <td>0.0</td>\n",
       "      <td>0.0</td>\n",
       "      <td>0.0</td>\n",
       "      <td>0.0</td>\n",
       "      <td>0.0</td>\n",
       "      <td>0.0</td>\n",
       "      <td>0.0</td>\n",
       "      <td>0.0</td>\n",
       "      <td>0.0</td>\n",
       "      <td>0.0</td>\n",
       "      <td>0.0</td>\n",
       "      <td>0.0</td>\n",
       "      <td>0.0</td>\n",
       "      <td>0.0</td>\n",
       "      <td>0.0</td>\n",
       "      <td>0.0</td>\n",
       "      <td>0.0</td>\n",
       "      <td>0.0</td>\n",
       "      <td>0.0</td>\n",
       "      <td>0.0</td>\n",
       "      <td>0.0</td>\n",
       "      <td>0.0</td>\n",
       "      <td>0.0</td>\n",
       "      <td>0.0</td>\n",
       "      <td>0.0</td>\n",
       "      <td>0.0</td>\n",
       "      <td>0.0</td>\n",
       "      <td>0.0</td>\n",
       "      <td>0.0</td>\n",
       "      <td>0.0</td>\n",
       "      <td>0.0</td>\n",
       "    </tr>\n",
       "  </tbody>\n",
       "</table>\n",
       "</div>"
      ],
      "text/plain": [
       "       Strain    Type  Rating                                    Effects  ...  Tar  Rose  Plum  Pear\n",
       "2        1024  sativa     4.4  Uplifted,Happy,Relaxed,Energetic,Creative  ...  0.0   0.0   0.0   0.0\n",
       "5  3-Bears-Og  indica     0.0                                        NaN  ...  0.0   0.0   0.0   0.0\n",
       "7      303-Og  indica     4.2     Relaxed,Happy,Euphoric,Uplifted,Giggly  ...  0.0   0.0   0.0   0.0\n",
       "8      3D-Cbd  sativa     4.6   Uplifted,Focused,Happy,Talkative,Relaxed  ...  0.0   0.0   0.0   0.0\n",
       "9    3X-Crazy  indica     4.4     Relaxed,Tingly,Happy,Euphoric,Uplifted  ...  0.0   0.0   0.0   0.0\n",
       "\n",
       "[5 rows x 69 columns]"
      ]
     },
     "execution_count": null,
     "metadata": {},
     "output_type": "execute_result"
    }
   ],
   "source": [
    "sat_or_ind = weed[(weed['Type'] == 'sativa')| (weed['Type'] == 'indica')]\n",
    "sat_or_ind.head()"
   ]
  },
  {
   "cell_type": "code",
   "execution_count": 48,
   "metadata": {
    "vscode": {
     "languageId": "python"
    }
   },
   "outputs": [],
   "source": [
    "data_clean = sat_or_ind.dropna()"
   ]
  },
  {
   "cell_type": "code",
   "execution_count": 49,
   "metadata": {
    "vscode": {
     "languageId": "python"
    }
   },
   "outputs": [],
   "source": [
    "X = data_clean.drop(['Strain', 'Type', 'Effects', 'Flavor'], axis = 1)\n",
    "y = data_clean['Type']\n",
    "\n",
    "ct = ColumnTransformer(\n",
    "  [\n",
    "    (\"standardize\", StandardScaler(), make_column_selector(dtype_include=np.number))\n",
    "  ],\n",
    "  remainder = \"passthrough\"\n",
    ")"
   ]
  },
  {
   "cell_type": "markdown",
   "metadata": {},
   "source": [
    "I will be using the scoring metric of f1_macro because it balances precision and recall and averages them across all classes. This is important when there is no target category because going for a balanced metric will insure that there is no preference to one target category."
   ]
  },
  {
   "cell_type": "markdown",
   "metadata": {},
   "source": [
    "### Q1: LDA"
   ]
  },
  {
   "cell_type": "code",
   "execution_count": 50,
   "metadata": {
    "vscode": {
     "languageId": "python"
    }
   },
   "outputs": [
    {
     "name": "stdout",
     "output_type": "stream",
     "text": [
      "Best LDA Parameters: {'lda__solver': 'svd'}\n",
      "Best LDA Parameters: {'lda__solver': 'svd'}\n"
     ]
    },
    {
     "name": "stdout",
     "output_type": "stream",
     "text": [
      "0.8493918971526189\n",
      "0.8493918971526189\n"
     ]
    }
   ],
   "source": [
    "lda_pipeline = Pipeline([\n",
    "    ('preprocessing', ct),\n",
    "    ('lda', LinearDiscriminantAnalysis())\n",
    "])\n",
    "\n",
    "param_grid = {\n",
    "    'lda__solver': ['svd', 'lsqr']\n",
    "}\n",
    "\n",
    "lda_grid_search = GridSearchCV(lda_pipeline, param_grid, cv=5, scoring = 'f1_macro')\n",
    "fitted_pipeline_lda = lda_grid_search.fit(X, y)\n",
    "best_lda_model = lda_grid_search.best_estimator_\n",
    "\n",
    "print(\"Best LDA Parameters:\", lda_grid_search.best_params_)\n",
    "\n",
    "scores = abs(cross_val_score(fitted_pipeline_lda, X, y, cv=5, scoring='f1_macro'))\n",
    "print(scores.mean())\n"
   ]
  },
  {
   "cell_type": "code",
   "execution_count": 51,
   "metadata": {
    "vscode": {
     "languageId": "python"
    }
   },
   "outputs": [
    {
     "data": {
      "text/plain": [
       "<sklearn.metrics._plot.confusion_matrix.ConfusionMatrixDisplay at 0x135146030>"
      ]
     },
     "execution_count": null,
     "metadata": {},
     "output_type": "execute_result"
    },
    {
     "data": {
      "image/png": "[encoded data removed]",
      "text/plain": [
       "<Figure size 640x480 with 2 Axes>"
      ]
     },
     "metadata": {},
     "output_type": "display_data"
    }
   ],
   "source": [
    "lda_pipeline = Pipeline([\n",
    "    ('preprocessing', ct),\n",
    "    ('lda', LinearDiscriminantAnalysis(solver = 'svd'))\n",
    "])\n",
    "\n",
    "lda_pipeline.fit(X, y)\n",
    "\n",
    "#make predictions for confusion matrix\n",
    "y_preds_lda = cross_val_predict(lda_pipeline, X, y, cv=5)\n",
    "conf_matrix_lda = confusion_matrix(y, y_preds_lda)\n",
    "ConfusionMatrixDisplay(confusion_matrix=conf_matrix_lda, display_labels=lda_pipeline.classes_).plot()\n"
   ]
  },
  {
   "cell_type": "markdown",
   "metadata": {},
   "source": [
    "### Q2: QDA"
   ]
  },
  {
   "cell_type": "code",
   "execution_count": 52,
   "metadata": {
    "vscode": {
     "languageId": "python"
    }
   },
   "outputs": [
    {
     "name": "stdout",
     "output_type": "stream",
     "text": [
      "Best QDA Parameters: {'qda__reg_param': 1.0}\n",
      "Best QDA Parameters: {'qda__reg_param': 1.0}\n"
     ]
    },
    {
     "name": "stdout",
     "output_type": "stream",
     "text": [
      "0.8552499276658413\n",
      "0.8552499276658413\n"
     ]
    }
   ],
   "source": [
    "import warnings\n",
    "warnings.filterwarnings(\"ignore\")\n",
    "\n",
    "qda_pipeline = Pipeline([\n",
    "    ('preprocessing', ct),\n",
    "    ('qda', QuadraticDiscriminantAnalysis())\n",
    "])\n",
    "\n",
    "param_grid = {\n",
    "    'qda__reg_param': [0.0, 0.1, 0.2, 0.5, 0.7, 1.0]\n",
    "}\n",
    "\n",
    "qda_grid_search = GridSearchCV(qda_pipeline, param_grid, cv=5, scoring = 'f1_macro')\n",
    "fitted_pipeline_qda = qda_grid_search.fit(X, y)\n",
    "best_qda_model = qda_grid_search.best_estimator_\n",
    "\n",
    "print(\"Best QDA Parameters:\", qda_grid_search.best_params_)\n",
    "\n",
    "scores = abs(cross_val_score(fitted_pipeline_qda, X, y, cv=5, scoring='f1_macro'))\n",
    "print(scores.mean())"
   ]
  },
  {
   "cell_type": "code",
   "execution_count": 53,
   "metadata": {
    "vscode": {
     "languageId": "python"
    }
   },
   "outputs": [
    {
     "data": {
      "text/plain": [
       "<sklearn.metrics._plot.confusion_matrix.ConfusionMatrixDisplay at 0x133769950>"
      ]
     },
     "execution_count": null,
     "metadata": {},
     "output_type": "execute_result"
    },
    {
     "data": {
      "image/png": "[encoded data removed]",
      "text/plain": [
       "<Figure size 640x480 with 2 Axes>"
      ]
     },
     "metadata": {},
     "output_type": "display_data"
    }
   ],
   "source": [
    "qda_pipeline = Pipeline([\n",
    "    ('preprocessing', ct),\n",
    "    ('qda', QuadraticDiscriminantAnalysis(reg_param = 1.0))\n",
    "])\n",
    "\n",
    "qda_pipeline.fit(X, y)\n",
    "\n",
    "#make predictions for confusion matrix\n",
    "y_preds_qda = cross_val_predict(qda_pipeline, X, y, cv=5)\n",
    "conf_matrix_qda = confusion_matrix(y, y_preds_qda)\n",
    "ConfusionMatrixDisplay(confusion_matrix=conf_matrix_qda, display_labels=qda_pipeline.classes_).plot()"
   ]
  },
  {
   "cell_type": "markdown",
   "metadata": {},
   "source": [
    "### Q3: SVC"
   ]
  },
  {
   "cell_type": "code",
   "execution_count": 54,
   "metadata": {
    "vscode": {
     "languageId": "python"
    }
   },
   "outputs": [
    {
     "name": "stdout",
     "output_type": "stream",
     "text": [
      "Best Parameters: {'C': 100, 'degree': 2, 'gamma': 0.001, 'kernel': 'rbf'}\n",
      "Best Score: 0.8611192766041708\n",
      "Best Parameters: {'C': 100, 'degree': 2, 'gamma': 0.001, 'kernel': 'rbf'}\n",
      "Best Score: 0.8611192766041708\n"
     ]
    }
   ],
   "source": [
    "param_grid = {\n",
    "    'C': [0.1, 1, 10, 100],\n",
    "    \"degree\": [2, 3, 4],\n",
    "    'kernel': ['linear', 'rbf'],\n",
    "    'gamma': [0.001, 0.01, 0.1, 1]\n",
    "}\n",
    "\n",
    "svc = SVC()\n",
    "\n",
    "# Grid Search\n",
    "grid_search = GridSearchCV(svc, param_grid, cv=5, scoring='f1_macro')\n",
    "grid_search.fit(X, y)\n",
    "\n",
    "# Best parameters\n",
    "print(\"Best Parameters:\", grid_search.best_params_)\n",
    "print(\"Best Score:\", grid_search.best_score_)"
   ]
  },
  {
   "cell_type": "code",
   "execution_count": 55,
   "metadata": {
    "vscode": {
     "languageId": "python"
    }
   },
   "outputs": [
    {
     "data": {
      "text/plain": [
       "<sklearn.metrics._plot.confusion_matrix.ConfusionMatrixDisplay at 0x13376a950>"
      ]
     },
     "execution_count": null,
     "metadata": {},
     "output_type": "execute_result"
    },
    {
     "data": {
      "image/png": "[encoded data removed]",
      "text/plain": [
       "<Figure size 640x480 with 2 Axes>"
      ]
     },
     "metadata": {},
     "output_type": "display_data"
    }
   ],
   "source": [
    "svc_pipeline = Pipeline([\n",
    "    ('preprocessing', ct),\n",
    "    ('svc', SVC(C = 100, degree = 2, gamma = 0.001, kernel = \"rbf\"))\n",
    "])\n",
    "\n",
    "svc_pipeline.fit(X, y)\n",
    "\n",
    "#make predictions for confusion matrix\n",
    "y_preds_svc = cross_val_predict(svc_pipeline, X, y, cv=5)\n",
    "conf_matrix_svc = confusion_matrix(y, y_preds_svc)\n",
    "ConfusionMatrixDisplay(confusion_matrix=conf_matrix_svc, display_labels=svc_pipeline.classes_).plot()"
   ]
  },
  {
   "cell_type": "markdown",
   "metadata": {},
   "source": [
    "### Q4: SVM"
   ]
  },
  {
   "cell_type": "code",
   "execution_count": 56,
   "metadata": {
    "vscode": {
     "languageId": "python"
    }
   },
   "outputs": [
    {
     "name": "stdout",
     "output_type": "stream",
     "text": [
      "Best Parameters: {'C': 0.1, 'coef0': 10, 'degree': 2, 'gamma': 0.1}\n",
      "Best Score: 0.8629719344337747\n",
      "Best Parameters: {'C': 0.1, 'coef0': 10, 'degree': 2, 'gamma': 0.1}\n",
      "Best Score: 0.8629719344337747\n"
     ]
    }
   ],
   "source": [
    "param_grid = {\n",
    "    'C': [0.1, 1, 10, 100],\n",
    "    'degree': [2, 3, 4],\n",
    "    'gamma': ['scale', 'auto', 0.01, 0.1],\n",
    "    'coef0': [0, 1, 10] \n",
    "}\n",
    "\n",
    "svm = SVC(kernel= \"poly\")\n",
    "\n",
    "# Grid Search\n",
    "grid_search = GridSearchCV(svm, param_grid, cv=5, scoring='f1_macro')\n",
    "grid_search.fit(X, y)\n",
    "\n",
    "# Best parameters\n",
    "print(\"Best Parameters:\", grid_search.best_params_)\n",
    "print(\"Best Score:\", grid_search.best_score_)"
   ]
  },
  {
   "cell_type": "code",
   "execution_count": 57,
   "metadata": {
    "vscode": {
     "languageId": "python"
    }
   },
   "outputs": [
    {
     "data": {
      "text/plain": [
       "<sklearn.metrics._plot.confusion_matrix.ConfusionMatrixDisplay at 0x13525b2f0>"
      ]
     },
     "execution_count": null,
     "metadata": {},
     "output_type": "execute_result"
    },
    {
     "data": {
      "image/png": "[encoded data removed]",
      "text/plain": [
       "<Figure size 640x480 with 2 Axes>"
      ]
     },
     "metadata": {},
     "output_type": "display_data"
    }
   ],
   "source": [
    "svm_pipeline = Pipeline([\n",
    "    ('preprocessing', ct),\n",
    "    ('svm', SVC(kernel = \"poly\", C = 0.1, coef0 = 10, degree = 2, gamma = 0.1))\n",
    "])\n",
    "\n",
    "svm_pipeline.fit(X, y)\n",
    "\n",
    "#make predictions for confusion matrix\n",
    "y_preds_svm = cross_val_predict(svm_pipeline, X, y, cv=5)\n",
    "conf_matrix_svm = confusion_matrix(y, y_preds_svm)\n",
    "ConfusionMatrixDisplay(confusion_matrix=conf_matrix_svm, display_labels=svm_pipeline.classes_).plot()"
   ]
  },
  {
   "cell_type": "markdown",
   "metadata": {},
   "source": [
    "## Part Two: Natural Multiclass"
   ]
  },
  {
   "cell_type": "code",
   "execution_count": 58,
   "metadata": {
    "vscode": {
     "languageId": "python"
    }
   },
   "outputs": [
    {
     "data": {
      "text/html": [
       "<div>\n",
       "<style scoped>\n",
       "    .dataframe tbody tr th:only-of-type {\n",
       "        vertical-align: middle;\n",
       "    }\n",
       "\n",
       "    .dataframe tbody tr th {\n",
       "        vertical-align: top;\n",
       "    }\n",
       "\n",
       "    .dataframe thead th {\n",
       "        text-align: right;\n",
       "    }\n",
       "</style>\n",
       "<table border=\"1\" class=\"dataframe\">\n",
       "  <thead>\n",
       "    <tr style=\"text-align: right;\">\n",
       "      <th></th>\n",
       "      <th>Strain</th>\n",
       "      <th>Type</th>\n",
       "      <th>Rating</th>\n",
       "      <th>Effects</th>\n",
       "      <th>Flavor</th>\n",
       "      <th>Creative</th>\n",
       "      <th>Energetic</th>\n",
       "      <th>Tingly</th>\n",
       "      <th>Euphoric</th>\n",
       "      <th>Relaxed</th>\n",
       "      <th>Aroused</th>\n",
       "      <th>Happy</th>\n",
       "      <th>Uplifted</th>\n",
       "      <th>Hungry</th>\n",
       "      <th>Talkative</th>\n",
       "      <th>Giggly</th>\n",
       "      <th>Focused</th>\n",
       "      <th>Sleepy</th>\n",
       "      <th>Dry</th>\n",
       "      <th>Mouth</th>\n",
       "      <th>Earthy</th>\n",
       "      <th>Sweet</th>\n",
       "      <th>Citrus</th>\n",
       "      <th>Flowery</th>\n",
       "      <th>Violet</th>\n",
       "      <th>Diesel</th>\n",
       "      <th>Spicy/Herbal</th>\n",
       "      <th>Sage</th>\n",
       "      <th>Woody</th>\n",
       "      <th>Apricot</th>\n",
       "      <th>Grapefruit</th>\n",
       "      <th>Orange</th>\n",
       "      <th>Pungent</th>\n",
       "      <th>Grape</th>\n",
       "      <th>Pine</th>\n",
       "      <th>Skunk</th>\n",
       "      <th>Berry</th>\n",
       "      <th>Pepper</th>\n",
       "      <th>Menthol</th>\n",
       "      <th>Blue</th>\n",
       "      <th>Cheese</th>\n",
       "      <th>Chemical</th>\n",
       "      <th>Mango</th>\n",
       "      <th>Lemon</th>\n",
       "      <th>Peach</th>\n",
       "      <th>Vanilla</th>\n",
       "      <th>Nutty</th>\n",
       "      <th>Chestnut</th>\n",
       "      <th>Tea</th>\n",
       "      <th>Tobacco</th>\n",
       "      <th>Tropical</th>\n",
       "      <th>Strawberry</th>\n",
       "      <th>Blueberry</th>\n",
       "      <th>Mint</th>\n",
       "      <th>Apple</th>\n",
       "      <th>Honey</th>\n",
       "      <th>Lavender</th>\n",
       "      <th>Lime</th>\n",
       "      <th>Coffee</th>\n",
       "      <th>Ammonia</th>\n",
       "      <th>Minty</th>\n",
       "      <th>Tree</th>\n",
       "      <th>Fruit</th>\n",
       "      <th>Butter</th>\n",
       "      <th>Pineapple</th>\n",
       "      <th>Tar</th>\n",
       "      <th>Rose</th>\n",
       "      <th>Plum</th>\n",
       "      <th>Pear</th>\n",
       "    </tr>\n",
       "  </thead>\n",
       "  <tbody>\n",
       "    <tr>\n",
       "      <th>0</th>\n",
       "      <td>100-Og</td>\n",
       "      <td>hybrid</td>\n",
       "      <td>4.0</td>\n",
       "      <td>Creative,Energetic,Tingly,Euphoric,Relaxed</td>\n",
       "      <td>Earthy,Sweet,Citrus</td>\n",
       "      <td>1.0</td>\n",
       "      <td>1.0</td>\n",
       "      <td>1.0</td>\n",
       "      <td>1.0</td>\n",
       "      <td>1.0</td>\n",
       "      <td>0.0</td>\n",
       "      <td>0.0</td>\n",
       "      <td>0.0</td>\n",
       "      <td>0.0</td>\n",
       "      <td>0.0</td>\n",
       "      <td>0.0</td>\n",
       "      <td>0.0</td>\n",
       "      <td>0.0</td>\n",
       "      <td>0.0</td>\n",
       "      <td>0.0</td>\n",
       "      <td>1.0</td>\n",
       "      <td>1.0</td>\n",
       "      <td>1.0</td>\n",
       "      <td>0.0</td>\n",
       "      <td>0.0</td>\n",
       "      <td>0.0</td>\n",
       "      <td>0.0</td>\n",
       "      <td>0.0</td>\n",
       "      <td>0.0</td>\n",
       "      <td>0.0</td>\n",
       "      <td>0.0</td>\n",
       "      <td>0.0</td>\n",
       "      <td>0.0</td>\n",
       "      <td>0.0</td>\n",
       "      <td>0.0</td>\n",
       "      <td>0.0</td>\n",
       "      <td>0.0</td>\n",
       "      <td>0.0</td>\n",
       "      <td>0.0</td>\n",
       "      <td>0.0</td>\n",
       "      <td>0.0</td>\n",
       "      <td>0.0</td>\n",
       "      <td>0.0</td>\n",
       "      <td>0.0</td>\n",
       "      <td>0.0</td>\n",
       "      <td>0.0</td>\n",
       "      <td>0.0</td>\n",
       "      <td>0.0</td>\n",
       "      <td>0.0</td>\n",
       "      <td>0.0</td>\n",
       "      <td>0.0</td>\n",
       "      <td>0.0</td>\n",
       "      <td>0.0</td>\n",
       "      <td>0.0</td>\n",
       "      <td>0.0</td>\n",
       "      <td>0.0</td>\n",
       "      <td>0.0</td>\n",
       "      <td>0.0</td>\n",
       "      <td>0.0</td>\n",
       "      <td>0.0</td>\n",
       "      <td>0.0</td>\n",
       "      <td>0.0</td>\n",
       "      <td>0.0</td>\n",
       "      <td>0.0</td>\n",
       "      <td>0.0</td>\n",
       "      <td>0.0</td>\n",
       "      <td>0.0</td>\n",
       "      <td>0.0</td>\n",
       "      <td>0.0</td>\n",
       "    </tr>\n",
       "    <tr>\n",
       "      <th>1</th>\n",
       "      <td>98-White-Widow</td>\n",
       "      <td>hybrid</td>\n",
       "      <td>4.7</td>\n",
       "      <td>Relaxed,Aroused,Creative,Happy,Energetic</td>\n",
       "      <td>Flowery,Violet,Diesel</td>\n",
       "      <td>1.0</td>\n",
       "      <td>1.0</td>\n",
       "      <td>0.0</td>\n",
       "      <td>0.0</td>\n",
       "      <td>1.0</td>\n",
       "      <td>1.0</td>\n",
       "      <td>1.0</td>\n",
       "      <td>0.0</td>\n",
       "      <td>0.0</td>\n",
       "      <td>0.0</td>\n",
       "      <td>0.0</td>\n",
       "      <td>0.0</td>\n",
       "      <td>0.0</td>\n",
       "      <td>0.0</td>\n",
       "      <td>0.0</td>\n",
       "      <td>0.0</td>\n",
       "      <td>0.0</td>\n",
       "      <td>0.0</td>\n",
       "      <td>1.0</td>\n",
       "      <td>1.0</td>\n",
       "      <td>1.0</td>\n",
       "      <td>0.0</td>\n",
       "      <td>0.0</td>\n",
       "      <td>0.0</td>\n",
       "      <td>0.0</td>\n",
       "      <td>0.0</td>\n",
       "      <td>0.0</td>\n",
       "      <td>0.0</td>\n",
       "      <td>0.0</td>\n",
       "      <td>0.0</td>\n",
       "      <td>0.0</td>\n",
       "      <td>0.0</td>\n",
       "      <td>0.0</td>\n",
       "      <td>0.0</td>\n",
       "      <td>0.0</td>\n",
       "      <td>0.0</td>\n",
       "      <td>0.0</td>\n",
       "      <td>0.0</td>\n",
       "      <td>0.0</td>\n",
       "      <td>0.0</td>\n",
       "      <td>0.0</td>\n",
       "      <td>0.0</td>\n",
       "      <td>0.0</td>\n",
       "      <td>0.0</td>\n",
       "      <td>0.0</td>\n",
       "      <td>0.0</td>\n",
       "      <td>0.0</td>\n",
       "      <td>0.0</td>\n",
       "      <td>0.0</td>\n",
       "      <td>0.0</td>\n",
       "      <td>0.0</td>\n",
       "      <td>0.0</td>\n",
       "      <td>0.0</td>\n",
       "      <td>0.0</td>\n",
       "      <td>0.0</td>\n",
       "      <td>0.0</td>\n",
       "      <td>0.0</td>\n",
       "      <td>0.0</td>\n",
       "      <td>0.0</td>\n",
       "      <td>0.0</td>\n",
       "      <td>0.0</td>\n",
       "      <td>0.0</td>\n",
       "      <td>0.0</td>\n",
       "      <td>0.0</td>\n",
       "    </tr>\n",
       "    <tr>\n",
       "      <th>2</th>\n",
       "      <td>1024</td>\n",
       "      <td>sativa</td>\n",
       "      <td>4.4</td>\n",
       "      <td>Uplifted,Happy,Relaxed,Energetic,Creative</td>\n",
       "      <td>Spicy/Herbal,Sage,Woody</td>\n",
       "      <td>1.0</td>\n",
       "      <td>1.0</td>\n",
       "      <td>0.0</td>\n",
       "      <td>0.0</td>\n",
       "      <td>1.0</td>\n",
       "      <td>0.0</td>\n",
       "      <td>1.0</td>\n",
       "      <td>1.0</td>\n",
       "      <td>0.0</td>\n",
       "      <td>0.0</td>\n",
       "      <td>0.0</td>\n",
       "      <td>0.0</td>\n",
       "      <td>0.0</td>\n",
       "      <td>0.0</td>\n",
       "      <td>0.0</td>\n",
       "      <td>0.0</td>\n",
       "      <td>0.0</td>\n",
       "      <td>0.0</td>\n",
       "      <td>0.0</td>\n",
       "      <td>0.0</td>\n",
       "      <td>0.0</td>\n",
       "      <td>1.0</td>\n",
       "      <td>1.0</td>\n",
       "      <td>1.0</td>\n",
       "      <td>0.0</td>\n",
       "      <td>0.0</td>\n",
       "      <td>0.0</td>\n",
       "      <td>0.0</td>\n",
       "      <td>0.0</td>\n",
       "      <td>0.0</td>\n",
       "      <td>0.0</td>\n",
       "      <td>0.0</td>\n",
       "      <td>0.0</td>\n",
       "      <td>0.0</td>\n",
       "      <td>0.0</td>\n",
       "      <td>0.0</td>\n",
       "      <td>0.0</td>\n",
       "      <td>0.0</td>\n",
       "      <td>0.0</td>\n",
       "      <td>0.0</td>\n",
       "      <td>0.0</td>\n",
       "      <td>0.0</td>\n",
       "      <td>0.0</td>\n",
       "      <td>0.0</td>\n",
       "      <td>0.0</td>\n",
       "      <td>0.0</td>\n",
       "      <td>0.0</td>\n",
       "      <td>0.0</td>\n",
       "      <td>0.0</td>\n",
       "      <td>0.0</td>\n",
       "      <td>0.0</td>\n",
       "      <td>0.0</td>\n",
       "      <td>0.0</td>\n",
       "      <td>0.0</td>\n",
       "      <td>0.0</td>\n",
       "      <td>0.0</td>\n",
       "      <td>0.0</td>\n",
       "      <td>0.0</td>\n",
       "      <td>0.0</td>\n",
       "      <td>0.0</td>\n",
       "      <td>0.0</td>\n",
       "      <td>0.0</td>\n",
       "      <td>0.0</td>\n",
       "      <td>0.0</td>\n",
       "    </tr>\n",
       "    <tr>\n",
       "      <th>3</th>\n",
       "      <td>13-Dawgs</td>\n",
       "      <td>hybrid</td>\n",
       "      <td>4.2</td>\n",
       "      <td>Tingly,Creative,Hungry,Relaxed,Uplifted</td>\n",
       "      <td>Apricot,Citrus,Grapefruit</td>\n",
       "      <td>1.0</td>\n",
       "      <td>0.0</td>\n",
       "      <td>1.0</td>\n",
       "      <td>0.0</td>\n",
       "      <td>1.0</td>\n",
       "      <td>0.0</td>\n",
       "      <td>0.0</td>\n",
       "      <td>1.0</td>\n",
       "      <td>1.0</td>\n",
       "      <td>0.0</td>\n",
       "      <td>0.0</td>\n",
       "      <td>0.0</td>\n",
       "      <td>0.0</td>\n",
       "      <td>0.0</td>\n",
       "      <td>0.0</td>\n",
       "      <td>0.0</td>\n",
       "      <td>0.0</td>\n",
       "      <td>1.0</td>\n",
       "      <td>0.0</td>\n",
       "      <td>0.0</td>\n",
       "      <td>0.0</td>\n",
       "      <td>0.0</td>\n",
       "      <td>0.0</td>\n",
       "      <td>0.0</td>\n",
       "      <td>1.0</td>\n",
       "      <td>1.0</td>\n",
       "      <td>0.0</td>\n",
       "      <td>0.0</td>\n",
       "      <td>1.0</td>\n",
       "      <td>0.0</td>\n",
       "      <td>0.0</td>\n",
       "      <td>0.0</td>\n",
       "      <td>0.0</td>\n",
       "      <td>0.0</td>\n",
       "      <td>0.0</td>\n",
       "      <td>0.0</td>\n",
       "      <td>0.0</td>\n",
       "      <td>0.0</td>\n",
       "      <td>0.0</td>\n",
       "      <td>0.0</td>\n",
       "      <td>0.0</td>\n",
       "      <td>0.0</td>\n",
       "      <td>0.0</td>\n",
       "      <td>0.0</td>\n",
       "      <td>0.0</td>\n",
       "      <td>0.0</td>\n",
       "      <td>0.0</td>\n",
       "      <td>0.0</td>\n",
       "      <td>0.0</td>\n",
       "      <td>0.0</td>\n",
       "      <td>0.0</td>\n",
       "      <td>0.0</td>\n",
       "      <td>0.0</td>\n",
       "      <td>0.0</td>\n",
       "      <td>0.0</td>\n",
       "      <td>0.0</td>\n",
       "      <td>0.0</td>\n",
       "      <td>0.0</td>\n",
       "      <td>0.0</td>\n",
       "      <td>0.0</td>\n",
       "      <td>0.0</td>\n",
       "      <td>0.0</td>\n",
       "      <td>0.0</td>\n",
       "      <td>0.0</td>\n",
       "    </tr>\n",
       "    <tr>\n",
       "      <th>4</th>\n",
       "      <td>24K-Gold</td>\n",
       "      <td>hybrid</td>\n",
       "      <td>4.6</td>\n",
       "      <td>Happy,Relaxed,Euphoric,Uplifted,Talkative</td>\n",
       "      <td>Citrus,Earthy,Orange</td>\n",
       "      <td>0.0</td>\n",
       "      <td>0.0</td>\n",
       "      <td>0.0</td>\n",
       "      <td>1.0</td>\n",
       "      <td>1.0</td>\n",
       "      <td>0.0</td>\n",
       "      <td>1.0</td>\n",
       "      <td>1.0</td>\n",
       "      <td>0.0</td>\n",
       "      <td>1.0</td>\n",
       "      <td>0.0</td>\n",
       "      <td>0.0</td>\n",
       "      <td>0.0</td>\n",
       "      <td>0.0</td>\n",
       "      <td>0.0</td>\n",
       "      <td>1.0</td>\n",
       "      <td>0.0</td>\n",
       "      <td>1.0</td>\n",
       "      <td>0.0</td>\n",
       "      <td>0.0</td>\n",
       "      <td>0.0</td>\n",
       "      <td>0.0</td>\n",
       "      <td>0.0</td>\n",
       "      <td>0.0</td>\n",
       "      <td>0.0</td>\n",
       "      <td>0.0</td>\n",
       "      <td>1.0</td>\n",
       "      <td>0.0</td>\n",
       "      <td>0.0</td>\n",
       "      <td>0.0</td>\n",
       "      <td>0.0</td>\n",
       "      <td>0.0</td>\n",
       "      <td>0.0</td>\n",
       "      <td>0.0</td>\n",
       "      <td>0.0</td>\n",
       "      <td>0.0</td>\n",
       "      <td>0.0</td>\n",
       "      <td>0.0</td>\n",
       "      <td>0.0</td>\n",
       "      <td>0.0</td>\n",
       "      <td>0.0</td>\n",
       "      <td>0.0</td>\n",
       "      <td>0.0</td>\n",
       "      <td>0.0</td>\n",
       "      <td>0.0</td>\n",
       "      <td>0.0</td>\n",
       "      <td>0.0</td>\n",
       "      <td>0.0</td>\n",
       "      <td>0.0</td>\n",
       "      <td>0.0</td>\n",
       "      <td>0.0</td>\n",
       "      <td>0.0</td>\n",
       "      <td>0.0</td>\n",
       "      <td>0.0</td>\n",
       "      <td>0.0</td>\n",
       "      <td>0.0</td>\n",
       "      <td>0.0</td>\n",
       "      <td>0.0</td>\n",
       "      <td>0.0</td>\n",
       "      <td>0.0</td>\n",
       "      <td>0.0</td>\n",
       "      <td>0.0</td>\n",
       "      <td>0.0</td>\n",
       "      <td>0.0</td>\n",
       "    </tr>\n",
       "  </tbody>\n",
       "</table>\n",
       "</div>"
      ],
      "text/plain": [
       "           Strain    Type  Rating                                     Effects  ...  Tar  Rose  Plum  Pear\n",
       "0          100-Og  hybrid     4.0  Creative,Energetic,Tingly,Euphoric,Relaxed  ...  0.0   0.0   0.0   0.0\n",
       "1  98-White-Widow  hybrid     4.7    Relaxed,Aroused,Creative,Happy,Energetic  ...  0.0   0.0   0.0   0.0\n",
       "2            1024  sativa     4.4   Uplifted,Happy,Relaxed,Energetic,Creative  ...  0.0   0.0   0.0   0.0\n",
       "3        13-Dawgs  hybrid     4.2     Tingly,Creative,Hungry,Relaxed,Uplifted  ...  0.0   0.0   0.0   0.0\n",
       "4        24K-Gold  hybrid     4.6   Happy,Relaxed,Euphoric,Uplifted,Talkative  ...  0.0   0.0   0.0   0.0\n",
       "\n",
       "[5 rows x 69 columns]"
      ]
     },
     "execution_count": null,
     "metadata": {},
     "output_type": "execute_result"
    }
   ],
   "source": [
    "weed_cleaned = weed.dropna()\n",
    "weed_cleaned.head()"
   ]
  },
  {
   "cell_type": "code",
   "execution_count": 59,
   "metadata": {
    "vscode": {
     "languageId": "python"
    }
   },
   "outputs": [],
   "source": [
    "X = weed_cleaned.drop(['Strain', 'Type', 'Effects', 'Flavor'], axis = 1)\n",
    "y = weed_cleaned['Type']"
   ]
  },
  {
   "cell_type": "markdown",
   "metadata": {},
   "source": [
    "### Q1: Decision Tree"
   ]
  },
  {
   "cell_type": "code",
   "execution_count": 60,
   "metadata": {
    "vscode": {
     "languageId": "python"
    }
   },
   "outputs": [
    {
     "name": "stdout",
     "output_type": "stream",
     "text": [
      "Best Decision Tree Parameters: {'dt__ccp_alpha': 0.001, 'dt__max_depth': 3, 'dt__min_samples_leaf': 1, 'dt__min_samples_split': 2}\n",
      "Best Decision Tree Score: 0.5848756063204548\n",
      "Best Decision Tree Parameters: {'dt__ccp_alpha': 0.001, 'dt__max_depth': 3, 'dt__min_samples_leaf': 1, 'dt__min_samples_split': 2}\n",
      "Best Decision Tree Score: 0.5848756063204548\n"
     ]
    }
   ],
   "source": [
    "dtree_pipeline = Pipeline([\n",
    "    ('preprocessing', ct), \n",
    "    ('dt', DecisionTreeClassifier())\n",
    "])\n",
    "\n",
    "dtree_param_grid = {\n",
    "    'dt__max_depth': range(1, 11), \n",
    "    'dt__min_samples_split': range(2, 11),\n",
    "    'dt__min_samples_leaf': range(1, 11), \n",
    "    'dt__ccp_alpha': [0.001, 0.01, 0.1, 0.2]\n",
    "}\n",
    "\n",
    "\n",
    "dtree_grid_search = GridSearchCV(dtree_pipeline, dtree_param_grid, cv=5, scoring='f1_macro', n_jobs=-1)\n",
    "dtree_grid_search.fit(X, y)\n",
    "\n",
    "print(\"Best Decision Tree Parameters:\", dtree_grid_search.best_params_)\n",
    "print(\"Best Decision Tree Score:\", dtree_grid_search.best_score_)"
   ]
  },
  {
   "cell_type": "code",
   "execution_count": 61,
   "metadata": {
    "vscode": {
     "languageId": "python"
    }
   },
   "outputs": [],
   "source": [
    "dtree_pipeline = Pipeline([\n",
    "    ('preprocessing', ct),\n",
    "    ('dt', DecisionTreeClassifier(ccp_alpha = 0.001, max_depth = 3, min_samples_leaf = 1, min_samples_split = 2))\n",
    "])\n",
    "\n",
    "fitted_pipeline_dtree = dtree_pipeline.fit(X, y)\n",
    "best_dt_model = fitted_pipeline_dtree.named_steps['dt']"
   ]
  },
  {
   "cell_type": "code",
   "execution_count": 62,
   "metadata": {
    "vscode": {
     "languageId": "python"
    }
   },
   "outputs": [
    {
     "data": {
      "image/png": "[encoded data removed]",
      "text/plain": [
       "<Figure size 2000x1000 with 1 Axes>"
      ]
     },
     "metadata": {},
     "output_type": "display_data"
    }
   ],
   "source": [
    "plt.figure(figsize=(20,10))\n",
    "plot_tree(best_dt_model,\n",
    "          filled=True,\n",
    "          feature_names=X.columns,\n",
    "          class_names=['Sativa', 'Indica', 'Hybrid'],\n",
    "          max_depth=3,\n",
    "          fontsize=10)\n",
    "plt.title(\"Decision Tree for Cannabis Strains\")\n",
    "plt.show()"
   ]
  },
  {
   "cell_type": "markdown",
   "metadata": {},
   "source": [
    "This decision tree predicts cannabis strain types (Sativa, Indica, or Hybrid) based on features like \"Sleepy,\" \"Energetic,\" and \"Citrus.\" Strains with low \"Sleepy\" and \"Relaxed\" scores are typically classified as Sativa, while those with high \"Sleepy\" and \"Citrus\" scores are more likely Indica."
   ]
  },
  {
   "cell_type": "markdown",
   "metadata": {},
   "source": [
    "### Q2: LDA, QDA, and KNN"
   ]
  },
  {
   "cell_type": "markdown",
   "metadata": {},
   "source": [
    "### LDA"
   ]
  },
  {
   "cell_type": "code",
   "execution_count": 63,
   "metadata": {
    "vscode": {
     "languageId": "python"
    }
   },
   "outputs": [
    {
     "name": "stdout",
     "output_type": "stream",
     "text": [
      "Best LDA Parameters: {'lda__solver': 'svd'}\n",
      "Best LDA Parameters: {'lda__solver': 'svd'}\n"
     ]
    },
    {
     "name": "stdout",
     "output_type": "stream",
     "text": [
      "0.5959682341948618\n",
      "0.5959682341948618\n"
     ]
    }
   ],
   "source": [
    "lda_pipeline2 = Pipeline([\n",
    "    ('preprocessing', ct),\n",
    "    ('lda', LinearDiscriminantAnalysis())\n",
    "])\n",
    "\n",
    "param_grid = {\n",
    "    'lda__solver': ['svd', 'lsqr']\n",
    "}\n",
    "\n",
    "lda_grid_search2 = GridSearchCV(lda_pipeline2, param_grid, cv=5, scoring = 'f1_macro')\n",
    "\n",
    "fitted_pipeline_lda2 = lda_grid_search2.fit(X, y)\n",
    "\n",
    "best_lda_model2 = lda_grid_search2.best_estimator_\n",
    "\n",
    "print(\"Best LDA Parameters:\", lda_grid_search2.best_params_)\n",
    "\n",
    "scores = abs(cross_val_score(fitted_pipeline_lda2, X, y, cv=5, scoring='f1_macro'))\n",
    "print(scores.mean())"
   ]
  },
  {
   "cell_type": "code",
   "execution_count": 64,
   "metadata": {
    "vscode": {
     "languageId": "python"
    }
   },
   "outputs": [
    {
     "data": {
      "text/plain": [
       "<sklearn.metrics._plot.confusion_matrix.ConfusionMatrixDisplay at 0x135219e50>"
      ]
     },
     "execution_count": null,
     "metadata": {},
     "output_type": "execute_result"
    },
    {
     "data": {
      "image/png": "[encoded data removed]",
      "text/plain": [
       "<Figure size 640x480 with 2 Axes>"
      ]
     },
     "metadata": {},
     "output_type": "display_data"
    }
   ],
   "source": [
    "lda_pipeline2 = Pipeline([\n",
    "    ('preprocessing', ct),\n",
    "    ('lda', LinearDiscriminantAnalysis(solver = 'svd'))\n",
    "])\n",
    "\n",
    "lda_pipeline2.fit(X, y)\n",
    "\n",
    "#make predictions for confusion matrix\n",
    "y_preds_lda2 = cross_val_predict(lda_pipeline2, X, y, cv=5)\n",
    "conf_matrix_lda2 = confusion_matrix(y, y_preds_lda2)\n",
    "ConfusionMatrixDisplay(confusion_matrix=conf_matrix_lda2, display_labels=lda_pipeline2.classes_).plot()"
   ]
  },
  {
   "cell_type": "markdown",
   "metadata": {},
   "source": [
    "### QDA"
   ]
  },
  {
   "cell_type": "code",
   "execution_count": 65,
   "metadata": {
    "vscode": {
     "languageId": "python"
    }
   },
   "outputs": [
    {
     "name": "stdout",
     "output_type": "stream",
     "text": [
      "Best QDA Parameters: {'qda__reg_param': 1.0}\n",
      "Best QDA Parameters: {'qda__reg_param': 1.0}\n"
     ]
    },
    {
     "name": "stdout",
     "output_type": "stream",
     "text": [
      "0.6000537665910602\n",
      "0.6000537665910602\n"
     ]
    }
   ],
   "source": [
    "qda_pipeline2 = Pipeline([\n",
    "    ('preprocessing', ct),\n",
    "    ('qda', QuadraticDiscriminantAnalysis())\n",
    "])\n",
    "\n",
    "param_grid = {\n",
    "    'qda__reg_param': [0.0, 0.1, 0.2, 0.5, 0.7, 1.0]\n",
    "}\n",
    "\n",
    "qda_grid_search2 = GridSearchCV(qda_pipeline2, param_grid, cv=5, scoring = 'f1_macro')\n",
    "fitted_pipeline_qda2 = qda_grid_search2.fit(X, y)\n",
    "best_qda_model2 = qda_grid_search2.best_estimator_\n",
    "\n",
    "print(\"Best QDA Parameters:\", qda_grid_search2.best_params_)\n",
    "\n",
    "scores = abs(cross_val_score(fitted_pipeline_qda2, X, y, cv=5, scoring='f1_macro'))\n",
    "print(scores.mean())"
   ]
  },
  {
   "cell_type": "code",
   "execution_count": 66,
   "metadata": {
    "vscode": {
     "languageId": "python"
    }
   },
   "outputs": [
    {
     "data": {
      "text/plain": [
       "<sklearn.metrics._plot.confusion_matrix.ConfusionMatrixDisplay at 0x135080210>"
      ]
     },
     "execution_count": null,
     "metadata": {},
     "output_type": "execute_result"
    },
    {
     "data": {
      "image/png": "[encoded data removed]",
      "text/plain": [
       "<Figure size 640x480 with 2 Axes>"
      ]
     },
     "metadata": {},
     "output_type": "display_data"
    }
   ],
   "source": [
    "qda_pipeline2 = Pipeline([\n",
    "    ('preprocessing', ct),\n",
    "    ('qda', QuadraticDiscriminantAnalysis(reg_param = 1.0))\n",
    "])\n",
    "\n",
    "qda_pipeline2.fit(X, y)\n",
    "\n",
    "#make predictions for confusion matrix\n",
    "y_preds_qda2 = cross_val_predict(qda_pipeline2, X, y, cv=5)\n",
    "conf_matrix_qda2 = confusion_matrix(y, y_preds_qda2)\n",
    "ConfusionMatrixDisplay(confusion_matrix=conf_matrix_qda2, display_labels=qda_pipeline2.classes_).plot()"
   ]
  },
  {
   "cell_type": "markdown",
   "metadata": {},
   "source": [
    "### KNN"
   ]
  },
  {
   "cell_type": "code",
   "execution_count": 67,
   "metadata": {
    "vscode": {
     "languageId": "python"
    }
   },
   "outputs": [
    {
     "name": "stdout",
     "output_type": "stream",
     "text": [
      "Best KNN Parameters: {'knn__metric': 'manhattan', 'knn__n_neighbors': np.int64(11), 'knn__weights': 'distance'}\n",
      "Best KNN Parameters: {'knn__metric': 'manhattan', 'knn__n_neighbors': np.int64(11), 'knn__weights': 'distance'}\n"
     ]
    },
    {
     "name": "stdout",
     "output_type": "stream",
     "text": [
      "0.49926723514595783\n",
      "0.49926723514595783\n"
     ]
    }
   ],
   "source": [
    "knn_pipeline = Pipeline([\n",
    "    ('preprocessing', ct),\n",
    "    ('knn', KNeighborsClassifier())\n",
    "])\n",
    "\n",
    "param_grid = {\n",
    "    'knn__n_neighbors': np.arange(1, 31),\n",
    "    'knn__weights': ['uniform', 'distance'],\n",
    "    'knn__metric': ['euclidean', 'manhattan']\n",
    "}\n",
    "\n",
    "knn_grid_search = GridSearchCV(knn_pipeline, param_grid, cv=5, scoring = 'f1_macro')\n",
    "fitted_pipeline_knn = knn_grid_search.fit(X, y)\n",
    "best_knn_model = knn_grid_search.best_estimator_\n",
    "\n",
    "print(\"Best KNN Parameters:\", knn_grid_search.best_params_)\n",
    "\n",
    "scores = abs(cross_val_score(fitted_pipeline_knn, X, y, cv=5, scoring='f1_macro'))\n",
    "print(scores.mean())\n",
    "\n"
   ]
  },
  {
   "cell_type": "code",
   "execution_count": 68,
   "metadata": {
    "vscode": {
     "languageId": "python"
    }
   },
   "outputs": [
    {
     "data": {
      "text/plain": [
       "<sklearn.metrics._plot.confusion_matrix.ConfusionMatrixDisplay at 0x135385d30>"
      ]
     },
     "execution_count": null,
     "metadata": {},
     "output_type": "execute_result"
    },
    {
     "data": {
      "image/png": "[encoded data removed]",
      "text/plain": [
       "<Figure size 640x480 with 2 Axes>"
      ]
     },
     "metadata": {},
     "output_type": "display_data"
    }
   ],
   "source": [
    "knn_pipeline = Pipeline([\n",
    "    ('preprocessing', ct),\n",
    "    ('knn', KNeighborsClassifier(metric = \"manhattan\", n_neighbors = 11, weights = \"distance\"))\n",
    "])\n",
    "\n",
    "knn_pipeline.fit(X, y)\n",
    "\n",
    "#make predictions for confusion matrix\n",
    "y_preds_knn = cross_val_predict(knn_pipeline, X, y, cv=5)\n",
    "conf_matrix_knn = confusion_matrix(y, y_preds_knn)\n",
    "ConfusionMatrixDisplay(confusion_matrix=conf_matrix_knn, display_labels=knn_pipeline.classes_).plot()"
   ]
  },
  {
   "cell_type": "markdown",
   "metadata": {},
   "source": [
    "### Q3\n",
    "Were your metrics better or worse than in Part One? Why? Which categories were most likely to get mixed up, according to the confusion matrices? Why?\n",
    "\n"
   ]
  },
  {
   "cell_type": "markdown",
   "metadata": {},
   "source": [
    "Overall, the f1_macro scores from the Binary Classification models were noticably higher than the Natural Multiclass models. This is expected because it is easier to make Binary Classifications since there are only two categories of \"Indica\" vs. \"Sativa\". This two categories also have more distinguishable differences. So when including the new type of \"Hybrid\", it is harder to correctly distinguish the three types because there are a lot of overlaps between hybrid and the other two types. Looking at the confusion matrices, both Indica and Sativa strains are most commonly being incorrectly predicted as hybrid. This again makes sense because hybrid has qualities that are common with Indica and Sativa strains. "
   ]
  },
  {
   "cell_type": "markdown",
   "metadata": {},
   "source": [
    "## Part Three: Multiclass from Binary"
   ]
  },
  {
   "cell_type": "markdown",
   "metadata": {},
   "source": [
    "### Q1: OvR\n"
   ]
  },
  {
   "cell_type": "code",
   "execution_count": 69,
   "metadata": {
    "vscode": {
     "languageId": "python"
    }
   },
   "outputs": [],
   "source": [
    "new_weed = weed_cleaned.copy()\n",
    "new_weed['Sativa'] = np.where(new_weed['Type'] == \"sativa\", 1, 0)\n",
    "new_weed['Indica'] = np.where(new_weed['Type'] == \"indica\", 1, 0)\n",
    "new_weed['Hybrid'] = np.where(new_weed['Type'] == \"hybrid\", 1, 0)"
   ]
  },
  {
   "cell_type": "markdown",
   "metadata": {},
   "source": [
    "### Indica vs. Not Indica"
   ]
  },
  {
   "cell_type": "code",
   "execution_count": 70,
   "metadata": {
    "vscode": {
     "languageId": "python"
    }
   },
   "outputs": [],
   "source": [
    "X = new_weed.drop(['Strain', 'Type', 'Effects', 'Flavor', 'Sativa', 'Indica','Hybrid'], axis = 1)\n",
    "y = new_weed['Indica']"
   ]
  },
  {
   "cell_type": "code",
   "execution_count": 71,
   "metadata": {
    "vscode": {
     "languageId": "python"
    }
   },
   "outputs": [
    {
     "name": "stdout",
     "output_type": "stream",
     "text": [
      "0.7418938780624698\n",
      "0.7418938780624698\n"
     ]
    }
   ],
   "source": [
    "logistic_pipeline = Pipeline(\n",
    "    [(\"preprocessing\", ct),\n",
    "     (\"logistic\", LogisticRegression())]\n",
    ").set_output(transform=\"pandas\")\n",
    "\n",
    "logistic_pipeline.fit(X, y)\n",
    "\n",
    "scores = abs(cross_val_score(logistic_pipeline, X, y, cv=5, scoring='f1_macro'))\n",
    "print(scores.mean())"
   ]
  },
  {
   "cell_type": "code",
   "execution_count": 72,
   "metadata": {
    "vscode": {
     "languageId": "python"
    }
   },
   "outputs": [
    {
     "name": "stdout",
     "output_type": "stream",
     "text": [
      "0.7201806861560669\n",
      "0.7201806861560669\n"
     ]
    }
   ],
   "source": [
    "svc_pipeline = Pipeline(\n",
    "    [(\"preprocessing\", ct),\n",
    "     (\"svc\", SVC())]\n",
    ").set_output(transform=\"pandas\")\n",
    "\n",
    "svc_pipeline.fit(X, y)\n",
    "\n",
    "scores = abs(cross_val_score(svc_pipeline, X, y, cv=5, scoring='f1_macro'))\n",
    "print(scores.mean())"
   ]
  },
  {
   "cell_type": "markdown",
   "metadata": {},
   "source": [
    "### Sativa vs. Not Sativa"
   ]
  },
  {
   "cell_type": "code",
   "execution_count": 73,
   "metadata": {
    "vscode": {
     "languageId": "python"
    }
   },
   "outputs": [],
   "source": [
    "X = new_weed.drop(['Strain', 'Type', 'Effects', 'Flavor', 'Sativa', 'Indica','Hybrid'], axis = 1)\n",
    "y = new_weed['Sativa']"
   ]
  },
  {
   "cell_type": "code",
   "execution_count": 74,
   "metadata": {
    "vscode": {
     "languageId": "python"
    }
   },
   "outputs": [
    {
     "name": "stdout",
     "output_type": "stream",
     "text": [
      "0.6472171921891974\n",
      "0.6472171921891974\n"
     ]
    }
   ],
   "source": [
    "logistic_pipeline2 = Pipeline(\n",
    "    [(\"preprocessing\", ct),\n",
    "     (\"logistic\", LogisticRegression())]\n",
    ").set_output(transform=\"pandas\")\n",
    "\n",
    "logistic_pipeline2.fit(X, y)\n",
    "\n",
    "scores = abs(cross_val_score(logistic_pipeline2, X, y, cv=5, scoring='f1_macro'))\n",
    "print(scores.mean())"
   ]
  },
  {
   "cell_type": "code",
   "execution_count": 75,
   "metadata": {
    "vscode": {
     "languageId": "python"
    }
   },
   "outputs": [
    {
     "name": "stdout",
     "output_type": "stream",
     "text": [
      "0.5877710733583789\n",
      "0.5877710733583789\n"
     ]
    }
   ],
   "source": [
    "svc_pipeline2 = Pipeline(\n",
    "    [(\"preprocessing\", ct),\n",
    "     (\"svc\", SVC())]\n",
    ").set_output(transform=\"pandas\")\n",
    "\n",
    "svc_pipeline2.fit(X, y)\n",
    "\n",
    "scores = abs(cross_val_score(svc_pipeline2, X, y, cv=5, scoring='f1_macro'))\n",
    "print(scores.mean())"
   ]
  },
  {
   "cell_type": "markdown",
   "metadata": {},
   "source": [
    "### Hybrid vs. Not Hybrid"
   ]
  },
  {
   "cell_type": "code",
   "execution_count": 76,
   "metadata": {
    "vscode": {
     "languageId": "python"
    }
   },
   "outputs": [],
   "source": [
    "X = new_weed.drop(['Strain', 'Type', 'Effects', 'Flavor', 'Sativa', 'Indica','Hybrid'], axis = 1)\n",
    "y = new_weed['Hybrid']"
   ]
  },
  {
   "cell_type": "code",
   "execution_count": 77,
   "metadata": {
    "vscode": {
     "languageId": "python"
    }
   },
   "outputs": [
    {
     "name": "stdout",
     "output_type": "stream",
     "text": [
      "0.6140879154786848\n",
      "0.6140879154786848\n"
     ]
    }
   ],
   "source": [
    "logistic_pipeline3 = Pipeline(\n",
    "    [(\"preprocessing\", ct),\n",
    "     (\"logistic\", LogisticRegression())]\n",
    ").set_output(transform=\"pandas\")\n",
    "\n",
    "logistic_pipeline3.fit(X, y)\n",
    "\n",
    "scores = abs(cross_val_score(logistic_pipeline3, X, y, cv=5, scoring='f1_macro'))\n",
    "print(scores.mean())"
   ]
  },
  {
   "cell_type": "code",
   "execution_count": 78,
   "metadata": {
    "vscode": {
     "languageId": "python"
    }
   },
   "outputs": [
    {
     "name": "stdout",
     "output_type": "stream",
     "text": [
      "0.6124523646862047\n",
      "0.6124523646862047\n"
     ]
    }
   ],
   "source": [
    "svc_pipeline3 = Pipeline(\n",
    "    [(\"preprocessing\", ct),\n",
    "     (\"svc\", SVC())]\n",
    ").set_output(transform=\"pandas\")\n",
    "\n",
    "svc_pipeline3.fit(X, y)\n",
    "\n",
    "scores = abs(cross_val_score(svc_pipeline3, X, y, cv=5, scoring='f1_macro'))\n",
    "print(scores.mean())"
   ]
  },
  {
   "cell_type": "markdown",
   "metadata": {},
   "source": [
    "### Q2\n",
    "Which of the six models did the best job distinguishing the target category from the rest? Which did the worst? Does this make intuitive sense?\n",
    "\n"
   ]
  },
  {
   "cell_type": "markdown",
   "metadata": {},
   "source": [
    "The model that performed best at distinguishing the target category from the rest of the data was the logistic regression on Indica vs. Not Indica. The model that did the worst was the SVC model on Hybrid vs. Not Hybrid. This makes intuitive sense, since Indica vs. Not Indica has more distinguishable features, while Hybrids share a lot of features with both Indica and Sativa and therefore are harder to differentiate."
   ]
  },
  {
   "cell_type": "markdown",
   "metadata": {},
   "source": [
    "### Q3: OvO"
   ]
  },
  {
   "cell_type": "code",
   "execution_count": 79,
   "metadata": {
    "vscode": {
     "languageId": "python"
    }
   },
   "outputs": [],
   "source": [
    "weed_ind_sat = new_weed[(new_weed['Type'] == \"indica\") | (new_weed['Type'] == \"sativa\")]\n",
    "weed_ind_hyb = new_weed[(new_weed['Type'] == \"indica\") | (new_weed['Type'] == \"hybrid\")]\n",
    "weed_hyb_sat = new_weed[(new_weed['Type'] == \"sativa\") | (new_weed['Type'] == \"hybrid\")]"
   ]
  },
  {
   "cell_type": "markdown",
   "metadata": {},
   "source": [
    "### Indica vs. Sativa"
   ]
  },
  {
   "cell_type": "code",
   "execution_count": 80,
   "metadata": {
    "vscode": {
     "languageId": "python"
    }
   },
   "outputs": [],
   "source": [
    "X = weed_ind_sat.drop(['Strain', 'Type', 'Effects', 'Flavor', 'Sativa', 'Indica','Hybrid'], axis = 1)\n",
    "y = weed_ind_sat['Type']"
   ]
  },
  {
   "cell_type": "code",
   "execution_count": 81,
   "metadata": {
    "vscode": {
     "languageId": "python"
    }
   },
   "outputs": [
    {
     "name": "stdout",
     "output_type": "stream",
     "text": [
      "0.8406636977174451\n",
      "Classification Report:\n",
      "               precision    recall  f1-score   support\n",
      "\n",
      "      indica       0.87      0.90      0.88       659\n",
      "      sativa       0.82      0.78      0.80       409\n",
      "\n",
      "    accuracy                           0.85      1068\n",
      "   macro avg       0.85      0.84      0.84      1068\n",
      "weighted avg       0.85      0.85      0.85      1068\n",
      "\n",
      "0.8406636977174451\n",
      "Classification Report:\n",
      "               precision    recall  f1-score   support\n",
      "\n",
      "      indica       0.87      0.90      0.88       659\n",
      "      sativa       0.82      0.78      0.80       409\n",
      "\n",
      "    accuracy                           0.85      1068\n",
      "   macro avg       0.85      0.84      0.84      1068\n",
      "weighted avg       0.85      0.85      0.85      1068\n",
      "\n"
     ]
    }
   ],
   "source": [
    "logistic_pipeline4 = Pipeline(\n",
    "    [(\"preprocessing\", ct),\n",
    "     (\"logistic\", LogisticRegression())]\n",
    ").set_output(transform=\"pandas\")\n",
    "\n",
    "logistic_pipeline4.fit(X, y)\n",
    "\n",
    "y_preds_log = cross_val_predict(logistic_pipeline4, X, y, cv=5)\n",
    "\n",
    "scores = abs(cross_val_score(logistic_pipeline4, X, y, cv=5, scoring='f1_macro'))\n",
    "print(scores.mean())\n",
    "\n",
    "print(\"Classification Report:\\n\", classification_report(y, y_preds_log))"
   ]
  },
  {
   "cell_type": "code",
   "execution_count": 82,
   "metadata": {
    "vscode": {
     "languageId": "python"
    }
   },
   "outputs": [
    {
     "name": "stdout",
     "output_type": "stream",
     "text": [
      "0.8268760004339072\n",
      "Classification Report:\n",
      "               precision    recall  f1-score   support\n",
      "\n",
      "      indica       0.84      0.92      0.88       659\n",
      "      sativa       0.84      0.72      0.78       409\n",
      "\n",
      "    accuracy                           0.84      1068\n",
      "   macro avg       0.84      0.82      0.83      1068\n",
      "weighted avg       0.84      0.84      0.84      1068\n",
      "\n",
      "0.8268760004339072\n",
      "Classification Report:\n",
      "               precision    recall  f1-score   support\n",
      "\n",
      "      indica       0.84      0.92      0.88       659\n",
      "      sativa       0.84      0.72      0.78       409\n",
      "\n",
      "    accuracy                           0.84      1068\n",
      "   macro avg       0.84      0.82      0.83      1068\n",
      "weighted avg       0.84      0.84      0.84      1068\n",
      "\n"
     ]
    }
   ],
   "source": [
    "svc_pipeline4 = Pipeline(\n",
    "    [(\"preprocessing\", ct),\n",
    "     (\"svc\", SVC())]\n",
    ").set_output(transform=\"pandas\")\n",
    "\n",
    "svc_pipeline4.fit(X, y)\n",
    "\n",
    "y_preds_svc = cross_val_predict(svc_pipeline4, X, y, cv=5)\n",
    "\n",
    "scores = abs(cross_val_score(svc_pipeline4, X, y, cv=5, scoring='f1_macro'))\n",
    "print(scores.mean())\n",
    "\n",
    "print(\"Classification Report:\\n\", classification_report(y, y_preds_svc))"
   ]
  },
  {
   "cell_type": "markdown",
   "metadata": {},
   "source": [
    "### Indica vs. Hybrid"
   ]
  },
  {
   "cell_type": "code",
   "execution_count": 83,
   "metadata": {
    "vscode": {
     "languageId": "python"
    }
   },
   "outputs": [],
   "source": [
    "X = weed_ind_hyb.drop(['Strain', 'Type', 'Effects', 'Flavor', 'Sativa', 'Indica','Hybrid'], axis = 1)\n",
    "y = weed_ind_hyb['Type']"
   ]
  },
  {
   "cell_type": "code",
   "execution_count": 84,
   "metadata": {
    "vscode": {
     "languageId": "python"
    }
   },
   "outputs": [
    {
     "name": "stdout",
     "output_type": "stream",
     "text": [
      "0.7247540971681644\n",
      "Classification Report:\n",
      "               precision    recall  f1-score   support\n",
      "\n",
      "      hybrid       0.79      0.81      0.80      1123\n",
      "      indica       0.66      0.64      0.65       659\n",
      "\n",
      "    accuracy                           0.75      1782\n",
      "   macro avg       0.73      0.72      0.72      1782\n",
      "weighted avg       0.74      0.75      0.74      1782\n",
      "\n",
      "0.7247540971681644\n",
      "Classification Report:\n",
      "               precision    recall  f1-score   support\n",
      "\n",
      "      hybrid       0.79      0.81      0.80      1123\n",
      "      indica       0.66      0.64      0.65       659\n",
      "\n",
      "    accuracy                           0.75      1782\n",
      "   macro avg       0.73      0.72      0.72      1782\n",
      "weighted avg       0.74      0.75      0.74      1782\n",
      "\n"
     ]
    }
   ],
   "source": [
    "logistic_pipeline5 = Pipeline(\n",
    "    [(\"preprocessing\", ct),\n",
    "     (\"logistic\", LogisticRegression())]\n",
    ").set_output(transform=\"pandas\")\n",
    "\n",
    "logistic_pipeline5.fit(X, y)\n",
    "\n",
    "y_preds_log = cross_val_predict(logistic_pipeline5, X, y, cv=5)\n",
    "\n",
    "scores = abs(cross_val_score(logistic_pipeline5, X, y, cv=5, scoring='f1_macro'))\n",
    "print(scores.mean())\n",
    "\n",
    "print(\"Classification Report:\\n\", classification_report(y, y_preds_log))"
   ]
  },
  {
   "cell_type": "code",
   "execution_count": 85,
   "metadata": {
    "vscode": {
     "languageId": "python"
    }
   },
   "outputs": [
    {
     "name": "stdout",
     "output_type": "stream",
     "text": [
      "0.7044380176072776\n",
      "Classification Report:\n",
      "               precision    recall  f1-score   support\n",
      "\n",
      "      hybrid       0.77      0.81      0.79      1123\n",
      "      indica       0.65      0.59      0.62       659\n",
      "\n",
      "    accuracy                           0.73      1782\n",
      "   macro avg       0.71      0.70      0.70      1782\n",
      "weighted avg       0.73      0.73      0.73      1782\n",
      "\n",
      "0.7044380176072776\n",
      "Classification Report:\n",
      "               precision    recall  f1-score   support\n",
      "\n",
      "      hybrid       0.77      0.81      0.79      1123\n",
      "      indica       0.65      0.59      0.62       659\n",
      "\n",
      "    accuracy                           0.73      1782\n",
      "   macro avg       0.71      0.70      0.70      1782\n",
      "weighted avg       0.73      0.73      0.73      1782\n",
      "\n"
     ]
    }
   ],
   "source": [
    "svc_pipeline5 = Pipeline(\n",
    "    [(\"preprocessing\", ct),\n",
    "     (\"svc\", SVC())]\n",
    ").set_output(transform=\"pandas\")\n",
    "\n",
    "svc_pipeline5.fit(X, y)\n",
    "\n",
    "y_preds_svc = cross_val_predict(svc_pipeline5, X, y, cv=5)\n",
    "\n",
    "scores = abs(cross_val_score(svc_pipeline5, X, y, cv=5, scoring='f1_macro'))\n",
    "print(scores.mean())\n",
    "\n",
    "print(\"Classification Report:\\n\", classification_report(y, y_preds_svc))"
   ]
  },
  {
   "cell_type": "markdown",
   "metadata": {},
   "source": [
    "### Hybrid vs. Sativa"
   ]
  },
  {
   "cell_type": "code",
   "execution_count": 86,
   "metadata": {
    "vscode": {
     "languageId": "python"
    }
   },
   "outputs": [],
   "source": [
    "X = weed_hyb_sat.drop(['Strain', 'Type', 'Effects', 'Flavor', 'Sativa', 'Indica','Hybrid'], axis = 1)\n",
    "y = weed_hyb_sat['Type']"
   ]
  },
  {
   "cell_type": "code",
   "execution_count": 87,
   "metadata": {
    "vscode": {
     "languageId": "python"
    }
   },
   "outputs": [
    {
     "name": "stdout",
     "output_type": "stream",
     "text": [
      "0.6228351369085744\n",
      "Classification Report:\n",
      "               precision    recall  f1-score   support\n",
      "\n",
      "      hybrid       0.79      0.89      0.84      1123\n",
      "      sativa       0.54      0.33      0.41       409\n",
      "\n",
      "    accuracy                           0.74      1532\n",
      "   macro avg       0.66      0.61      0.62      1532\n",
      "weighted avg       0.72      0.74      0.72      1532\n",
      "\n",
      "0.6228351369085744\n",
      "Classification Report:\n",
      "               precision    recall  f1-score   support\n",
      "\n",
      "      hybrid       0.79      0.89      0.84      1123\n",
      "      sativa       0.54      0.33      0.41       409\n",
      "\n",
      "    accuracy                           0.74      1532\n",
      "   macro avg       0.66      0.61      0.62      1532\n",
      "weighted avg       0.72      0.74      0.72      1532\n",
      "\n"
     ]
    }
   ],
   "source": [
    "logistic_pipeline6 = Pipeline(\n",
    "    [(\"preprocessing\", ct),\n",
    "     (\"logistic\", LogisticRegression())]\n",
    ").set_output(transform=\"pandas\")\n",
    "\n",
    "logistic_pipeline6.fit(X, y)\n",
    "\n",
    "y_preds_log = cross_val_predict(logistic_pipeline6, X, y, cv=5)\n",
    "\n",
    "scores = abs(cross_val_score(logistic_pipeline6, X, y, cv=5, scoring='f1_macro'))\n",
    "print(scores.mean())\n",
    "\n",
    "print(\"Classification Report:\\n\", classification_report(y, y_preds_log))"
   ]
  },
  {
   "cell_type": "code",
   "execution_count": 88,
   "metadata": {
    "vscode": {
     "languageId": "python"
    }
   },
   "outputs": [
    {
     "name": "stdout",
     "output_type": "stream",
     "text": [
      "0.5723277546033707\n",
      "Classification Report:\n",
      "               precision    recall  f1-score   support\n",
      "\n",
      "      hybrid       0.77      0.93      0.84      1123\n",
      "      sativa       0.52      0.22      0.31       409\n",
      "\n",
      "    accuracy                           0.74      1532\n",
      "   macro avg       0.64      0.57      0.58      1532\n",
      "weighted avg       0.70      0.74      0.70      1532\n",
      "\n",
      "0.5723277546033707\n",
      "Classification Report:\n",
      "               precision    recall  f1-score   support\n",
      "\n",
      "      hybrid       0.77      0.93      0.84      1123\n",
      "      sativa       0.52      0.22      0.31       409\n",
      "\n",
      "    accuracy                           0.74      1532\n",
      "   macro avg       0.64      0.57      0.58      1532\n",
      "weighted avg       0.70      0.74      0.70      1532\n",
      "\n"
     ]
    }
   ],
   "source": [
    "svc_pipeline6 = Pipeline(\n",
    "    [(\"preprocessing\", ct),\n",
    "     (\"svc\", SVC())]\n",
    ").set_output(transform=\"pandas\")\n",
    "\n",
    "svc_pipeline6.fit(X, y)\n",
    "\n",
    "y_preds_svc = cross_val_predict(svc_pipeline6, X, y, cv=5)\n",
    "\n",
    "scores = abs(cross_val_score(svc_pipeline6, X, y, cv=5, scoring='f1_macro'))\n",
    "print(scores.mean())\n",
    "\n",
    "print(\"Classification Report:\\n\", classification_report(y, y_preds_svc))"
   ]
  },
  {
   "cell_type": "markdown",
   "metadata": {},
   "source": [
    "### Q4\n",
    "Which of the six models did the best job distinguishing at differentiating the two groups? Which did the worst? Does this make intuitive sense?\n",
    "\n"
   ]
  },
  {
   "cell_type": "markdown",
   "metadata": {},
   "source": [
    "The model that performed best was the Logistic Regression on Indica vs. Sativa, while the worst model was the Support Vector Classifier on Hybrid vs. Sativa. This matches our findings from earlier that it is easier to differentiate between Sativa and Indica strands than between Hybrid and either Sativa or Indica strands."
   ]
  },
  {
   "cell_type": "markdown",
   "metadata": {},
   "source": [
    "### Q5\n",
    "Suppose you had simply input the full data, with three classes, into the LogisticRegression function. Would this have automatically taken an “OvO” approach or an “OvR” approach? What about for SVC?\n",
    "\n"
   ]
  },
  {
   "cell_type": "markdown",
   "metadata": {},
   "source": [
    "By default, LogisticRegression in scikit-learn uses a One-vs-Rest (OvR) approach for multi-class classification but can use a multinomial approach if specified. SVC, on the other hand, automatically uses a One-vs-One (OvO) approach for multi-class problems."
   ]
  }
 ],
 "metadata": {
  "language_info": {
   "name": "raw"
  }
 },
 "nbformat": 4,
 "nbformat_minor": 2
}
