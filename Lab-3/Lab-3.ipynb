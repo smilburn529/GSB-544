{
 "cells": [
  {
   "cell_type": "raw",
   "metadata": {
    "vscode": {
     "languageId": "raw"
    }
   },
   "source": [
    "---\n",
    "title: \"Lab 3: Singing a song\"\n",
    "author: \"Steve Milburn\"\n",
    "embed-resources: true\n",
    "---"
   ]
  },
  {
   "cell_type": "markdown",
   "metadata": {},
   "source": [
    "## Data set"
   ]
  },
  {
   "cell_type": "code",
   "execution_count": 12,
   "metadata": {},
   "outputs": [],
   "source": [
    "import pandas as pd\n",
    "import numpy as np"
   ]
  },
  {
   "cell_type": "code",
   "execution_count": 13,
   "metadata": {},
   "outputs": [],
   "source": [
    "xmas = pd.read_csv(\"https://www.dropbox.com/scl/fi/qxaslqqp5p08i1650rpc4/xmas.csv?rlkey=erdxi7jbh7pqf9fh4lv4cayp5&dl=1\")\n"
   ]
  },
  {
   "cell_type": "markdown",
   "metadata": {},
   "source": [
    "## Function 1: pluralize_gift()"
   ]
  },
  {
   "cell_type": "code",
   "execution_count": 14,
   "metadata": {},
   "outputs": [],
   "source": [
    "def pluralize_gift(gift):\n",
    "  \"\"\"\n",
    "  Returns plural of a noun\n",
    "  \n",
    "  Parameters\n",
    "  ----------\n",
    "  gift: str\n",
    "    A noun\n",
    "    \n",
    "  Return\n",
    "  ------\n",
    "  str\n",
    "    Plural version\n",
    "  \"\"\"\n",
    "\n",
    "  if gift.find(\"oo\") != -1 :\n",
    "    gift = gift.replace(\"oo\", \"ee\")\n",
    "\n",
    "  elif gift[-1] == \"y\":\n",
    "    gift = gift.replace(\"y\", \"ies\")\n",
    "\n",
    "  else:\n",
    "    gift = gift + \"s\"\n",
    "\n",
    "  return gift"
   ]
  },
  {
   "cell_type": "markdown",
   "metadata": {},
   "source": [
    "### Test Your Function"
   ]
  },
  {
   "cell_type": "code",
   "execution_count": 15,
   "metadata": {},
   "outputs": [
    {
     "data": {
      "text/plain": [
       "'geese'"
      ]
     },
     "execution_count": 15,
     "metadata": {},
     "output_type": "execute_result"
    }
   ],
   "source": [
    "# Should work\n",
    "pluralize_gift(\"goose\")\n"
   ]
  },
  {
   "cell_type": "markdown",
   "metadata": {},
   "source": [
    "## Function 2: make_phrase()"
   ]
  },
  {
   "cell_type": "code",
   "execution_count": 16,
   "metadata": {},
   "outputs": [],
   "source": [
    "def make_phrase(num, num_word, item, verb, adjective, location):\n",
    "  \"\"\"\n",
    "   Constructs a phrase given parameters.\n",
    "    \n",
    "    Parameters\n",
    "    ----------\n",
    "    num : int\n",
    "        Numeric value for the gift.\n",
    "    num_word : str\n",
    "         Number in word form (One, Two, etc.).\n",
    "    item : str\n",
    "        The gift item.\n",
    "    verb : str \n",
    "        The verb connected to the gift (can have NaNs).\n",
    "    adjective : str\n",
    "        The adjective of the gift (can have NaNs).\n",
    "    location : str\n",
    "        The location of the gift(can have NaNs).\n",
    "    \n",
    "    Returns\n",
    "    -------\n",
    "    str\n",
    "        A phrase for the gift.\n",
    "  \"\"\"\n",
    "  \n",
    "  ## Step 1: Replace NAs with blank strings\n",
    "  if pd.isnull(verb):\n",
    "    verb= \"\"\n",
    "\n",
    "  if pd.isnull(adjective):\n",
    "    adjective= \"\"\n",
    "\n",
    "  if pd.isnull(location):\n",
    "    location= \"\"\n",
    "  \n",
    "  ## Step 2: If the day number is larger than 1, the gift items need pluralized!\n",
    "  ### Hint: call the function you created above!\n",
    "  if num > 1:\n",
    "    item = pluralize_gift(item)\n",
    "  \n",
    "  ## Step 3: Figure out if a gift item starts with a vowel\n",
    "  \n",
    "  vowels = ['a', 'e', 'i', 'o', 'u', 'A', 'E', 'I', 'O', 'U']\n",
    "  isVowel = item[0] in vowels\n",
    "  \n",
    "  ## Step 4: For the first day, if the gift item starts with a vowel, \n",
    "  # replace the day with \"an\" and if the gift item does not start with a vowel, \n",
    "  # replace the day with \"a\" (e.g. a partridge in a pear tree). If it is not the first day, \n",
    "  # use just the number word (e.g. ten lords a leap)\n",
    "  \n",
    "  if num == 1:\n",
    "    if isVowel == True:\n",
    "      num_word = \"an\"\n",
    "    else:\n",
    "      num_word = \"a\"\n",
    "\n",
    "  ## Step 5: Put all of the pieces together into one string and return!\n",
    "  text = num_word + \" \"+ adjective + \" \"+ item+\" \" + verb + location\n",
    "  return text.replace(\"  \", \" \").strip()\n",
    "\n"
   ]
  },
  {
   "cell_type": "markdown",
   "metadata": {},
   "source": [
    "### Test Your Function"
   ]
  },
  {
   "cell_type": "code",
   "execution_count": 17,
   "metadata": {},
   "outputs": [
    {
     "data": {
      "text/plain": [
       "'six geese a-laying'"
      ]
     },
     "execution_count": 17,
     "metadata": {},
     "output_type": "execute_result"
    }
   ],
   "source": [
    "# testing make_phrase\n",
    "num = 6\n",
    "num_word = \"six\"\n",
    "item = \"goose\"\n",
    "verb =\"a-laying\"\n",
    "adjective=\"\"\n",
    "location=\"\"\n",
    "\n",
    "make_phrase(num, num_word, item, verb, adjective, location)\n"
   ]
  },
  {
   "cell_type": "markdown",
   "metadata": {},
   "source": [
    "## Function 3: sing_day()"
   ]
  },
  {
   "cell_type": "code",
   "execution_count": 18,
   "metadata": {},
   "outputs": [],
   "source": [
    "def sing_day(dataset, num, phrase_col):\n",
    "  \"\"\"\n",
    "    Returns the song for specified 'num' day of Christmas with the gifts from dataset.\n",
    "    \n",
    "    Parameters\n",
    "    ----------\n",
    "    dataset : pd.DataFrame\n",
    "         DataFrame containing the gifts for each day.).\n",
    "    num : int\n",
    "         Numeric value for current day of Christmas.\n",
    "    phrase_col : str\n",
    "        The column name in the dataset where the gift phrases are located.\n",
    "    \n",
    "    Returns\n",
    "    -------\n",
    "    str\n",
    "        The song lyrics for the current day.\n",
    "  \"\"\"\n",
    "\n",
    "  number_to_word= {\n",
    "    \"first\": 'one',\n",
    "    \"second\": 'two',\n",
    "    \"third\": 'three',\n",
    "    \"fourth\": 'four',\n",
    "    \"fifth\": 'five',\n",
    "    \"sixth\": 'six',\n",
    "    \"seventh\": 'seven',\n",
    "    \"eighth\": 'eight',\n",
    "    \"ninth\": 'nine',\n",
    "    'tenth': 'ten',\n",
    "    \"eleventh\": 'eleven',\n",
    "    \"twelfth\": 'twelve'\n",
    "}\n",
    "  \n",
    "  dataset['Day.Words']= dataset[\"Day.in.Words\"].map(number_to_word)\n",
    "\n",
    "  dataset[phrase_col] = dataset.apply(lambda day: make_phrase(day['Day'],\n",
    "                                          day['Day.Words'],\n",
    "                                          day['Gift.Item'],\n",
    "                                          day['Verb'],\n",
    "                                          day['Adjective'],\n",
    "                                          day['Location']), axis=1)\n",
    "\n",
    "  get_word = {\n",
    "    1: 'first',\n",
    "    2: 'second',\n",
    "    3: 'third',\n",
    "    4: 'fourth',\n",
    "    5: 'fifth',\n",
    "    6: 'sixth',\n",
    "    7: 'seventh',\n",
    "    8: 'eighth',\n",
    "    9: 'ninth',\n",
    "    10: 'tenth',\n",
    "    11: 'eleventh',\n",
    "    12: 'twelfth'}\n",
    "  \n",
    "  # Step 1: Setup the intro line\n",
    "  num_word = get_word.get(num)  # convert \"1\" to \"first\" etc.\n",
    "  intro = \"On the \" + num_word + \" day of Christmas, my true love sent to me:\"\n",
    "  \n",
    "  # Step 2: Sing the gift phrases\n",
    "  # Hint: What order are they gifts sung in each day?\n",
    "  gifts = \"\"\n",
    "  nums = np.arange(num,0,-1)\n",
    "  for i in nums:\n",
    "    if i == 2:\n",
    "      gifts = gifts + \" \" + dataset.iloc[i-1][phrase_col]+ \", \" + \"and\" + \"\\n\"\n",
    "    else:\n",
    "      gifts = gifts + \" \" + dataset.iloc[i-1][phrase_col]+ \",\" +\"\\n\"\n",
    "\n",
    "  # Step 3: Put it all together and return\n",
    "\n",
    "  final = intro +\"\\n\" + gifts\n",
    "  return final[:-2] + \".\"\n"
   ]
  },
  {
   "cell_type": "markdown",
   "metadata": {},
   "source": [
    "### Test your function"
   ]
  },
  {
   "cell_type": "code",
   "execution_count": 19,
   "metadata": {},
   "outputs": [
    {
     "name": "stdout",
     "output_type": "stream",
     "text": [
      "On the third day of Christmas, my true love sent to me:\n",
      " three french hens,\n",
      " two turtle doves, and\n",
      " a partridge in a pear tree.\n"
     ]
    }
   ],
   "source": [
    "print(sing_day(xmas, 3, \"Full.Phrase\"))\n"
   ]
  },
  {
   "cell_type": "markdown",
   "metadata": {},
   "source": [
    "## Use Your Functions!"
   ]
  },
  {
   "cell_type": "code",
   "execution_count": 20,
   "metadata": {},
   "outputs": [
    {
     "name": "stdout",
     "output_type": "stream",
     "text": [
      "On the first day of Christmas, my true love sent to me:\n",
      " a partridge in a pear tree.\n",
      "\n",
      "On the second day of Christmas, my true love sent to me:\n",
      " two turtle doves, and\n",
      " a partridge in a pear tree.\n",
      "\n",
      "On the third day of Christmas, my true love sent to me:\n",
      " three french hens,\n",
      " two turtle doves, and\n",
      " a partridge in a pear tree.\n",
      "\n",
      "On the fourth day of Christmas, my true love sent to me:\n",
      " four calling birds,\n",
      " three french hens,\n",
      " two turtle doves, and\n",
      " a partridge in a pear tree.\n",
      "\n",
      "On the fifth day of Christmas, my true love sent to me:\n",
      " five golden rings,\n",
      " four calling birds,\n",
      " three french hens,\n",
      " two turtle doves, and\n",
      " a partridge in a pear tree.\n",
      "\n",
      "On the sixth day of Christmas, my true love sent to me:\n",
      " six geese a-laying,\n",
      " five golden rings,\n",
      " four calling birds,\n",
      " three french hens,\n",
      " two turtle doves, and\n",
      " a partridge in a pear tree.\n",
      "\n",
      "On the seventh day of Christmas, my true love sent to me:\n",
      " seven swans a-swimming,\n",
      " six geese a-laying,\n",
      " five golden rings,\n",
      " four calling birds,\n",
      " three french hens,\n",
      " two turtle doves, and\n",
      " a partridge in a pear tree.\n",
      "\n",
      "On the eighth day of Christmas, my true love sent to me:\n",
      " eight maids a-milking,\n",
      " seven swans a-swimming,\n",
      " six geese a-laying,\n",
      " five golden rings,\n",
      " four calling birds,\n",
      " three french hens,\n",
      " two turtle doves, and\n",
      " a partridge in a pear tree.\n",
      "\n",
      "On the ninth day of Christmas, my true love sent to me:\n",
      " nine ladies dancing,\n",
      " eight maids a-milking,\n",
      " seven swans a-swimming,\n",
      " six geese a-laying,\n",
      " five golden rings,\n",
      " four calling birds,\n",
      " three french hens,\n",
      " two turtle doves, and\n",
      " a partridge in a pear tree.\n",
      "\n",
      "On the tenth day of Christmas, my true love sent to me:\n",
      " ten lords a-leaping,\n",
      " nine ladies dancing,\n",
      " eight maids a-milking,\n",
      " seven swans a-swimming,\n",
      " six geese a-laying,\n",
      " five golden rings,\n",
      " four calling birds,\n",
      " three french hens,\n",
      " two turtle doves, and\n",
      " a partridge in a pear tree.\n",
      "\n",
      "On the eleventh day of Christmas, my true love sent to me:\n",
      " eleven pipers piping,\n",
      " ten lords a-leaping,\n",
      " nine ladies dancing,\n",
      " eight maids a-milking,\n",
      " seven swans a-swimming,\n",
      " six geese a-laying,\n",
      " five golden rings,\n",
      " four calling birds,\n",
      " three french hens,\n",
      " two turtle doves, and\n",
      " a partridge in a pear tree.\n",
      "\n",
      "On the twelfth day of Christmas, my true love sent to me:\n",
      " twelve drummers drumming,\n",
      " eleven pipers piping,\n",
      " ten lords a-leaping,\n",
      " nine ladies dancing,\n",
      " eight maids a-milking,\n",
      " seven swans a-swimming,\n",
      " six geese a-laying,\n",
      " five golden rings,\n",
      " four calling birds,\n",
      " three french hens,\n",
      " two turtle doves, and\n",
      " a partridge in a pear tree.\n"
     ]
    }
   ],
   "source": [
    "song = map(lambda i: sing_day(xmas, i, \"Full.Phrase\"), range(1,13))\n",
    "print(\"\\n\\n\".join(list(song)))\n"
   ]
  },
  {
   "cell_type": "code",
   "execution_count": 21,
   "metadata": {},
   "outputs": [],
   "source": [
    "xmas2 = pd.read_csv(\"https://www.dropbox.com/scl/fi/p9x9k8xwuzs9rhp582vfy/xmas_2.csv?rlkey=kvc3j3lmyn4opcidsrhcmrof1&dl=1\")"
   ]
  },
  {
   "cell_type": "code",
   "execution_count": 22,
   "metadata": {},
   "outputs": [
    {
     "name": "stdout",
     "output_type": "stream",
     "text": [
      "On the first day of Christmas, my true love sent to me:\n",
      " an email from Cal Poly.\n",
      "\n",
      "On the second day of Christmas, my true love sent to me:\n",
      " two meal points, and\n",
      " an email from Cal Poly.\n",
      "\n",
      "On the third day of Christmas, my true love sent to me:\n",
      " three lost pens,\n",
      " two meal points, and\n",
      " an email from Cal Poly.\n",
      "\n",
      "On the fourth day of Christmas, my true love sent to me:\n",
      " four course reviews,\n",
      " three lost pens,\n",
      " two meal points, and\n",
      " an email from Cal Poly.\n",
      "\n",
      "On the fifth day of Christmas, my true love sent to me:\n",
      " five practice exams,\n",
      " four course reviews,\n",
      " three lost pens,\n",
      " two meal points, and\n",
      " an email from Cal Poly.\n",
      "\n",
      "On the sixth day of Christmas, my true love sent to me:\n",
      " six graders grading,\n",
      " five practice exams,\n",
      " four course reviews,\n",
      " three lost pens,\n",
      " two meal points, and\n",
      " an email from Cal Poly.\n",
      "\n",
      "On the seventh day of Christmas, my true love sent to me:\n",
      " seven seniors stressing,\n",
      " six graders grading,\n",
      " five practice exams,\n",
      " four course reviews,\n",
      " three lost pens,\n",
      " two meal points, and\n",
      " an email from Cal Poly.\n",
      "\n",
      "On the eighth day of Christmas, my true love sent to me:\n",
      " eight moms a-calling,\n",
      " seven seniors stressing,\n",
      " six graders grading,\n",
      " five practice exams,\n",
      " four course reviews,\n",
      " three lost pens,\n",
      " two meal points, and\n",
      " an email from Cal Poly.\n",
      "\n",
      "On the ninth day of Christmas, my true love sent to me:\n",
      " nine parties bumping,\n",
      " eight moms a-calling,\n",
      " seven seniors stressing,\n",
      " six graders grading,\n",
      " five practice exams,\n",
      " four course reviews,\n",
      " three lost pens,\n",
      " two meal points, and\n",
      " an email from Cal Poly.\n",
      "\n",
      "On the tenth day of Christmas, my true love sent to me:\n",
      " ten loads of laundry,\n",
      " nine parties bumping,\n",
      " eight moms a-calling,\n",
      " seven seniors stressing,\n",
      " six graders grading,\n",
      " five practice exams,\n",
      " four course reviews,\n",
      " three lost pens,\n",
      " two meal points, and\n",
      " an email from Cal Poly.\n",
      "\n",
      "On the eleventh day of Christmas, my true love sent to me:\n",
      " eleven friends goodbye-ing,\n",
      " ten loads of laundry,\n",
      " nine parties bumping,\n",
      " eight moms a-calling,\n",
      " seven seniors stressing,\n",
      " six graders grading,\n",
      " five practice exams,\n",
      " four course reviews,\n",
      " three lost pens,\n",
      " two meal points, and\n",
      " an email from Cal Poly.\n",
      "\n",
      "On the twelfth day of Christmas, my true love sent to me:\n",
      " twelve hours sleeping,\n",
      " eleven friends goodbye-ing,\n",
      " ten loads of laundry,\n",
      " nine parties bumping,\n",
      " eight moms a-calling,\n",
      " seven seniors stressing,\n",
      " six graders grading,\n",
      " five practice exams,\n",
      " four course reviews,\n",
      " three lost pens,\n",
      " two meal points, and\n",
      " an email from Cal Poly.\n"
     ]
    }
   ],
   "source": [
    "song = map(lambda i: sing_day(xmas2, i, \"Full.Phrase\"), range(1,13))\n",
    "print(\"\\n\\n\".join(list(song)))"
   ]
  }
 ],
 "metadata": {
  "kernelspec": {
   "display_name": "Python 3",
   "language": "python",
   "name": "python3"
  },
  "language_info": {
   "codemirror_mode": {
    "name": "ipython",
    "version": 3
   },
   "file_extension": ".py",
   "mimetype": "text/x-python",
   "name": "python",
   "nbconvert_exporter": "python",
   "pygments_lexer": "ipython3",
   "version": "3.12.1"
  }
 },
 "nbformat": 4,
 "nbformat_minor": 2
}
